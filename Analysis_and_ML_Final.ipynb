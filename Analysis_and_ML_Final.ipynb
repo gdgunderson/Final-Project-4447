{
 "cells": [
  {
   "metadata": {},
   "cell_type": "markdown",
   "source": [
    "# Analysis and Machine Learning for Understanding The Impact of Geographical and Socioeconomic Factors on U.S. Home Prices\n",
    "Authors: Grayson Gunderson and Victor Cairo"
   ],
   "id": "a4c53403161b09c5"
  },
  {
   "cell_type": "code",
   "id": "5220d50e-e457-44b5-baec-7a24d276b072",
   "metadata": {
    "scrolled": true,
    "ExecuteTime": {
     "end_time": "2024-11-10T19:45:11.618462Z",
     "start_time": "2024-11-10T19:45:11.031960Z"
    }
   },
   "source": [
    "import os\n",
    "from scipy.stats import shapiro\n",
    "from sklearn.pipeline import Pipeline\n",
    "from sklearn.preprocessing import StandardScaler\n",
    "from sklearn.model_selection import train_test_split\n",
    "from sklearn.metrics import root_mean_squared_error\n",
    "from sklearn.impute import KNNImputer\n",
    "from sklearn.ensemble import RandomForestRegressor, GradientBoostingRegressor\n",
    "from sklearn.tree import DecisionTreeRegressor\n",
    "from sklearn.linear_model import LinearRegression\n",
    "from sklearn.model_selection import GridSearchCV\n",
    "import pandas as pd\n",
    "import numpy as np\n",
    "import seaborn as sns\n",
    "import matplotlib.pyplot as plt\n",
    "import random\n",
    "current_path = os.getcwd()\n",
    "print(current_path)\n",
    "from sklearn.preprocessing import MinMaxScaler\n",
    "from read_data.read_listings_tracts_census import read_listings_tracts_census\n",
    "from read_data.listings_and_tracts import merge_listings_and_tracts"
   ],
   "outputs": [
    {
     "name": "stdout",
     "output_type": "stream",
     "text": [
      "/Users/vmcairos/Documents/github_personal/du/Final-Project-4447\n"
     ]
    },
    {
     "ename": "ModuleNotFoundError",
     "evalue": "No module named 'listings_and_tracts'",
     "output_type": "error",
     "traceback": [
      "\u001B[0;31m---------------------------------------------------------------------------\u001B[0m",
      "\u001B[0;31mModuleNotFoundError\u001B[0m                       Traceback (most recent call last)",
      "Cell \u001B[0;32mIn[1], line 20\u001B[0m\n\u001B[1;32m     18\u001B[0m \u001B[38;5;28mprint\u001B[39m(current_path)\n\u001B[1;32m     19\u001B[0m \u001B[38;5;28;01mfrom\u001B[39;00m \u001B[38;5;21;01msklearn\u001B[39;00m\u001B[38;5;21;01m.\u001B[39;00m\u001B[38;5;21;01mpreprocessing\u001B[39;00m \u001B[38;5;28;01mimport\u001B[39;00m MinMaxScaler\n\u001B[0;32m---> 20\u001B[0m \u001B[38;5;28;01mfrom\u001B[39;00m \u001B[38;5;21;01mread_data\u001B[39;00m\u001B[38;5;21;01m.\u001B[39;00m\u001B[38;5;21;01mread_listings_tracts_census\u001B[39;00m \u001B[38;5;28;01mimport\u001B[39;00m read_listings_tracts_census\n\u001B[1;32m     21\u001B[0m \u001B[38;5;28;01mfrom\u001B[39;00m \u001B[38;5;21;01mread_data\u001B[39;00m\u001B[38;5;21;01m.\u001B[39;00m\u001B[38;5;21;01mlistings_and_tracts\u001B[39;00m \u001B[38;5;28;01mimport\u001B[39;00m merge_listings_and_tracts\n",
      "File \u001B[0;32m~/Documents/github_personal/du/Final-Project-4447/read_data/read_listings_tracts_census.py:3\u001B[0m\n\u001B[1;32m      1\u001B[0m \u001B[38;5;28;01mimport\u001B[39;00m \u001B[38;5;21;01mpandas\u001B[39;00m \u001B[38;5;28;01mas\u001B[39;00m \u001B[38;5;21;01mpd\u001B[39;00m\n\u001B[0;32m----> 3\u001B[0m \u001B[38;5;28;01mfrom\u001B[39;00m \u001B[38;5;21;01mlistings_and_tracts\u001B[39;00m \u001B[38;5;28;01mimport\u001B[39;00m merge_listings_and_tracts\n\u001B[1;32m      4\u001B[0m \u001B[38;5;28;01mdef\u001B[39;00m \u001B[38;5;21mread_listings_tracts_census\u001B[39m(\n\u001B[1;32m      5\u001B[0m         path_to_tracts: \u001B[38;5;28mstr\u001B[39m \u001B[38;5;241m|\u001B[39m \u001B[38;5;28;01mNone\u001B[39;00m \u001B[38;5;241m=\u001B[39m \u001B[38;5;28;01mNone\u001B[39;00m,\n\u001B[1;32m      6\u001B[0m         path_to_listings: \u001B[38;5;28mstr\u001B[39m \u001B[38;5;241m|\u001B[39m \u001B[38;5;28;01mNone\u001B[39;00m \u001B[38;5;241m=\u001B[39m \u001B[38;5;28;01mNone\u001B[39;00m,\n\u001B[1;32m      7\u001B[0m         path_to_census: \u001B[38;5;28mstr\u001B[39m \u001B[38;5;241m|\u001B[39m \u001B[38;5;28;01mNone\u001B[39;00m \u001B[38;5;241m=\u001B[39m \u001B[38;5;28;01mNone\u001B[39;00m\n\u001B[1;32m      8\u001B[0m ):\n\u001B[1;32m      9\u001B[0m \u001B[38;5;250m    \u001B[39m\u001B[38;5;124;03m'''\u001B[39;00m\n\u001B[1;32m     10\u001B[0m \u001B[38;5;124;03m    This function puts together all data sources into a single DataFrame\u001B[39;00m\n\u001B[1;32m     11\u001B[0m \n\u001B[0;32m   (...)\u001B[0m\n\u001B[1;32m     15\u001B[0m \u001B[38;5;124;03m    :return: df (pandas.DataFrame)\u001B[39;00m\n\u001B[1;32m     16\u001B[0m \u001B[38;5;124;03m    '''\u001B[39;00m\n",
      "\u001B[0;31mModuleNotFoundError\u001B[0m: No module named 'listings_and_tracts'"
     ]
    }
   ],
   "execution_count": 1
  },
  {
   "cell_type": "markdown",
   "id": "2a7410b3-4444-41e9-b172-7455cb5a1d2b",
   "metadata": {},
   "source": [
    "The code block below leverages the imported function read_listings_tracts_census() from 'read_listings_tracts_census.py'. This function merges the three dataframes that were created in seperate python scripts into a single dataframe."
   ]
  },
  {
   "cell_type": "code",
   "id": "f3418886-eb6f-4b28-b048-5935b12aadff",
   "metadata": {
    "scrolled": true,
    "ExecuteTime": {
     "end_time": "2024-11-10T19:45:11.989896Z",
     "start_time": "2024-11-10T19:45:11.979428Z"
    }
   },
   "source": [
    "# import merged_df and read_listings_tracts_census() function\n",
    "path_to_census = 'Census_Data'\n",
    "path_to_listings = 'housing_api/listings'\n",
    "path_to_tracts = 'shapefile_data'\n",
    "merged_df = read_listings_tracts_census(\n",
    "    path_to_census=path_to_census,\n",
    "    path_to_listings=path_to_listings,\n",
    "    path_to_tracts=path_to_tracts,\n",
    ")\n",
    "\n",
    "listings_tracts_df = merge_listings_and_tracts(\n",
    "    path_to_listings=path_to_listings,\n",
    "    path_to_tracts=path_to_tracts)\n",
    "\n",
    "census_df = pd.read_parquet('Census_Data/df_census.parquet')"
   ],
   "outputs": [
    {
     "ename": "NameError",
     "evalue": "name 'read_listings_tracts_census' is not defined",
     "output_type": "error",
     "traceback": [
      "\u001B[0;31m---------------------------------------------------------------------------\u001B[0m",
      "\u001B[0;31mNameError\u001B[0m                                 Traceback (most recent call last)",
      "Cell \u001B[0;32mIn[2], line 5\u001B[0m\n\u001B[1;32m      3\u001B[0m path_to_listings \u001B[38;5;241m=\u001B[39m \u001B[38;5;124m'\u001B[39m\u001B[38;5;124mhousing_api/listings\u001B[39m\u001B[38;5;124m'\u001B[39m\n\u001B[1;32m      4\u001B[0m path_to_tracts \u001B[38;5;241m=\u001B[39m \u001B[38;5;124m'\u001B[39m\u001B[38;5;124mshapefile_data\u001B[39m\u001B[38;5;124m'\u001B[39m\n\u001B[0;32m----> 5\u001B[0m merged_df \u001B[38;5;241m=\u001B[39m \u001B[43mread_listings_tracts_census\u001B[49m(\n\u001B[1;32m      6\u001B[0m     path_to_census\u001B[38;5;241m=\u001B[39mpath_to_census,\n\u001B[1;32m      7\u001B[0m     path_to_listings\u001B[38;5;241m=\u001B[39mpath_to_listings,\n\u001B[1;32m      8\u001B[0m     path_to_tracts\u001B[38;5;241m=\u001B[39mpath_to_tracts,\n\u001B[1;32m      9\u001B[0m )\n\u001B[1;32m     11\u001B[0m listings_tracts_df \u001B[38;5;241m=\u001B[39m merge_listings_and_tracts(\n\u001B[1;32m     12\u001B[0m     path_to_listings\u001B[38;5;241m=\u001B[39mpath_to_listings,\n\u001B[1;32m     13\u001B[0m     path_to_tracts\u001B[38;5;241m=\u001B[39mpath_to_tracts)\n\u001B[1;32m     15\u001B[0m census_df \u001B[38;5;241m=\u001B[39m pd\u001B[38;5;241m.\u001B[39mread_parquet(\u001B[38;5;124m'\u001B[39m\u001B[38;5;124mCensus_Data/df_census.parquet\u001B[39m\u001B[38;5;124m'\u001B[39m)\n",
      "\u001B[0;31mNameError\u001B[0m: name 'read_listings_tracts_census' is not defined"
     ]
    }
   ],
   "execution_count": 2
  },
  {
   "cell_type": "code",
   "id": "8db581ad-2abe-4116-852e-e994b2aa415e",
   "metadata": {
    "ExecuteTime": {
     "end_time": "2024-11-10T19:45:12.045113Z",
     "start_time": "2024-11-10T19:45:12.037140Z"
    }
   },
   "source": [
    "merged_df"
   ],
   "outputs": [
    {
     "ename": "NameError",
     "evalue": "name 'merged_df' is not defined",
     "output_type": "error",
     "traceback": [
      "\u001B[0;31m---------------------------------------------------------------------------\u001B[0m",
      "\u001B[0;31mNameError\u001B[0m                                 Traceback (most recent call last)",
      "Cell \u001B[0;32mIn[3], line 1\u001B[0m\n\u001B[0;32m----> 1\u001B[0m \u001B[43mmerged_df\u001B[49m\n",
      "\u001B[0;31mNameError\u001B[0m: name 'merged_df' is not defined"
     ]
    }
   ],
   "execution_count": 3
  },
  {
   "cell_type": "markdown",
   "id": "e34e654a381959c2",
   "metadata": {},
   "source": [
    "## Descriptive Statistics\n",
    "Many of the features in our data are on different scales. For example, the area features has a maximum value of 9.0, while median_house_hold income has a maximum value of 237,188.0. These differences in scale can lead to ML models overstating the importance of variables on a smaller scale, and understating the importance of of variables on a larger scale. "
   ]
  },
  {
   "cell_type": "code",
   "id": "da09b95a-0c7f-4e20-9284-699580c305fc",
   "metadata": {
    "ExecuteTime": {
     "end_time": "2024-11-10T19:45:13.020552Z",
     "start_time": "2024-11-10T19:45:12.991372Z"
    }
   },
   "source": [
    "merged_df.describe().T.round(1)"
   ],
   "outputs": [
    {
     "ename": "NameError",
     "evalue": "name 'merged_df' is not defined",
     "output_type": "error",
     "traceback": [
      "\u001B[0;31m---------------------------------------------------------------------------\u001B[0m",
      "\u001B[0;31mNameError\u001B[0m                                 Traceback (most recent call last)",
      "Cell \u001B[0;32mIn[4], line 1\u001B[0m\n\u001B[0;32m----> 1\u001B[0m \u001B[43mmerged_df\u001B[49m\u001B[38;5;241m.\u001B[39mdescribe()\u001B[38;5;241m.\u001B[39mT\u001B[38;5;241m.\u001B[39mround(\u001B[38;5;241m1\u001B[39m)\n",
      "\u001B[0;31mNameError\u001B[0m: name 'merged_df' is not defined"
     ]
    }
   ],
   "execution_count": 4
  },
  {
   "cell_type": "markdown",
   "id": "1aaef4f05f90d6ea",
   "metadata": {},
   "source": [
    "## Missing Values Analysis"
   ]
  },
  {
   "cell_type": "code",
   "id": "f38c20cc-d0dc-4b67-8a0b-186768bb5706",
   "metadata": {
    "scrolled": true,
    "ExecuteTime": {
     "end_time": "2024-11-10T19:45:13.082602Z",
     "start_time": "2024-11-10T19:45:13.073036Z"
    }
   },
   "source": [
    "# Check for missing values in each column\n",
    "missing_values = merged_df.isnull().sum()\n",
    "print(missing_values[missing_values > 0].sort_values(ascending=False))"
   ],
   "outputs": [
    {
     "ename": "NameError",
     "evalue": "name 'merged_df' is not defined",
     "output_type": "error",
     "traceback": [
      "\u001B[0;31m---------------------------------------------------------------------------\u001B[0m",
      "\u001B[0;31mNameError\u001B[0m                                 Traceback (most recent call last)",
      "Cell \u001B[0;32mIn[5], line 2\u001B[0m\n\u001B[1;32m      1\u001B[0m \u001B[38;5;66;03m# Check for missing values in each column\u001B[39;00m\n\u001B[0;32m----> 2\u001B[0m missing_values \u001B[38;5;241m=\u001B[39m \u001B[43mmerged_df\u001B[49m\u001B[38;5;241m.\u001B[39misnull()\u001B[38;5;241m.\u001B[39msum()\n\u001B[1;32m      3\u001B[0m \u001B[38;5;28mprint\u001B[39m(missing_values[missing_values \u001B[38;5;241m>\u001B[39m \u001B[38;5;241m0\u001B[39m]\u001B[38;5;241m.\u001B[39msort_values(ascending\u001B[38;5;241m=\u001B[39m\u001B[38;5;28;01mFalse\u001B[39;00m))\n",
      "\u001B[0;31mNameError\u001B[0m: name 'merged_df' is not defined"
     ]
    }
   ],
   "execution_count": 5
  },
  {
   "cell_type": "code",
   "id": "ec8bf551-89bd-4985-b5ae-69a4368b4005",
   "metadata": {
    "ExecuteTime": {
     "end_time": "2024-11-10T19:45:13.190347Z",
     "start_time": "2024-11-10T19:45:13.180131Z"
    }
   },
   "source": [
    "# check which df NA values in merged_df are originating\n",
    "listings_tracts_df.isna().sum()"
   ],
   "outputs": [
    {
     "ename": "NameError",
     "evalue": "name 'listings_tracts_df' is not defined",
     "output_type": "error",
     "traceback": [
      "\u001B[0;31m---------------------------------------------------------------------------\u001B[0m",
      "\u001B[0;31mNameError\u001B[0m                                 Traceback (most recent call last)",
      "Cell \u001B[0;32mIn[6], line 2\u001B[0m\n\u001B[1;32m      1\u001B[0m \u001B[38;5;66;03m# check which df NA values in merged_df are originating\u001B[39;00m\n\u001B[0;32m----> 2\u001B[0m \u001B[43mlistings_tracts_df\u001B[49m\u001B[38;5;241m.\u001B[39misna()\u001B[38;5;241m.\u001B[39msum()\n",
      "\u001B[0;31mNameError\u001B[0m: name 'listings_tracts_df' is not defined"
     ]
    }
   ],
   "execution_count": 6
  },
  {
   "cell_type": "code",
   "id": "ec810019-57ba-4399-ab8a-1e90ca04bfeb",
   "metadata": {
    "ExecuteTime": {
     "end_time": "2024-11-10T19:45:13.280176Z",
     "start_time": "2024-11-10T19:45:13.271241Z"
    }
   },
   "source": [
    "# check which df NA values in merged_df are originating\n",
    "census_df.isna().sum()"
   ],
   "outputs": [
    {
     "ename": "NameError",
     "evalue": "name 'census_df' is not defined",
     "output_type": "error",
     "traceback": [
      "\u001B[0;31m---------------------------------------------------------------------------\u001B[0m",
      "\u001B[0;31mNameError\u001B[0m                                 Traceback (most recent call last)",
      "Cell \u001B[0;32mIn[7], line 2\u001B[0m\n\u001B[1;32m      1\u001B[0m \u001B[38;5;66;03m# check which df NA values in merged_df are originating\u001B[39;00m\n\u001B[0;32m----> 2\u001B[0m \u001B[43mcensus_df\u001B[49m\u001B[38;5;241m.\u001B[39misna()\u001B[38;5;241m.\u001B[39msum()\n",
      "\u001B[0;31mNameError\u001B[0m: name 'census_df' is not defined"
     ]
    }
   ],
   "execution_count": 7
  },
  {
   "cell_type": "markdown",
   "id": "584616bd-be8c-41d2-a0dd-0f433d4dff35",
   "metadata": {},
   "source": [
    "# Distribution of Target-Variable"
   ]
  },
  {
   "cell_type": "code",
   "id": "29ff915d-2211-47da-b45f-f1ce92b7f0d1",
   "metadata": {
    "scrolled": true,
    "ExecuteTime": {
     "end_time": "2024-11-10T19:45:13.436746Z",
     "start_time": "2024-11-10T19:45:13.311426Z"
    }
   },
   "source": [
    "# plot distribution of 'price'\n",
    "plt.figure(figsize=(10, 6))\n",
    "sns.histplot(merged_df['price'], kde=True)\n",
    "plt.title('Distribution of Housing Price (Target-Variable)', fontweight='bold')\n",
    "plt.tight_layout()\n",
    "plt.show()"
   ],
   "outputs": [
    {
     "ename": "NameError",
     "evalue": "name 'merged_df' is not defined",
     "output_type": "error",
     "traceback": [
      "\u001B[0;31m---------------------------------------------------------------------------\u001B[0m",
      "\u001B[0;31mNameError\u001B[0m                                 Traceback (most recent call last)",
      "Cell \u001B[0;32mIn[8], line 3\u001B[0m\n\u001B[1;32m      1\u001B[0m \u001B[38;5;66;03m# plot distribution of 'price'\u001B[39;00m\n\u001B[1;32m      2\u001B[0m plt\u001B[38;5;241m.\u001B[39mfigure(figsize\u001B[38;5;241m=\u001B[39m(\u001B[38;5;241m10\u001B[39m, \u001B[38;5;241m6\u001B[39m))\n\u001B[0;32m----> 3\u001B[0m sns\u001B[38;5;241m.\u001B[39mhistplot(\u001B[43mmerged_df\u001B[49m[\u001B[38;5;124m'\u001B[39m\u001B[38;5;124mprice\u001B[39m\u001B[38;5;124m'\u001B[39m], kde\u001B[38;5;241m=\u001B[39m\u001B[38;5;28;01mTrue\u001B[39;00m)\n\u001B[1;32m      4\u001B[0m plt\u001B[38;5;241m.\u001B[39mtitle(\u001B[38;5;124m'\u001B[39m\u001B[38;5;124mDistribution of Housing Price (Target-Variable)\u001B[39m\u001B[38;5;124m'\u001B[39m, fontweight\u001B[38;5;241m=\u001B[39m\u001B[38;5;124m'\u001B[39m\u001B[38;5;124mbold\u001B[39m\u001B[38;5;124m'\u001B[39m)\n\u001B[1;32m      5\u001B[0m plt\u001B[38;5;241m.\u001B[39mtight_layout()\n",
      "\u001B[0;31mNameError\u001B[0m: name 'merged_df' is not defined"
     ]
    },
    {
     "data": {
      "text/plain": [
       "<Figure size 1000x600 with 0 Axes>"
      ]
     },
     "metadata": {},
     "output_type": "display_data"
    }
   ],
   "execution_count": 8
  },
  {
   "cell_type": "markdown",
   "id": "caa2d5ae-fd94-40ff-af85-8a21f367fd74",
   "metadata": {},
   "source": [
    "The distribution of the target variable is right-skewed. There are a higher concentration of data points on the left. There are far more houses in the price-range 0 to 5 Million then there are in the price range of 5 Million to 10 Million. However there are houses that are priced far outside the typical range, the maximum of which is priced at 40 Million. This distribution implies that the mean housing price will be larger than the median housing price. "
   ]
  },
  {
   "cell_type": "code",
   "id": "aabb087a-af5b-4cc6-9886-f24332d7daf2",
   "metadata": {
    "ExecuteTime": {
     "end_time": "2024-11-10T19:45:13.452145Z",
     "start_time": "2024-11-10T19:45:13.444255Z"
    }
   },
   "source": [
    "median_price = np.median(merged_df['price'])\n",
    "mean_price = np.mean(merged_df['price'])\n",
    "\n",
    "print(f'Mean housing price: {mean_price}\\nMedian housing price: {median_price}\\n')\n",
    "print('A Median less than the Mean is consistent with a right-skewed distribution which contain certain high-value observations that greatly influence the average value of all obervations.')"
   ],
   "outputs": [
    {
     "ename": "NameError",
     "evalue": "name 'merged_df' is not defined",
     "output_type": "error",
     "traceback": [
      "\u001B[0;31m---------------------------------------------------------------------------\u001B[0m",
      "\u001B[0;31mNameError\u001B[0m                                 Traceback (most recent call last)",
      "Cell \u001B[0;32mIn[9], line 1\u001B[0m\n\u001B[0;32m----> 1\u001B[0m median_price \u001B[38;5;241m=\u001B[39m np\u001B[38;5;241m.\u001B[39mmedian(\u001B[43mmerged_df\u001B[49m[\u001B[38;5;124m'\u001B[39m\u001B[38;5;124mprice\u001B[39m\u001B[38;5;124m'\u001B[39m])\n\u001B[1;32m      2\u001B[0m mean_price \u001B[38;5;241m=\u001B[39m np\u001B[38;5;241m.\u001B[39mmean(merged_df[\u001B[38;5;124m'\u001B[39m\u001B[38;5;124mprice\u001B[39m\u001B[38;5;124m'\u001B[39m])\n\u001B[1;32m      4\u001B[0m \u001B[38;5;28mprint\u001B[39m(\u001B[38;5;124mf\u001B[39m\u001B[38;5;124m'\u001B[39m\u001B[38;5;124mMean housing price: \u001B[39m\u001B[38;5;132;01m{\u001B[39;00mmean_price\u001B[38;5;132;01m}\u001B[39;00m\u001B[38;5;130;01m\\n\u001B[39;00m\u001B[38;5;124mMedian housing price: \u001B[39m\u001B[38;5;132;01m{\u001B[39;00mmedian_price\u001B[38;5;132;01m}\u001B[39;00m\u001B[38;5;130;01m\\n\u001B[39;00m\u001B[38;5;124m'\u001B[39m)\n",
      "\u001B[0;31mNameError\u001B[0m: name 'merged_df' is not defined"
     ]
    }
   ],
   "execution_count": 9
  },
  {
   "cell_type": "markdown",
   "id": "206799ff-31d8-48bf-9e3a-1bc2ed29c154",
   "metadata": {},
   "source": [
    "The Mean value of housing price is 2x the Median value in our data set."
   ]
  },
  {
   "cell_type": "markdown",
   "id": "b75648f0-6ab9-4f58-92aa-ee5a5818a3ae",
   "metadata": {},
   "source": [
    "# Distribution of Key Numerical Features"
   ]
  },
  {
   "cell_type": "code",
   "id": "32f2ad32-49a2-4b41-94fe-c16505692083",
   "metadata": {
    "scrolled": true,
    "ExecuteTime": {
     "end_time": "2024-11-10T19:45:13.584959Z",
     "start_time": "2024-11-10T19:45:13.488832Z"
    }
   },
   "source": [
    "# columns to examine\n",
    "columns_to_plot = ['bedrooms', 'bathrooms', 'squareFootage', 'median_monthly_housing_cost', 'median_household_income',\n",
    "                   'area']\n",
    "\n",
    "# Plot distributions\n",
    "plt.figure(figsize=(15, 10))\n",
    "for i, column in enumerate(columns_to_plot, 1):\n",
    "    plt.subplot(2, 3, i)\n",
    "    sns.histplot(merged_df[column].dropna(), kde=True)\n",
    "    plt.title(f'Distribution of {column}', fontweight='bold')\n",
    "plt.tight_layout()\n",
    "plt.show()"
   ],
   "outputs": [
    {
     "ename": "NameError",
     "evalue": "name 'merged_df' is not defined",
     "output_type": "error",
     "traceback": [
      "\u001B[0;31m---------------------------------------------------------------------------\u001B[0m",
      "\u001B[0;31mNameError\u001B[0m                                 Traceback (most recent call last)",
      "Cell \u001B[0;32mIn[10], line 9\u001B[0m\n\u001B[1;32m      7\u001B[0m \u001B[38;5;28;01mfor\u001B[39;00m i, column \u001B[38;5;129;01min\u001B[39;00m \u001B[38;5;28menumerate\u001B[39m(columns_to_plot, \u001B[38;5;241m1\u001B[39m):\n\u001B[1;32m      8\u001B[0m     plt\u001B[38;5;241m.\u001B[39msubplot(\u001B[38;5;241m2\u001B[39m, \u001B[38;5;241m3\u001B[39m, i)\n\u001B[0;32m----> 9\u001B[0m     sns\u001B[38;5;241m.\u001B[39mhistplot(\u001B[43mmerged_df\u001B[49m[column]\u001B[38;5;241m.\u001B[39mdropna(), kde\u001B[38;5;241m=\u001B[39m\u001B[38;5;28;01mTrue\u001B[39;00m)\n\u001B[1;32m     10\u001B[0m     plt\u001B[38;5;241m.\u001B[39mtitle(\u001B[38;5;124mf\u001B[39m\u001B[38;5;124m'\u001B[39m\u001B[38;5;124mDistribution of \u001B[39m\u001B[38;5;132;01m{\u001B[39;00mcolumn\u001B[38;5;132;01m}\u001B[39;00m\u001B[38;5;124m'\u001B[39m, fontweight\u001B[38;5;241m=\u001B[39m\u001B[38;5;124m'\u001B[39m\u001B[38;5;124mbold\u001B[39m\u001B[38;5;124m'\u001B[39m)\n\u001B[1;32m     11\u001B[0m plt\u001B[38;5;241m.\u001B[39mtight_layout()\n",
      "\u001B[0;31mNameError\u001B[0m: name 'merged_df' is not defined"
     ]
    },
    {
     "data": {
      "text/plain": [
       "<Figure size 1500x1000 with 1 Axes>"
      ],
      "image/png": "[encoded data removed]"
     },
     "metadata": {},
     "output_type": "display_data"
    }
   ],
   "execution_count": 10
  },
  {
   "cell_type": "markdown",
   "id": "a01743f7-64f9-4ac3-be85-ee6e50fdeb53",
   "metadata": {},
   "source": [
    "# Correlation Matrix of Key Numerical Features"
   ]
  },
  {
   "cell_type": "code",
   "id": "2198d3eb-cc7d-46ae-b021-0a7755386d6d",
   "metadata": {
    "ExecuteTime": {
     "end_time": "2024-11-10T19:45:13.636688Z",
     "start_time": "2024-11-10T19:45:13.625340Z"
    }
   },
   "source": [
    "# correlation heatmap\n",
    "plt.figure(figsize=(12, 10))\n",
    "sns.heatmap(merged_df[columns_to_plot].corr(), annot=True, cmap='RdBu', vmin=-1, vmax=1)\n",
    "plt.title('Correlation Matrix of Selected Features', fontweight='bold')\n",
    "plt.show()\n"
   ],
   "outputs": [
    {
     "ename": "NameError",
     "evalue": "name 'merged_df' is not defined",
     "output_type": "error",
     "traceback": [
      "\u001B[0;31m---------------------------------------------------------------------------\u001B[0m",
      "\u001B[0;31mNameError\u001B[0m                                 Traceback (most recent call last)",
      "Cell \u001B[0;32mIn[11], line 3\u001B[0m\n\u001B[1;32m      1\u001B[0m \u001B[38;5;66;03m# correlation heatmap\u001B[39;00m\n\u001B[1;32m      2\u001B[0m plt\u001B[38;5;241m.\u001B[39mfigure(figsize\u001B[38;5;241m=\u001B[39m(\u001B[38;5;241m12\u001B[39m, \u001B[38;5;241m10\u001B[39m))\n\u001B[0;32m----> 3\u001B[0m sns\u001B[38;5;241m.\u001B[39mheatmap(\u001B[43mmerged_df\u001B[49m[columns_to_plot]\u001B[38;5;241m.\u001B[39mcorr(), annot\u001B[38;5;241m=\u001B[39m\u001B[38;5;28;01mTrue\u001B[39;00m, cmap\u001B[38;5;241m=\u001B[39m\u001B[38;5;124m'\u001B[39m\u001B[38;5;124mRdBu\u001B[39m\u001B[38;5;124m'\u001B[39m, vmin\u001B[38;5;241m=\u001B[39m\u001B[38;5;241m-\u001B[39m\u001B[38;5;241m1\u001B[39m, vmax\u001B[38;5;241m=\u001B[39m\u001B[38;5;241m1\u001B[39m)\n\u001B[1;32m      4\u001B[0m plt\u001B[38;5;241m.\u001B[39mtitle(\u001B[38;5;124m'\u001B[39m\u001B[38;5;124mCorrelation Matrix of Selected Features\u001B[39m\u001B[38;5;124m'\u001B[39m, fontweight\u001B[38;5;241m=\u001B[39m\u001B[38;5;124m'\u001B[39m\u001B[38;5;124mbold\u001B[39m\u001B[38;5;124m'\u001B[39m)\n\u001B[1;32m      5\u001B[0m plt\u001B[38;5;241m.\u001B[39mshow()\n",
      "\u001B[0;31mNameError\u001B[0m: name 'merged_df' is not defined"
     ]
    },
    {
     "data": {
      "text/plain": [
       "<Figure size 1200x1000 with 0 Axes>"
      ]
     },
     "metadata": {},
     "output_type": "display_data"
    }
   ],
   "execution_count": 11
  },
  {
   "cell_type": "markdown",
   "id": "77a96a28-4861-4a65-9850-d27ce3d1bc16",
   "metadata": {},
   "source": [
    "High Correlation may indicate multicollinearity between features. This could impact model efficacy if not handled properly. \n",
    "\n",
    "Features with high Correlation Values:\n",
    "- bathrooms, bedrooms\n",
    "- squareFootage, bathrooms\n",
    "- squareFootage, bedrooms\n",
    "- median_monthly_housing_cost, median_household_income"
   ]
  },
  {
   "cell_type": "markdown",
   "id": "5a849eb6-9472-4189-a1c8-7702b5f088d1",
   "metadata": {},
   "source": [
    "# Census Demographic Data vs. Property Features"
   ]
  },
  {
   "cell_type": "code",
   "id": "569e13d6-8d89-419e-9fcd-dada9d0430ea",
   "metadata": {
    "scrolled": true,
    "ExecuteTime": {
     "end_time": "2024-11-10T19:45:13.722747Z",
     "start_time": "2024-11-10T19:45:13.655005Z"
    }
   },
   "source": [
    "census_cols = ['total_pop', 'occupied_housing_units', 'median_monthly_housing_cost', 'median_household_income']\n",
    "\n",
    "plt.figure(figsize=(15,10))\n",
    "# Loop through each column in census_cols\n",
    "for i, col in enumerate(census_cols, 1):\n",
    "    plt.subplot(2, 2, i)  # Create a 2x2 grid of subplots\n",
    "    plt.scatter(merged_df[col], merged_df['price'], s=25, alpha=0.35)\n",
    "    plt.title(f'{col} vs Price', fontweight='bold')\n",
    "    plt.xlabel(col, fontweight='bold')\n",
    "    plt.ylabel('Price', fontweight='bold')\n",
    "\n",
    "plt.tight_layout()\n",
    "plt.show()"
   ],
   "outputs": [
    {
     "ename": "NameError",
     "evalue": "name 'merged_df' is not defined",
     "output_type": "error",
     "traceback": [
      "\u001B[0;31m---------------------------------------------------------------------------\u001B[0m",
      "\u001B[0;31mNameError\u001B[0m                                 Traceback (most recent call last)",
      "Cell \u001B[0;32mIn[12], line 7\u001B[0m\n\u001B[1;32m      5\u001B[0m \u001B[38;5;28;01mfor\u001B[39;00m i, col \u001B[38;5;129;01min\u001B[39;00m \u001B[38;5;28menumerate\u001B[39m(census_cols, \u001B[38;5;241m1\u001B[39m):\n\u001B[1;32m      6\u001B[0m     plt\u001B[38;5;241m.\u001B[39msubplot(\u001B[38;5;241m2\u001B[39m, \u001B[38;5;241m2\u001B[39m, i)  \u001B[38;5;66;03m# Create a 2x2 grid of subplots\u001B[39;00m\n\u001B[0;32m----> 7\u001B[0m     plt\u001B[38;5;241m.\u001B[39mscatter(\u001B[43mmerged_df\u001B[49m[col], merged_df[\u001B[38;5;124m'\u001B[39m\u001B[38;5;124mprice\u001B[39m\u001B[38;5;124m'\u001B[39m], s\u001B[38;5;241m=\u001B[39m\u001B[38;5;241m25\u001B[39m, alpha\u001B[38;5;241m=\u001B[39m\u001B[38;5;241m0.35\u001B[39m)\n\u001B[1;32m      8\u001B[0m     plt\u001B[38;5;241m.\u001B[39mtitle(\u001B[38;5;124mf\u001B[39m\u001B[38;5;124m'\u001B[39m\u001B[38;5;132;01m{\u001B[39;00mcol\u001B[38;5;132;01m}\u001B[39;00m\u001B[38;5;124m vs Price\u001B[39m\u001B[38;5;124m'\u001B[39m, fontweight\u001B[38;5;241m=\u001B[39m\u001B[38;5;124m'\u001B[39m\u001B[38;5;124mbold\u001B[39m\u001B[38;5;124m'\u001B[39m)\n\u001B[1;32m      9\u001B[0m     plt\u001B[38;5;241m.\u001B[39mxlabel(col, fontweight\u001B[38;5;241m=\u001B[39m\u001B[38;5;124m'\u001B[39m\u001B[38;5;124mbold\u001B[39m\u001B[38;5;124m'\u001B[39m)\n",
      "\u001B[0;31mNameError\u001B[0m: name 'merged_df' is not defined"
     ]
    },
    {
     "data": {
      "text/plain": [
       "<Figure size 1500x1000 with 1 Axes>"
      ],
      "image/png": "[encoded data removed]"
     },
     "metadata": {},
     "output_type": "display_data"
    }
   ],
   "execution_count": 12
  },
  {
   "cell_type": "code",
   "id": "6b85ab0c-4712-44e9-8393-fb6fd28da3a5",
   "metadata": {
    "scrolled": true,
    "ExecuteTime": {
     "end_time": "2024-11-10T19:45:13.867198Z",
     "start_time": "2024-11-10T19:45:13.794785Z"
    }
   },
   "source": [
    "# percent occupied housing units across median household income brackets\n",
    "census_cols = ['median_housing_income_below_100k', 'median_housing_income_100k_149k', 'median_housing_income_150k_above']\n",
    "\n",
    "plt.figure(figsize=(10,15))\n",
    "# Loop through each column in census_cols\n",
    "for i, col in enumerate(census_cols, 1):\n",
    "    plt.subplot(3, 1, i)  # create a 3x1 grid of subplots\n",
    "    plt.scatter(merged_df[col], merged_df['price'], s=25, alpha=0.35)\n",
    "    plt.title(f'{col} vs Price', fontweight='bold')\n",
    "    plt.xlabel(col, fontweight='bold')\n",
    "    plt.ylabel('Price', fontweight='bold')\n",
    "\n",
    "plt.tight_layout()\n",
    "plt.show()"
   ],
   "outputs": [
    {
     "ename": "NameError",
     "evalue": "name 'merged_df' is not defined",
     "output_type": "error",
     "traceback": [
      "\u001B[0;31m---------------------------------------------------------------------------\u001B[0m",
      "\u001B[0;31mNameError\u001B[0m                                 Traceback (most recent call last)",
      "Cell \u001B[0;32mIn[13], line 8\u001B[0m\n\u001B[1;32m      6\u001B[0m \u001B[38;5;28;01mfor\u001B[39;00m i, col \u001B[38;5;129;01min\u001B[39;00m \u001B[38;5;28menumerate\u001B[39m(census_cols, \u001B[38;5;241m1\u001B[39m):\n\u001B[1;32m      7\u001B[0m     plt\u001B[38;5;241m.\u001B[39msubplot(\u001B[38;5;241m3\u001B[39m, \u001B[38;5;241m1\u001B[39m, i)  \u001B[38;5;66;03m# create a 3x1 grid of subplots\u001B[39;00m\n\u001B[0;32m----> 8\u001B[0m     plt\u001B[38;5;241m.\u001B[39mscatter(\u001B[43mmerged_df\u001B[49m[col], merged_df[\u001B[38;5;124m'\u001B[39m\u001B[38;5;124mprice\u001B[39m\u001B[38;5;124m'\u001B[39m], s\u001B[38;5;241m=\u001B[39m\u001B[38;5;241m25\u001B[39m, alpha\u001B[38;5;241m=\u001B[39m\u001B[38;5;241m0.35\u001B[39m)\n\u001B[1;32m      9\u001B[0m     plt\u001B[38;5;241m.\u001B[39mtitle(\u001B[38;5;124mf\u001B[39m\u001B[38;5;124m'\u001B[39m\u001B[38;5;132;01m{\u001B[39;00mcol\u001B[38;5;132;01m}\u001B[39;00m\u001B[38;5;124m vs Price\u001B[39m\u001B[38;5;124m'\u001B[39m, fontweight\u001B[38;5;241m=\u001B[39m\u001B[38;5;124m'\u001B[39m\u001B[38;5;124mbold\u001B[39m\u001B[38;5;124m'\u001B[39m)\n\u001B[1;32m     10\u001B[0m     plt\u001B[38;5;241m.\u001B[39mxlabel(col, fontweight\u001B[38;5;241m=\u001B[39m\u001B[38;5;124m'\u001B[39m\u001B[38;5;124mbold\u001B[39m\u001B[38;5;124m'\u001B[39m)\n",
      "\u001B[0;31mNameError\u001B[0m: name 'merged_df' is not defined"
     ]
    },
    {
     "data": {
      "text/plain": [
       "<Figure size 1000x1500 with 1 Axes>"
      ],
      "image/png": "[encoded data removed]"
     },
     "metadata": {},
     "output_type": "display_data"
    }
   ],
   "execution_count": 13
  },
  {
   "cell_type": "markdown",
   "id": "7dd2f8feb5a50954",
   "metadata": {},
   "source": [
    "### Correlation Between Income Features and Price"
   ]
  },
  {
   "cell_type": "code",
   "id": "3cfbdec4ab7420ca",
   "metadata": {},
   "source": [
    "# create function to plot the correlation matrix of all remaining features\n",
    "def plot_corr(data: pd.DataFrame, title: str | None = None, columns_to_plot: list | None = None, annot: bool = False):\n",
    "    \"\"\"\n",
    "    This function creates and displays a heatmap to visualize the correlations between selected features in a DataFrame.\n",
    "    Params:\n",
    "        data: pandas dataframe\n",
    "        columns_to_plot: list. list of columns to plut\n",
    "        annot: bool: if True, include the correlation percentage inside the cells.\n",
    "\n",
    "    Returns:\n",
    "    - Pandas Dataframe containing correlation coefficients of selected features\n",
    "    \"\"\"\n",
    "    plt.figure(figsize=(12, 10))\n",
    "    if columns_to_plot is None:\n",
    "        columns_to_plot = data.columns.tolist()\n",
    "    corr_df = data[columns_to_plot].corr()\n",
    "    sns.heatmap(corr_df, annot=annot, cmap='RdBu', vmin=-1, vmax=1)\n",
    "    if title is None:\n",
    "        title = 'Correlation Matrix of Selected Features'\n",
    "    plt.title(title, fontweight='bold')\n",
    "    plt.show()\n",
    "    return corr_df\n",
    "census_cols.append('price')\n",
    "plot_corr(data=merged_df[census_cols], annot=True)"
   ],
   "outputs": [],
   "execution_count": null
  },
  {
   "cell_type": "markdown",
   "id": "5e7d90bb0a157892",
   "metadata": {},
   "source": [
    "#### Observations on Correlation between Price and Income\n",
    "We do not find significant positive or negative correlation between the three income subcategories for percent occupued housing units and price. These features contain floats that represent the percentage of housing units that are occupied by the specified housing income categories. "
   ]
  },
  {
   "cell_type": "code",
   "id": "ff0a971d-04d3-4e87-b78c-73fa054c4c5d",
   "metadata": {
    "scrolled": true,
    "ExecuteTime": {
     "end_time": "2024-11-10T19:45:14.024230Z",
     "start_time": "2024-11-10T19:45:13.947914Z"
    }
   },
   "source": [
    "# unemployement rates across different categories\n",
    "census_cols = ['at_or_above_pov_level_unemployment_r', 'pop_25_to_64_yrs_unemployment_r', 'bach_degree_unemployment_r']\n",
    "\n",
    "plt.figure(figsize=(10,15))\n",
    "# Loop through each column in census_cols\n",
    "for i, col in enumerate(census_cols, 1):\n",
    "    plt.subplot(3, 1, i)  # create a 3x1 grid of subplots\n",
    "    plt.scatter(merged_df[col], merged_df['price'], s=25, alpha=0.35)\n",
    "    plt.title(f'{col} vs Price', fontweight='bold')\n",
    "    plt.xlabel(col, fontweight='bold')\n",
    "    plt.ylabel('Price', fontweight='bold')\n",
    "\n",
    "plt.tight_layout()\n",
    "plt.show()"
   ],
   "outputs": [
    {
     "ename": "NameError",
     "evalue": "name 'merged_df' is not defined",
     "output_type": "error",
     "traceback": [
      "\u001B[0;31m---------------------------------------------------------------------------\u001B[0m",
      "\u001B[0;31mNameError\u001B[0m                                 Traceback (most recent call last)",
      "Cell \u001B[0;32mIn[14], line 8\u001B[0m\n\u001B[1;32m      6\u001B[0m \u001B[38;5;28;01mfor\u001B[39;00m i, col \u001B[38;5;129;01min\u001B[39;00m \u001B[38;5;28menumerate\u001B[39m(census_cols, \u001B[38;5;241m1\u001B[39m):\n\u001B[1;32m      7\u001B[0m     plt\u001B[38;5;241m.\u001B[39msubplot(\u001B[38;5;241m3\u001B[39m, \u001B[38;5;241m1\u001B[39m, i)  \u001B[38;5;66;03m# create a 3x1 grid of subplots\u001B[39;00m\n\u001B[0;32m----> 8\u001B[0m     plt\u001B[38;5;241m.\u001B[39mscatter(\u001B[43mmerged_df\u001B[49m[col], merged_df[\u001B[38;5;124m'\u001B[39m\u001B[38;5;124mprice\u001B[39m\u001B[38;5;124m'\u001B[39m], s\u001B[38;5;241m=\u001B[39m\u001B[38;5;241m25\u001B[39m, alpha\u001B[38;5;241m=\u001B[39m\u001B[38;5;241m0.35\u001B[39m)\n\u001B[1;32m      9\u001B[0m     plt\u001B[38;5;241m.\u001B[39mtitle(\u001B[38;5;124mf\u001B[39m\u001B[38;5;124m'\u001B[39m\u001B[38;5;132;01m{\u001B[39;00mcol\u001B[38;5;132;01m}\u001B[39;00m\u001B[38;5;124m vs Price\u001B[39m\u001B[38;5;124m'\u001B[39m, fontweight\u001B[38;5;241m=\u001B[39m\u001B[38;5;124m'\u001B[39m\u001B[38;5;124mbold\u001B[39m\u001B[38;5;124m'\u001B[39m)\n\u001B[1;32m     10\u001B[0m     plt\u001B[38;5;241m.\u001B[39mxlabel(col, fontweight\u001B[38;5;241m=\u001B[39m\u001B[38;5;124m'\u001B[39m\u001B[38;5;124mbold\u001B[39m\u001B[38;5;124m'\u001B[39m)\n",
      "\u001B[0;31mNameError\u001B[0m: name 'merged_df' is not defined"
     ]
    },
    {
     "data": {
      "text/plain": [
       "<Figure size 1000x1500 with 1 Axes>"
      ],
      "image/png": "[encoded data removed]"
     },
     "metadata": {},
     "output_type": "display_data"
    }
   ],
   "execution_count": 14
  },
  {
   "cell_type": "code",
   "id": "e02f3ac382e0dd6c",
   "metadata": {
    "ExecuteTime": {
     "end_time": "2024-11-10T19:45:14.025023Z",
     "start_time": "2024-11-10T19:45:14.024970Z"
    }
   },
   "source": [
    "census_cols.append('price')\n",
    "plot_corr(data=merged_df[census_cols], annot=True)"
   ],
   "outputs": [],
   "execution_count": null
  },
  {
   "cell_type": "markdown",
   "id": "c0889987-732b-41ad-9574-e613a8fe3e94",
   "metadata": {},
   "source": [
    "Price appears to have a similar distribution across the three types of unemployment categories in our data frame. This is likely because the different unemployment categories are highly correlated with one another."
   ]
  },
  {
   "cell_type": "code",
   "id": "979565c6-3519-4560-9ecf-35ca44e3fa36",
   "metadata": {
    "scrolled": true,
    "ExecuteTime": {
     "end_time": "2024-11-10T19:45:14.135167Z",
     "start_time": "2024-11-10T19:45:14.123002Z"
    }
   },
   "source": [
    "# count plot for property type\n",
    "plt.figure(figsize=(10, 6))\n",
    "sns.countplot(y='propertyType', data=merged_df, order=merged_df['propertyType'].value_counts().index)\n",
    "plt.title('Distribution of Property Types', fontweight='bold')\n",
    "plt.show()"
   ],
   "outputs": [
    {
     "ename": "NameError",
     "evalue": "name 'merged_df' is not defined",
     "output_type": "error",
     "traceback": [
      "\u001B[0;31m---------------------------------------------------------------------------\u001B[0m",
      "\u001B[0;31mNameError\u001B[0m                                 Traceback (most recent call last)",
      "Cell \u001B[0;32mIn[15], line 3\u001B[0m\n\u001B[1;32m      1\u001B[0m \u001B[38;5;66;03m# count plot for property type\u001B[39;00m\n\u001B[1;32m      2\u001B[0m plt\u001B[38;5;241m.\u001B[39mfigure(figsize\u001B[38;5;241m=\u001B[39m(\u001B[38;5;241m10\u001B[39m, \u001B[38;5;241m6\u001B[39m))\n\u001B[0;32m----> 3\u001B[0m sns\u001B[38;5;241m.\u001B[39mcountplot(y\u001B[38;5;241m=\u001B[39m\u001B[38;5;124m'\u001B[39m\u001B[38;5;124mpropertyType\u001B[39m\u001B[38;5;124m'\u001B[39m, data\u001B[38;5;241m=\u001B[39m\u001B[43mmerged_df\u001B[49m, order\u001B[38;5;241m=\u001B[39mmerged_df[\u001B[38;5;124m'\u001B[39m\u001B[38;5;124mpropertyType\u001B[39m\u001B[38;5;124m'\u001B[39m]\u001B[38;5;241m.\u001B[39mvalue_counts()\u001B[38;5;241m.\u001B[39mindex)\n\u001B[1;32m      4\u001B[0m plt\u001B[38;5;241m.\u001B[39mtitle(\u001B[38;5;124m'\u001B[39m\u001B[38;5;124mDistribution of Property Types\u001B[39m\u001B[38;5;124m'\u001B[39m, fontweight\u001B[38;5;241m=\u001B[39m\u001B[38;5;124m'\u001B[39m\u001B[38;5;124mbold\u001B[39m\u001B[38;5;124m'\u001B[39m)\n\u001B[1;32m      5\u001B[0m plt\u001B[38;5;241m.\u001B[39mshow()\n",
      "\u001B[0;31mNameError\u001B[0m: name 'merged_df' is not defined"
     ]
    },
    {
     "data": {
      "text/plain": [
       "<Figure size 1000x600 with 0 Axes>"
      ]
     },
     "metadata": {},
     "output_type": "display_data"
    }
   ],
   "execution_count": 15
  },
  {
   "cell_type": "markdown",
   "id": "d290d176-9e67-4340-be1f-8c61915d65dc",
   "metadata": {},
   "source": [
    "There are more observations with propertyType: 'Condo' than all other propertyTypes combined. This is likely because our data is from a densely populated urban area, that may lack adequate spaces for houses on individual plots.  "
   ]
  },
  {
   "cell_type": "code",
   "id": "100486b2-9db5-4e0a-8bad-6db80240a194",
   "metadata": {
    "ExecuteTime": {
     "end_time": "2024-11-10T19:45:14.243793Z",
     "start_time": "2024-11-10T19:45:14.234552Z"
    }
   },
   "source": [
    "# box plot of price by property type\n",
    "plt.figure(figsize=(10, 6))\n",
    "sns.boxplot(x='price', y='propertyType', data=merged_df)\n",
    "plt.title('Price Distribution by Property Type', fontweight='bold')\n",
    "plt.show()"
   ],
   "outputs": [
    {
     "ename": "NameError",
     "evalue": "name 'merged_df' is not defined",
     "output_type": "error",
     "traceback": [
      "\u001B[0;31m---------------------------------------------------------------------------\u001B[0m",
      "\u001B[0;31mNameError\u001B[0m                                 Traceback (most recent call last)",
      "Cell \u001B[0;32mIn[16], line 3\u001B[0m\n\u001B[1;32m      1\u001B[0m \u001B[38;5;66;03m# box plot of price by property type\u001B[39;00m\n\u001B[1;32m      2\u001B[0m plt\u001B[38;5;241m.\u001B[39mfigure(figsize\u001B[38;5;241m=\u001B[39m(\u001B[38;5;241m10\u001B[39m, \u001B[38;5;241m6\u001B[39m))\n\u001B[0;32m----> 3\u001B[0m sns\u001B[38;5;241m.\u001B[39mboxplot(x\u001B[38;5;241m=\u001B[39m\u001B[38;5;124m'\u001B[39m\u001B[38;5;124mprice\u001B[39m\u001B[38;5;124m'\u001B[39m, y\u001B[38;5;241m=\u001B[39m\u001B[38;5;124m'\u001B[39m\u001B[38;5;124mpropertyType\u001B[39m\u001B[38;5;124m'\u001B[39m, data\u001B[38;5;241m=\u001B[39m\u001B[43mmerged_df\u001B[49m)\n\u001B[1;32m      4\u001B[0m plt\u001B[38;5;241m.\u001B[39mtitle(\u001B[38;5;124m'\u001B[39m\u001B[38;5;124mPrice Distribution by Property Type\u001B[39m\u001B[38;5;124m'\u001B[39m, fontweight\u001B[38;5;241m=\u001B[39m\u001B[38;5;124m'\u001B[39m\u001B[38;5;124mbold\u001B[39m\u001B[38;5;124m'\u001B[39m)\n\u001B[1;32m      5\u001B[0m plt\u001B[38;5;241m.\u001B[39mshow()\n",
      "\u001B[0;31mNameError\u001B[0m: name 'merged_df' is not defined"
     ]
    },
    {
     "data": {
      "text/plain": [
       "<Figure size 1000x600 with 0 Axes>"
      ]
     },
     "metadata": {},
     "output_type": "display_data"
    }
   ],
   "execution_count": 16
  },
  {
   "cell_type": "markdown",
   "id": "ecb64f65-cbc9-4634-a09b-da828ddcfbff",
   "metadata": {},
   "source": [
    "The Condo PropertyType appears to have the lowest median of all propertyTypes in the data. Interestingly, it has the second highest priced home in our dataset at around 37.5 million. The Multi-Family property Type contains the observation with the highest price at 40 Million. "
   ]
  },
  {
   "cell_type": "code",
   "id": "72af967f-b25f-4e07-afa5-0bb22ed04739",
   "metadata": {
    "ExecuteTime": {
     "end_time": "2024-11-10T19:45:14.311668Z",
     "start_time": "2024-11-10T19:45:14.303647Z"
    }
   },
   "source": [
    "# calculate mean home price grouped by property type\n",
    "price_by_propertyType = merged_df.groupby('propertyType')['price']\n",
    "mean_price_propertyType = price_by_propertyType.mean()\n",
    "mean_price_propertyType"
   ],
   "outputs": [
    {
     "ename": "NameError",
     "evalue": "name 'merged_df' is not defined",
     "output_type": "error",
     "traceback": [
      "\u001B[0;31m---------------------------------------------------------------------------\u001B[0m",
      "\u001B[0;31mNameError\u001B[0m                                 Traceback (most recent call last)",
      "Cell \u001B[0;32mIn[17], line 2\u001B[0m\n\u001B[1;32m      1\u001B[0m \u001B[38;5;66;03m# calculate mean home price grouped by property type\u001B[39;00m\n\u001B[0;32m----> 2\u001B[0m price_by_propertyType \u001B[38;5;241m=\u001B[39m \u001B[43mmerged_df\u001B[49m\u001B[38;5;241m.\u001B[39mgroupby(\u001B[38;5;124m'\u001B[39m\u001B[38;5;124mpropertyType\u001B[39m\u001B[38;5;124m'\u001B[39m)[\u001B[38;5;124m'\u001B[39m\u001B[38;5;124mprice\u001B[39m\u001B[38;5;124m'\u001B[39m]\n\u001B[1;32m      3\u001B[0m mean_price_propertyType \u001B[38;5;241m=\u001B[39m price_by_propertyType\u001B[38;5;241m.\u001B[39mmean()\n\u001B[1;32m      4\u001B[0m mean_price_propertyType\n",
      "\u001B[0;31mNameError\u001B[0m: name 'merged_df' is not defined"
     ]
    }
   ],
   "execution_count": 17
  },
  {
   "cell_type": "markdown",
   "id": "b3cbe9af-6410-4d1d-a5f6-17f7d30a96c7",
   "metadata": {},
   "source": [
    "Townhouses appear to have the highest average housing price in the data. But it is important to note that there only appears to be a single observation for Townhouses in the data set. Of the three property types that have an adequate sample size (Condo, Multi-Family, and Single-Family). The Multi-Family observations unsurprisingly have the highest average housing price of 3.1 Million."
   ]
  },
  {
   "cell_type": "markdown",
   "id": "6984af47125867f3",
   "metadata": {},
   "source": [
    "# Feature Engineering"
   ]
  },
  {
   "cell_type": "markdown",
   "id": "65e44d80ccfff3e6",
   "metadata": {},
   "source": [
    "## Initial Removal of Unwanted Features\n",
    "We believe the features listed in the unwanted_features object will not provide predictive value to listing price. \n",
    "Notice that we will have to remove lot size because more than 50% of the data is missing."
   ]
  },
  {
   "cell_type": "code",
   "id": "930c0a23de60ae1a",
   "metadata": {
    "ExecuteTime": {
     "end_time": "2024-11-10T19:45:14.415455Z",
     "start_time": "2024-11-10T19:45:14.405845Z"
    }
   },
   "source": [
    "unwanted_features = ['id', 'formattedAddress', 'addressLine1', 'addressLine2',\n",
    "                     'state', 'county', 'geometry', 'index_right', 'statefp', 'countyfp',\n",
    "                     'tractce', 'geoid', 'tract_name', 'namelsad', 'removedDate', 'lotSize', 'listingOffice',\n",
    "                     'listedDate', 'createdDate', 'lastSeenDate', 'status'\n",
    "                     ]\n",
    "merged_df = merged_df.drop(columns=unwanted_features).copy()\n",
    "merged_df.info()"
   ],
   "outputs": [
    {
     "ename": "NameError",
     "evalue": "name 'merged_df' is not defined",
     "output_type": "error",
     "traceback": [
      "\u001B[0;31m---------------------------------------------------------------------------\u001B[0m",
      "\u001B[0;31mNameError\u001B[0m                                 Traceback (most recent call last)",
      "Cell \u001B[0;32mIn[18], line 6\u001B[0m\n\u001B[1;32m      1\u001B[0m unwanted_features \u001B[38;5;241m=\u001B[39m [\u001B[38;5;124m'\u001B[39m\u001B[38;5;124mid\u001B[39m\u001B[38;5;124m'\u001B[39m, \u001B[38;5;124m'\u001B[39m\u001B[38;5;124mformattedAddress\u001B[39m\u001B[38;5;124m'\u001B[39m, \u001B[38;5;124m'\u001B[39m\u001B[38;5;124maddressLine1\u001B[39m\u001B[38;5;124m'\u001B[39m, \u001B[38;5;124m'\u001B[39m\u001B[38;5;124maddressLine2\u001B[39m\u001B[38;5;124m'\u001B[39m,\n\u001B[1;32m      2\u001B[0m                      \u001B[38;5;124m'\u001B[39m\u001B[38;5;124mstate\u001B[39m\u001B[38;5;124m'\u001B[39m, \u001B[38;5;124m'\u001B[39m\u001B[38;5;124mcounty\u001B[39m\u001B[38;5;124m'\u001B[39m, \u001B[38;5;124m'\u001B[39m\u001B[38;5;124mgeometry\u001B[39m\u001B[38;5;124m'\u001B[39m, \u001B[38;5;124m'\u001B[39m\u001B[38;5;124mindex_right\u001B[39m\u001B[38;5;124m'\u001B[39m, \u001B[38;5;124m'\u001B[39m\u001B[38;5;124mstatefp\u001B[39m\u001B[38;5;124m'\u001B[39m, \u001B[38;5;124m'\u001B[39m\u001B[38;5;124mcountyfp\u001B[39m\u001B[38;5;124m'\u001B[39m,\n\u001B[1;32m      3\u001B[0m                      \u001B[38;5;124m'\u001B[39m\u001B[38;5;124mtractce\u001B[39m\u001B[38;5;124m'\u001B[39m, \u001B[38;5;124m'\u001B[39m\u001B[38;5;124mgeoid\u001B[39m\u001B[38;5;124m'\u001B[39m, \u001B[38;5;124m'\u001B[39m\u001B[38;5;124mtract_name\u001B[39m\u001B[38;5;124m'\u001B[39m, \u001B[38;5;124m'\u001B[39m\u001B[38;5;124mnamelsad\u001B[39m\u001B[38;5;124m'\u001B[39m, \u001B[38;5;124m'\u001B[39m\u001B[38;5;124mremovedDate\u001B[39m\u001B[38;5;124m'\u001B[39m, \u001B[38;5;124m'\u001B[39m\u001B[38;5;124mlotSize\u001B[39m\u001B[38;5;124m'\u001B[39m, \u001B[38;5;124m'\u001B[39m\u001B[38;5;124mlistingOffice\u001B[39m\u001B[38;5;124m'\u001B[39m,\n\u001B[1;32m      4\u001B[0m                      \u001B[38;5;124m'\u001B[39m\u001B[38;5;124mlistedDate\u001B[39m\u001B[38;5;124m'\u001B[39m, \u001B[38;5;124m'\u001B[39m\u001B[38;5;124mcreatedDate\u001B[39m\u001B[38;5;124m'\u001B[39m, \u001B[38;5;124m'\u001B[39m\u001B[38;5;124mlastSeenDate\u001B[39m\u001B[38;5;124m'\u001B[39m, \u001B[38;5;124m'\u001B[39m\u001B[38;5;124mstatus\u001B[39m\u001B[38;5;124m'\u001B[39m\n\u001B[1;32m      5\u001B[0m                      ]\n\u001B[0;32m----> 6\u001B[0m merged_df \u001B[38;5;241m=\u001B[39m \u001B[43mmerged_df\u001B[49m\u001B[38;5;241m.\u001B[39mdrop(columns\u001B[38;5;241m=\u001B[39munwanted_features)\u001B[38;5;241m.\u001B[39mcopy()\n\u001B[1;32m      7\u001B[0m merged_df\u001B[38;5;241m.\u001B[39minfo()\n",
      "\u001B[0;31mNameError\u001B[0m: name 'merged_df' is not defined"
     ]
    }
   ],
   "execution_count": 18
  },
  {
   "cell_type": "markdown",
   "id": "7f735fb652b006da",
   "metadata": {},
   "source": [
    "## Creation of Dummy Variables"
   ]
  },
  {
   "cell_type": "markdown",
   "id": "1f8bb5c1-79e0-4eb1-9cfd-720c5ddceb5b",
   "metadata": {},
   "source": [
    "After performing some initial feature filtration, we will convert our remaining categorical variables into a numerical format. This step will enable the machine learning algorithms we will use to interpret these features, while preserving the information present in these variables. "
   ]
  },
  {
   "cell_type": "code",
   "id": "b768310552429ba4",
   "metadata": {
    "ExecuteTime": {
     "end_time": "2024-11-10T19:45:14.453914Z",
     "start_time": "2024-11-10T19:45:14.444066Z"
    }
   },
   "source": [
    "# convert categoricals to dummy variables and replace categorical variables with dummies in the df \n",
    "categorical_features = ['propertyType', 'city', 'zipCode', 'listingType']\n",
    "df_categorical = merged_df[categorical_features].copy()\n",
    "df_categorical_dummies = pd.get_dummies(data=df_categorical, drop_first=True, dtype=int)\n",
    "df_categorical_dummies.head()"
   ],
   "outputs": [
    {
     "ename": "NameError",
     "evalue": "name 'merged_df' is not defined",
     "output_type": "error",
     "traceback": [
      "\u001B[0;31m---------------------------------------------------------------------------\u001B[0m",
      "\u001B[0;31mNameError\u001B[0m                                 Traceback (most recent call last)",
      "Cell \u001B[0;32mIn[19], line 3\u001B[0m\n\u001B[1;32m      1\u001B[0m \u001B[38;5;66;03m# convert categoricals to dummy variables and replace categorical variables with dummies in the df \u001B[39;00m\n\u001B[1;32m      2\u001B[0m categorical_features \u001B[38;5;241m=\u001B[39m [\u001B[38;5;124m'\u001B[39m\u001B[38;5;124mpropertyType\u001B[39m\u001B[38;5;124m'\u001B[39m, \u001B[38;5;124m'\u001B[39m\u001B[38;5;124mcity\u001B[39m\u001B[38;5;124m'\u001B[39m, \u001B[38;5;124m'\u001B[39m\u001B[38;5;124mzipCode\u001B[39m\u001B[38;5;124m'\u001B[39m, \u001B[38;5;124m'\u001B[39m\u001B[38;5;124mlistingType\u001B[39m\u001B[38;5;124m'\u001B[39m]\n\u001B[0;32m----> 3\u001B[0m df_categorical \u001B[38;5;241m=\u001B[39m \u001B[43mmerged_df\u001B[49m[categorical_features]\u001B[38;5;241m.\u001B[39mcopy()\n\u001B[1;32m      4\u001B[0m df_categorical_dummies \u001B[38;5;241m=\u001B[39m pd\u001B[38;5;241m.\u001B[39mget_dummies(data\u001B[38;5;241m=\u001B[39mdf_categorical, drop_first\u001B[38;5;241m=\u001B[39m\u001B[38;5;28;01mTrue\u001B[39;00m, dtype\u001B[38;5;241m=\u001B[39m\u001B[38;5;28mint\u001B[39m)\n\u001B[1;32m      5\u001B[0m df_categorical_dummies\u001B[38;5;241m.\u001B[39mhead()\n",
      "\u001B[0;31mNameError\u001B[0m: name 'merged_df' is not defined"
     ]
    }
   ],
   "execution_count": 19
  },
  {
   "cell_type": "code",
   "id": "eec02a2d423b5909",
   "metadata": {
    "ExecuteTime": {
     "end_time": "2024-11-10T19:45:14.520937Z",
     "start_time": "2024-11-10T19:45:14.513409Z"
    }
   },
   "source": [
    "df_categorical_dummies.tail()"
   ],
   "outputs": [
    {
     "ename": "NameError",
     "evalue": "name 'df_categorical_dummies' is not defined",
     "output_type": "error",
     "traceback": [
      "\u001B[0;31m---------------------------------------------------------------------------\u001B[0m",
      "\u001B[0;31mNameError\u001B[0m                                 Traceback (most recent call last)",
      "Cell \u001B[0;32mIn[20], line 1\u001B[0m\n\u001B[0;32m----> 1\u001B[0m \u001B[43mdf_categorical_dummies\u001B[49m\u001B[38;5;241m.\u001B[39mtail()\n",
      "\u001B[0;31mNameError\u001B[0m: name 'df_categorical_dummies' is not defined"
     ]
    }
   ],
   "execution_count": 20
  },
  {
   "cell_type": "code",
   "id": "b1ef771acadf0291",
   "metadata": {
    "ExecuteTime": {
     "end_time": "2024-11-10T19:45:14.549457Z",
     "start_time": "2024-11-10T19:45:14.540955Z"
    }
   },
   "source": [
    "merged_df = merged_df.drop(columns=categorical_features).copy()\n",
    "merged_df = pd.concat([merged_df, df_categorical_dummies], axis=1).copy()\n",
    "merged_df.info()"
   ],
   "outputs": [
    {
     "ename": "NameError",
     "evalue": "name 'merged_df' is not defined",
     "output_type": "error",
     "traceback": [
      "\u001B[0;31m---------------------------------------------------------------------------\u001B[0m",
      "\u001B[0;31mNameError\u001B[0m                                 Traceback (most recent call last)",
      "Cell \u001B[0;32mIn[21], line 1\u001B[0m\n\u001B[0;32m----> 1\u001B[0m merged_df \u001B[38;5;241m=\u001B[39m \u001B[43mmerged_df\u001B[49m\u001B[38;5;241m.\u001B[39mdrop(columns\u001B[38;5;241m=\u001B[39mcategorical_features)\u001B[38;5;241m.\u001B[39mcopy()\n\u001B[1;32m      2\u001B[0m merged_df \u001B[38;5;241m=\u001B[39m pd\u001B[38;5;241m.\u001B[39mconcat([merged_df, df_categorical_dummies], axis\u001B[38;5;241m=\u001B[39m\u001B[38;5;241m1\u001B[39m)\u001B[38;5;241m.\u001B[39mcopy()\n\u001B[1;32m      3\u001B[0m merged_df\u001B[38;5;241m.\u001B[39minfo()\n",
      "\u001B[0;31mNameError\u001B[0m: name 'merged_df' is not defined"
     ]
    }
   ],
   "execution_count": 21
  },
  {
   "cell_type": "code",
   "id": "79365c8530451529",
   "metadata": {
    "ExecuteTime": {
     "end_time": "2024-11-10T19:45:14.636143Z",
     "start_time": "2024-11-10T19:45:14.628659Z"
    }
   },
   "source": [
    "merged_df.info()"
   ],
   "outputs": [
    {
     "ename": "NameError",
     "evalue": "name 'merged_df' is not defined",
     "output_type": "error",
     "traceback": [
      "\u001B[0;31m---------------------------------------------------------------------------\u001B[0m",
      "\u001B[0;31mNameError\u001B[0m                                 Traceback (most recent call last)",
      "Cell \u001B[0;32mIn[22], line 1\u001B[0m\n\u001B[0;32m----> 1\u001B[0m \u001B[43mmerged_df\u001B[49m\u001B[38;5;241m.\u001B[39minfo()\n",
      "\u001B[0;31mNameError\u001B[0m: name 'merged_df' is not defined"
     ]
    }
   ],
   "execution_count": 22
  },
  {
   "cell_type": "markdown",
   "id": "f04089dfc6d0f493",
   "metadata": {},
   "source": [
    "## Feature Engineering - Creation of Density Feature\n",
    "\n",
    "We will create a new feature 'density' to represent population density. To calculate the population density, we will take the area of each tract, and divide it by the total population of that tract. After calculating the population density of each feature, the 'area' and 'total_pop' features will be dropped."
   ]
  },
  {
   "cell_type": "code",
   "id": "4e5cd2c6af8d7aad",
   "metadata": {
    "ExecuteTime": {
     "end_time": "2024-11-10T19:45:14.672757Z",
     "start_time": "2024-11-10T19:45:14.665542Z"
    }
   },
   "source": [
    "merged_df[['total_pop', 'area']].describe()"
   ],
   "outputs": [
    {
     "ename": "NameError",
     "evalue": "name 'merged_df' is not defined",
     "output_type": "error",
     "traceback": [
      "\u001B[0;31m---------------------------------------------------------------------------\u001B[0m",
      "\u001B[0;31mNameError\u001B[0m                                 Traceback (most recent call last)",
      "Cell \u001B[0;32mIn[23], line 1\u001B[0m\n\u001B[0;32m----> 1\u001B[0m \u001B[43mmerged_df\u001B[49m[[\u001B[38;5;124m'\u001B[39m\u001B[38;5;124mtotal_pop\u001B[39m\u001B[38;5;124m'\u001B[39m, \u001B[38;5;124m'\u001B[39m\u001B[38;5;124marea\u001B[39m\u001B[38;5;124m'\u001B[39m]]\u001B[38;5;241m.\u001B[39mdescribe()\n",
      "\u001B[0;31mNameError\u001B[0m: name 'merged_df' is not defined"
     ]
    }
   ],
   "execution_count": 23
  },
  {
   "cell_type": "code",
   "id": "a75940728756a973",
   "metadata": {
    "ExecuteTime": {
     "end_time": "2024-11-10T19:45:14.763087Z",
     "start_time": "2024-11-10T19:45:14.755307Z"
    }
   },
   "source": [
    "merged_df['density'] = merged_df['total_pop'] / merged_df['area']\n",
    "print(merged_df[['density', 'total_pop', 'area']].describe())\n",
    "merged_df = merged_df.drop(columns=['area', 'total_pop']).copy()"
   ],
   "outputs": [
    {
     "ename": "NameError",
     "evalue": "name 'merged_df' is not defined",
     "output_type": "error",
     "traceback": [
      "\u001B[0;31m---------------------------------------------------------------------------\u001B[0m",
      "\u001B[0;31mNameError\u001B[0m                                 Traceback (most recent call last)",
      "Cell \u001B[0;32mIn[24], line 1\u001B[0m\n\u001B[0;32m----> 1\u001B[0m merged_df[\u001B[38;5;124m'\u001B[39m\u001B[38;5;124mdensity\u001B[39m\u001B[38;5;124m'\u001B[39m] \u001B[38;5;241m=\u001B[39m \u001B[43mmerged_df\u001B[49m[\u001B[38;5;124m'\u001B[39m\u001B[38;5;124mtotal_pop\u001B[39m\u001B[38;5;124m'\u001B[39m] \u001B[38;5;241m/\u001B[39m merged_df[\u001B[38;5;124m'\u001B[39m\u001B[38;5;124marea\u001B[39m\u001B[38;5;124m'\u001B[39m]\n\u001B[1;32m      2\u001B[0m \u001B[38;5;28mprint\u001B[39m(merged_df[[\u001B[38;5;124m'\u001B[39m\u001B[38;5;124mdensity\u001B[39m\u001B[38;5;124m'\u001B[39m, \u001B[38;5;124m'\u001B[39m\u001B[38;5;124mtotal_pop\u001B[39m\u001B[38;5;124m'\u001B[39m, \u001B[38;5;124m'\u001B[39m\u001B[38;5;124marea\u001B[39m\u001B[38;5;124m'\u001B[39m]]\u001B[38;5;241m.\u001B[39mdescribe())\n\u001B[1;32m      3\u001B[0m merged_df \u001B[38;5;241m=\u001B[39m merged_df\u001B[38;5;241m.\u001B[39mdrop(columns\u001B[38;5;241m=\u001B[39m[\u001B[38;5;124m'\u001B[39m\u001B[38;5;124marea\u001B[39m\u001B[38;5;124m'\u001B[39m, \u001B[38;5;124m'\u001B[39m\u001B[38;5;124mtotal_pop\u001B[39m\u001B[38;5;124m'\u001B[39m])\u001B[38;5;241m.\u001B[39mcopy()\n",
      "\u001B[0;31mNameError\u001B[0m: name 'merged_df' is not defined"
     ]
    }
   ],
   "execution_count": 24
  },
  {
   "cell_type": "code",
   "id": "ee2ecdf02b6970d",
   "metadata": {
    "ExecuteTime": {
     "end_time": "2024-11-10T19:45:14.804742Z",
     "start_time": "2024-11-10T19:45:14.796741Z"
    }
   },
   "source": [
    "merged_df[['density']].head()"
   ],
   "outputs": [
    {
     "ename": "NameError",
     "evalue": "name 'merged_df' is not defined",
     "output_type": "error",
     "traceback": [
      "\u001B[0;31m---------------------------------------------------------------------------\u001B[0m",
      "\u001B[0;31mNameError\u001B[0m                                 Traceback (most recent call last)",
      "Cell \u001B[0;32mIn[25], line 1\u001B[0m\n\u001B[0;32m----> 1\u001B[0m \u001B[43mmerged_df\u001B[49m[[\u001B[38;5;124m'\u001B[39m\u001B[38;5;124mdensity\u001B[39m\u001B[38;5;124m'\u001B[39m]]\u001B[38;5;241m.\u001B[39mhead()\n",
      "\u001B[0;31mNameError\u001B[0m: name 'merged_df' is not defined"
     ]
    }
   ],
   "execution_count": 25
  },
  {
   "cell_type": "code",
   "id": "8565973de1793b7e",
   "metadata": {
    "scrolled": true,
    "ExecuteTime": {
     "end_time": "2024-11-10T19:45:14.864894Z",
     "start_time": "2024-11-10T19:45:14.856900Z"
    }
   },
   "source": [
    "merged_df.info()"
   ],
   "outputs": [
    {
     "ename": "NameError",
     "evalue": "name 'merged_df' is not defined",
     "output_type": "error",
     "traceback": [
      "\u001B[0;31m---------------------------------------------------------------------------\u001B[0m",
      "\u001B[0;31mNameError\u001B[0m                                 Traceback (most recent call last)",
      "Cell \u001B[0;32mIn[26], line 1\u001B[0m\n\u001B[0;32m----> 1\u001B[0m \u001B[43mmerged_df\u001B[49m\u001B[38;5;241m.\u001B[39minfo()\n",
      "\u001B[0;31mNameError\u001B[0m: name 'merged_df' is not defined"
     ]
    }
   ],
   "execution_count": 26
  },
  {
   "cell_type": "markdown",
   "id": "4e2f4b21-bff0-40d4-b88c-c7134587516c",
   "metadata": {},
   "source": [
    "## Normalization"
   ]
  },
  {
   "cell_type": "markdown",
   "id": "4ce85aa0-6238-42ca-a454-d6d8fb03f4ac",
   "metadata": {},
   "source": [
    "Before we move onto correlation analysis and elminating features, we will normalize our numerical features. Normalizing our data can affect correlation values, so performing this step before correlation analysis is preferrable. We will determine whether our features are normally distributed by using Shapiro-Wilk test for normality. If they are not normally distributed, we will perform min-max scaling, otherwise we will use Z-score standardization."
   ]
  },
  {
   "cell_type": "code",
   "id": "655c37a5-9b10-415e-bbc8-1b6c95634faa",
   "metadata": {
    "scrolled": true,
    "ExecuteTime": {
     "end_time": "2024-11-10T19:45:14.908105Z",
     "start_time": "2024-11-10T19:45:14.896042Z"
    }
   },
   "source": [
    "# define the features and target \n",
    "features = merged_df.columns.tolist()\n",
    "target = 'price'\n",
    "\n",
    "# function to assess normality and decide appropriate normalization methods\n",
    "def assess_normality(df, target):\n",
    "    \"\"\"\n",
    "    Evaluates normality of features and suggests normalization methods.\n",
    "\n",
    "    Parameters:\n",
    "    - df (pd.DataFrame): DataFrame containing the dataset features.\n",
    "    - target (str): Name of the target variable to exclude from analysis.\n",
    "\n",
    "    Returns:\n",
    "    - DataFrame with results of normality test and suggested method of normalization\n",
    "    \"\"\"\n",
    "    \n",
    "    results = {}\n",
    "    \n",
    "    for feature in df.columns:\n",
    "        # skip the target variable\n",
    "        if feature == target:\n",
    "            continue\n",
    "        \n",
    "        # perform Shapiro-Wilk test for normality\n",
    "        stat, p_value = shapiro(df[feature].dropna())\n",
    "        \n",
    "        # save results\n",
    "        results[feature] = {\n",
    "            'shapiro_statistic': stat,\n",
    "            'shapiro_p_value': p_value,\n",
    "            'is_normal': p_value > 0.05  # true if feature appears normal\n",
    "        }\n",
    "    \n",
    "    # suggest normalization technique based on normality results\n",
    "    for feature, result in results.items():\n",
    "        if result['is_normal']:\n",
    "            results[feature]['suggested_normalization'] = 'Standardization (Z-score)'\n",
    "        else:\n",
    "            results[feature]['suggested_normalization'] = 'Min-Max Scaling'\n",
    "    \n",
    "    return pd.DataFrame(results).T\n",
    "\n",
    "# display results for merged df\n",
    "normality_results_df = assess_normality(merged_df, target)\n",
    "normality_results_df[['shapiro_statistic', 'shapiro_p_value', 'is_normal', 'suggested_normalization']]"
   ],
   "outputs": [
    {
     "ename": "NameError",
     "evalue": "name 'merged_df' is not defined",
     "output_type": "error",
     "traceback": [
      "\u001B[0;31m---------------------------------------------------------------------------\u001B[0m",
      "\u001B[0;31mNameError\u001B[0m                                 Traceback (most recent call last)",
      "Cell \u001B[0;32mIn[27], line 2\u001B[0m\n\u001B[1;32m      1\u001B[0m \u001B[38;5;66;03m# define the features and target \u001B[39;00m\n\u001B[0;32m----> 2\u001B[0m features \u001B[38;5;241m=\u001B[39m \u001B[43mmerged_df\u001B[49m\u001B[38;5;241m.\u001B[39mcolumns\u001B[38;5;241m.\u001B[39mtolist()\n\u001B[1;32m      3\u001B[0m target \u001B[38;5;241m=\u001B[39m \u001B[38;5;124m'\u001B[39m\u001B[38;5;124mprice\u001B[39m\u001B[38;5;124m'\u001B[39m\n\u001B[1;32m      5\u001B[0m \u001B[38;5;66;03m# function to assess normality and decide appropriate normalization methods\u001B[39;00m\n",
      "\u001B[0;31mNameError\u001B[0m: name 'merged_df' is not defined"
     ]
    }
   ],
   "execution_count": 27
  },
  {
   "cell_type": "code",
   "id": "ae30e895-e51a-4728-a164-739968dc9d26",
   "metadata": {
    "ExecuteTime": {
     "end_time": "2024-11-10T19:45:14.982222Z",
     "start_time": "2024-11-10T19:45:14.972453Z"
    }
   },
   "source": [
    "# check if any features are normally distributed\n",
    "normal_features_df = normality_results_df[normality_results_df['is_normal'] == True]\n",
    "print(normal_features_df[['shapiro_statistic', 'shapiro_p_value', 'is_normal', 'suggested_normalization']])"
   ],
   "outputs": [
    {
     "ename": "NameError",
     "evalue": "name 'normality_results_df' is not defined",
     "output_type": "error",
     "traceback": [
      "\u001B[0;31m---------------------------------------------------------------------------\u001B[0m",
      "\u001B[0;31mNameError\u001B[0m                                 Traceback (most recent call last)",
      "Cell \u001B[0;32mIn[28], line 2\u001B[0m\n\u001B[1;32m      1\u001B[0m \u001B[38;5;66;03m# check if any features are normally distributed\u001B[39;00m\n\u001B[0;32m----> 2\u001B[0m normal_features_df \u001B[38;5;241m=\u001B[39m \u001B[43mnormality_results_df\u001B[49m[normality_results_df[\u001B[38;5;124m'\u001B[39m\u001B[38;5;124mis_normal\u001B[39m\u001B[38;5;124m'\u001B[39m] \u001B[38;5;241m==\u001B[39m \u001B[38;5;28;01mTrue\u001B[39;00m]\n\u001B[1;32m      3\u001B[0m \u001B[38;5;28mprint\u001B[39m(normal_features_df[[\u001B[38;5;124m'\u001B[39m\u001B[38;5;124mshapiro_statistic\u001B[39m\u001B[38;5;124m'\u001B[39m, \u001B[38;5;124m'\u001B[39m\u001B[38;5;124mshapiro_p_value\u001B[39m\u001B[38;5;124m'\u001B[39m, \u001B[38;5;124m'\u001B[39m\u001B[38;5;124mis_normal\u001B[39m\u001B[38;5;124m'\u001B[39m, \u001B[38;5;124m'\u001B[39m\u001B[38;5;124msuggested_normalization\u001B[39m\u001B[38;5;124m'\u001B[39m]])\n",
      "\u001B[0;31mNameError\u001B[0m: name 'normality_results_df' is not defined"
     ]
    }
   ],
   "execution_count": 28
  },
  {
   "cell_type": "markdown",
   "id": "bb1eabb8-e063-4af5-98b1-4aa088b1684e",
   "metadata": {},
   "source": [
    "None of our features are normally distributed, so it is appropriate to use min-max scaling on these features. There are some features we should exclude from this however. We have created dummy variables which are already on a binary scale (0,1), we do not want to min-max scale them. We will also exclude the target variable 'price' from our normalization."
   ]
  },
  {
   "cell_type": "code",
   "id": "17107bdf-10b7-4f16-b990-362e2629eaa1",
   "metadata": {
    "ExecuteTime": {
     "end_time": "2024-11-10T19:45:15.002291Z",
     "start_time": "2024-11-10T19:45:14.991524Z"
    }
   },
   "source": [
    "# features to normalize, exclude dummy variables and target \n",
    "features_to_scale = [\n",
    "    'latitude', 'longitude', 'bedrooms', 'bathrooms', \n",
    "    'squareFootage', 'yearBuilt', 'daysOnMarket', \n",
    "    'occupied_housing_units', 'median_monthly_housing_cost',\n",
    "    'median_household_income', 'median_housing_income_below_100k',\n",
    "    'median_housing_income_100k_149k', 'median_housing_income_150k_above',\n",
    "    'at_or_above_pov_level_unemployment_r', \n",
    "    'pop_25_to_64_yrs_unemployment_r', 'bach_degree_unemployment_r',\n",
    "    'density'  \n",
    "]\n",
    "\n",
    "# initialize MinMaxScaler()\n",
    "scaler = MinMaxScaler() \n",
    "\n",
    "# scale features and replace original features with scaled versions\n",
    "merged_df_scaled = merged_df.copy()\n",
    "merged_df_scaled[features_to_scale] = scaler.fit_transform(merged_df[features_to_scale])\n",
    "\n",
    "merged_df_scaled.info()"
   ],
   "outputs": [
    {
     "ename": "NameError",
     "evalue": "name 'merged_df' is not defined",
     "output_type": "error",
     "traceback": [
      "\u001B[0;31m---------------------------------------------------------------------------\u001B[0m",
      "\u001B[0;31mNameError\u001B[0m                                 Traceback (most recent call last)",
      "Cell \u001B[0;32mIn[29], line 17\u001B[0m\n\u001B[1;32m     14\u001B[0m scaler \u001B[38;5;241m=\u001B[39m MinMaxScaler() \n\u001B[1;32m     16\u001B[0m \u001B[38;5;66;03m# scale features and replace original features with scaled versions\u001B[39;00m\n\u001B[0;32m---> 17\u001B[0m merged_df_scaled \u001B[38;5;241m=\u001B[39m \u001B[43mmerged_df\u001B[49m\u001B[38;5;241m.\u001B[39mcopy()\n\u001B[1;32m     18\u001B[0m merged_df_scaled[features_to_scale] \u001B[38;5;241m=\u001B[39m scaler\u001B[38;5;241m.\u001B[39mfit_transform(merged_df[features_to_scale])\n\u001B[1;32m     20\u001B[0m merged_df_scaled\u001B[38;5;241m.\u001B[39minfo()\n",
      "\u001B[0;31mNameError\u001B[0m: name 'merged_df' is not defined"
     ]
    }
   ],
   "execution_count": 29
  },
  {
   "cell_type": "code",
   "id": "6d49e5ff-0b64-4a82-a0d3-0bac1d4a5c7e",
   "metadata": {
    "ExecuteTime": {
     "end_time": "2024-11-10T19:45:15.028258Z",
     "start_time": "2024-11-10T19:45:15.020844Z"
    }
   },
   "source": [
    "merged_df_scaled"
   ],
   "outputs": [
    {
     "ename": "NameError",
     "evalue": "name 'merged_df_scaled' is not defined",
     "output_type": "error",
     "traceback": [
      "\u001B[0;31m---------------------------------------------------------------------------\u001B[0m",
      "\u001B[0;31mNameError\u001B[0m                                 Traceback (most recent call last)",
      "Cell \u001B[0;32mIn[30], line 1\u001B[0m\n\u001B[0;32m----> 1\u001B[0m \u001B[43mmerged_df_scaled\u001B[49m\n",
      "\u001B[0;31mNameError\u001B[0m: name 'merged_df_scaled' is not defined"
     ]
    }
   ],
   "execution_count": 30
  },
  {
   "cell_type": "markdown",
   "id": "ea88548b-5637-4286-9a84-d0d83cda8633",
   "metadata": {},
   "source": [
    "## Correlation Analysis"
   ]
  },
  {
   "cell_type": "code",
   "id": "8944f69803e9608e",
   "metadata": {
    "scrolled": true,
    "ExecuteTime": {
     "end_time": "2024-11-10T19:45:15.091976Z",
     "start_time": "2024-11-10T19:45:15.084702Z"
    }
   },
   "source": [
    "corr_df = plot_corr(merged_df_scaled)"
   ],
   "outputs": [
    {
     "ename": "NameError",
     "evalue": "name 'plot_corr' is not defined",
     "output_type": "error",
     "traceback": [
      "\u001B[0;31m---------------------------------------------------------------------------\u001B[0m",
      "\u001B[0;31mNameError\u001B[0m                                 Traceback (most recent call last)",
      "Cell \u001B[0;32mIn[31], line 1\u001B[0m\n\u001B[0;32m----> 1\u001B[0m corr_df \u001B[38;5;241m=\u001B[39m \u001B[43mplot_corr\u001B[49m(merged_df_scaled)\n",
      "\u001B[0;31mNameError\u001B[0m: name 'plot_corr' is not defined"
     ]
    }
   ],
   "execution_count": 31
  },
  {
   "cell_type": "markdown",
   "id": "3fe1ad41-80f8-4caa-9de1-ed38ba6460bd",
   "metadata": {},
   "source": [
    "The below code sorts the absolute correlation values of all remaining features with price in descending order. These are the features that appear to have the highest impact on price. "
   ]
  },
  {
   "cell_type": "code",
   "id": "4dc308b9eb0a8c83",
   "metadata": {
    "ExecuteTime": {
     "end_time": "2024-11-10T19:45:15.137224Z",
     "start_time": "2024-11-10T19:45:15.129452Z"
    }
   },
   "source": [
    "corr_price = pd.DataFrame(corr_df['price'])\n",
    "corr_price['absolute_correlation'] = corr_price['price'].abs()\n",
    "corr_price = corr_price.sort_values(by='absolute_correlation', ascending=False)\n",
    "corr_price.head(10)"
   ],
   "outputs": [
    {
     "ename": "NameError",
     "evalue": "name 'corr_df' is not defined",
     "output_type": "error",
     "traceback": [
      "\u001B[0;31m---------------------------------------------------------------------------\u001B[0m",
      "\u001B[0;31mNameError\u001B[0m                                 Traceback (most recent call last)",
      "Cell \u001B[0;32mIn[32], line 1\u001B[0m\n\u001B[0;32m----> 1\u001B[0m corr_price \u001B[38;5;241m=\u001B[39m pd\u001B[38;5;241m.\u001B[39mDataFrame(\u001B[43mcorr_df\u001B[49m[\u001B[38;5;124m'\u001B[39m\u001B[38;5;124mprice\u001B[39m\u001B[38;5;124m'\u001B[39m])\n\u001B[1;32m      2\u001B[0m corr_price[\u001B[38;5;124m'\u001B[39m\u001B[38;5;124mabsolute_correlation\u001B[39m\u001B[38;5;124m'\u001B[39m] \u001B[38;5;241m=\u001B[39m corr_price[\u001B[38;5;124m'\u001B[39m\u001B[38;5;124mprice\u001B[39m\u001B[38;5;124m'\u001B[39m]\u001B[38;5;241m.\u001B[39mabs()\n\u001B[1;32m      3\u001B[0m corr_price \u001B[38;5;241m=\u001B[39m corr_price\u001B[38;5;241m.\u001B[39msort_values(by\u001B[38;5;241m=\u001B[39m\u001B[38;5;124m'\u001B[39m\u001B[38;5;124mabsolute_correlation\u001B[39m\u001B[38;5;124m'\u001B[39m, ascending\u001B[38;5;241m=\u001B[39m\u001B[38;5;28;01mFalse\u001B[39;00m)\n",
      "\u001B[0;31mNameError\u001B[0m: name 'corr_df' is not defined"
     ]
    }
   ],
   "execution_count": 32
  },
  {
   "cell_type": "code",
   "id": "dcad7e0e-8461-49b7-9cae-6b557a7e3d9c",
   "metadata": {
    "ExecuteTime": {
     "end_time": "2024-11-10T19:45:15.175952Z",
     "start_time": "2024-11-10T19:45:15.168194Z"
    }
   },
   "source": [
    "corr_price.info()"
   ],
   "outputs": [
    {
     "ename": "NameError",
     "evalue": "name 'corr_price' is not defined",
     "output_type": "error",
     "traceback": [
      "\u001B[0;31m---------------------------------------------------------------------------\u001B[0m",
      "\u001B[0;31mNameError\u001B[0m                                 Traceback (most recent call last)",
      "Cell \u001B[0;32mIn[33], line 1\u001B[0m\n\u001B[0;32m----> 1\u001B[0m \u001B[43mcorr_price\u001B[49m\u001B[38;5;241m.\u001B[39minfo()\n",
      "\u001B[0;31mNameError\u001B[0m: name 'corr_price' is not defined"
     ]
    }
   ],
   "execution_count": 33
  },
  {
   "cell_type": "markdown",
   "id": "e5900825-5f4d-4a47-a471-095e3c70fc2c",
   "metadata": {},
   "source": [
    "## Handling Multicollinearity"
   ]
  },
  {
   "cell_type": "markdown",
   "id": "fba2aa96-866f-4376-b6c1-9a896c17615d",
   "metadata": {},
   "source": [
    "In this section we will attempt to reduce multicollinearity. Multicollinearity occurs when two or more independent variables are highly correlated, meaning that they provide redundant information about the variance of the target variable. This can make isolating the effects of the features on the target variable difficult, and result in worse model performance.\n",
    "\n",
    "One of the goals of this project was to provide new insight into the effect of features on housing price that are not already well-known. The vast majority of home-buyers are aware that square footage, number of bathrooms, and number of bedrooms are positively correlated with housing price. These are variables that are also positively correlated with eachother; as the size of a house increases, the number of bathrooms and bedrooms generally increases as well. \n",
    "\n",
    "We will not be surprised to find that the feature with the largest impact on price is square footage, # of bathrooms, or # of bedrooms. With this in mind, we plan on only using one of these three variables to train our models. We are more interested in discovering the impact of certain features on price that are less obvious, even if the impact of these features is not as pronounced as the more well-known features above. We hope this will lead to more valuable insights that offer prospective homebuyers helpful information to support their path to homeownership."
   ]
  },
  {
   "cell_type": "code",
   "id": "1fa651ad-8858-4b2b-a54f-fa6f6ee72efc",
   "metadata": {
    "ExecuteTime": {
     "end_time": "2024-11-10T19:45:15.240350Z",
     "start_time": "2024-11-10T19:45:15.228253Z"
    }
   },
   "source": [
    "def drop_multicollinearity_feats(corr_matrix: pd.DataFrame, target: str = 'price', threshold: float =.75) -> set:\n",
    "    \"\"\"\n",
    "    This function takes a correlation matrix, a target variable, and a threshold as arguments,\n",
    "    and returns a set of features that can be dropped from a DataFrame to reduce multicollinearity.\n",
    "    \n",
    "    Parameters:\n",
    "    corr_matrix (pd.DataFrame): A DataFrame containing the correlation values between features.\n",
    "    target (str): The target variable to consider when assessing correlations.\n",
    "    threshold (float): The correlation threshold above which features are considered highly correlated.\n",
    "\n",
    "    Returns:\n",
    "    set: A set of feature names to drop due to high multicollinearity.\n",
    "    \"\"\"\n",
    "    \n",
    "    # convert correlation matrix to absolute values and create boolean mask for upper triangle\n",
    "    corr_matrix = corr_matrix.abs()\n",
    "    mask = np.triu(np.ones_like(corr_matrix, dtype=bool), k=1)\n",
    "    high_corr_pairs = np.where((corr_matrix > threshold) & mask)\n",
    "    \n",
    "    # identify features with correlation greater than threshold, add the pairs to a list\n",
    "    high_corr_features = [(corr_matrix.columns[i], corr_matrix.columns[j]) for i, j in zip(*high_corr_pairs)]\n",
    "    high_corr_features = [pair for pair in high_corr_features if target not in pair] # remove any pairs containing the target\n",
    "    print(f\"Highly correlated non-target feature pairs with absolute correlation > {threshold}:\\n{high_corr_features}\\n\")\n",
    "    multicol_features_to_drop = set() # create set to avoid adding duplicate features\n",
    "    \n",
    "    # add feature with lower correlation to target variable to the set of columns to drop\n",
    "    for feat1, feat2 in high_corr_features:\n",
    "        if corr_matrix.loc[feat1, target] > corr_matrix.loc[feat2, target]:\n",
    "            multicol_features_to_drop.add(feat2)\n",
    "        else:\n",
    "            multicol_features_to_drop.add(feat1)\n",
    "\n",
    "    return multicol_features_to_drop # return the set of features to drop\n",
    "\n",
    "\n",
    "multicol_features = drop_multicollinearity_feats(corr_matrix=corr_df, target='price', threshold=.75)\n",
    "print(f\"Multicollinearity features to drop:\\n{multicol_features}\")"
   ],
   "outputs": [
    {
     "ename": "NameError",
     "evalue": "name 'corr_df' is not defined",
     "output_type": "error",
     "traceback": [
      "\u001B[0;31m---------------------------------------------------------------------------\u001B[0m",
      "\u001B[0;31mNameError\u001B[0m                                 Traceback (most recent call last)",
      "Cell \u001B[0;32mIn[34], line 36\u001B[0m\n\u001B[1;32m     31\u001B[0m             multicol_features_to_drop\u001B[38;5;241m.\u001B[39madd(feat1)\n\u001B[1;32m     33\u001B[0m     \u001B[38;5;28;01mreturn\u001B[39;00m multicol_features_to_drop \u001B[38;5;66;03m# return the set of features to drop\u001B[39;00m\n\u001B[0;32m---> 36\u001B[0m multicol_features \u001B[38;5;241m=\u001B[39m drop_multicollinearity_feats(corr_matrix\u001B[38;5;241m=\u001B[39m\u001B[43mcorr_df\u001B[49m, target\u001B[38;5;241m=\u001B[39m\u001B[38;5;124m'\u001B[39m\u001B[38;5;124mprice\u001B[39m\u001B[38;5;124m'\u001B[39m, threshold\u001B[38;5;241m=\u001B[39m\u001B[38;5;241m.75\u001B[39m)\n\u001B[1;32m     37\u001B[0m \u001B[38;5;28mprint\u001B[39m(\u001B[38;5;124mf\u001B[39m\u001B[38;5;124m\"\u001B[39m\u001B[38;5;124mMulticollinearity features to drop:\u001B[39m\u001B[38;5;130;01m\\n\u001B[39;00m\u001B[38;5;132;01m{\u001B[39;00mmulticol_features\u001B[38;5;132;01m}\u001B[39;00m\u001B[38;5;124m\"\u001B[39m)\n",
      "\u001B[0;31mNameError\u001B[0m: name 'corr_df' is not defined"
     ]
    }
   ],
   "execution_count": 34
  },
  {
   "cell_type": "markdown",
   "id": "fa4c0185-f7cb-4568-8244-ae6cf8d6f623",
   "metadata": {},
   "source": [
    "Display correlation matrix of some high correlation feature pairs."
   ]
  },
  {
   "cell_type": "code",
   "id": "c39f0f29-387b-44ac-98a2-a1fce82034bb",
   "metadata": {
    "ExecuteTime": {
     "end_time": "2024-11-10T19:45:15.271316Z",
     "start_time": "2024-11-10T19:45:15.263619Z"
    }
   },
   "source": [
    "df_multicol = merged_df_scaled[['price','bedrooms', 'bathrooms','squareFootage', 'median_monthly_housing_cost', 'median_household_income']].copy()\n",
    "corr_multicol = plot_corr(df_multicol, annot=True)"
   ],
   "outputs": [
    {
     "ename": "NameError",
     "evalue": "name 'merged_df_scaled' is not defined",
     "output_type": "error",
     "traceback": [
      "\u001B[0;31m---------------------------------------------------------------------------\u001B[0m",
      "\u001B[0;31mNameError\u001B[0m                                 Traceback (most recent call last)",
      "Cell \u001B[0;32mIn[35], line 1\u001B[0m\n\u001B[0;32m----> 1\u001B[0m df_multicol \u001B[38;5;241m=\u001B[39m \u001B[43mmerged_df_scaled\u001B[49m[[\u001B[38;5;124m'\u001B[39m\u001B[38;5;124mprice\u001B[39m\u001B[38;5;124m'\u001B[39m,\u001B[38;5;124m'\u001B[39m\u001B[38;5;124mbedrooms\u001B[39m\u001B[38;5;124m'\u001B[39m, \u001B[38;5;124m'\u001B[39m\u001B[38;5;124mbathrooms\u001B[39m\u001B[38;5;124m'\u001B[39m,\u001B[38;5;124m'\u001B[39m\u001B[38;5;124msquareFootage\u001B[39m\u001B[38;5;124m'\u001B[39m, \u001B[38;5;124m'\u001B[39m\u001B[38;5;124mmedian_monthly_housing_cost\u001B[39m\u001B[38;5;124m'\u001B[39m, \u001B[38;5;124m'\u001B[39m\u001B[38;5;124mmedian_household_income\u001B[39m\u001B[38;5;124m'\u001B[39m]]\u001B[38;5;241m.\u001B[39mcopy()\n\u001B[1;32m      2\u001B[0m corr_multicol \u001B[38;5;241m=\u001B[39m plot_corr(df_multicol, annot\u001B[38;5;241m=\u001B[39m\u001B[38;5;28;01mTrue\u001B[39;00m)\n",
      "\u001B[0;31mNameError\u001B[0m: name 'merged_df_scaled' is not defined"
     ]
    }
   ],
   "execution_count": 35
  },
  {
   "cell_type": "code",
   "id": "eb501ef0-86e0-43b8-8df8-f836736241f3",
   "metadata": {
    "ExecuteTime": {
     "end_time": "2024-11-10T19:45:15.341289Z",
     "start_time": "2024-11-10T19:45:15.334209Z"
    }
   },
   "source": [
    "corr_multicol"
   ],
   "outputs": [
    {
     "ename": "NameError",
     "evalue": "name 'corr_multicol' is not defined",
     "output_type": "error",
     "traceback": [
      "\u001B[0;31m---------------------------------------------------------------------------\u001B[0m",
      "\u001B[0;31mNameError\u001B[0m                                 Traceback (most recent call last)",
      "Cell \u001B[0;32mIn[36], line 1\u001B[0m\n\u001B[0;32m----> 1\u001B[0m \u001B[43mcorr_multicol\u001B[49m\n",
      "\u001B[0;31mNameError\u001B[0m: name 'corr_multicol' is not defined"
     ]
    }
   ],
   "execution_count": 36
  },
  {
   "cell_type": "code",
   "id": "b2585d71-b7f2-466e-83b1-644c35935a48",
   "metadata": {
    "ExecuteTime": {
     "end_time": "2024-11-10T19:45:15.362291Z",
     "start_time": "2024-11-10T19:45:15.354549Z"
    }
   },
   "source": [
    "# create a new df that drops the high multicollinearity features \n",
    "merged_df_reduced_multicol = merged_df_scaled.drop(columns=list(multicol_features)).copy()\n",
    "\n",
    "# re-plot correlation matrix\n",
    "corr_df = plot_corr(merged_df_reduced_multicol)\n",
    "\n",
    "# display correlation matrix\n",
    "corr_reduced = pd.DataFrame(corr_df)"
   ],
   "outputs": [
    {
     "ename": "NameError",
     "evalue": "name 'merged_df_scaled' is not defined",
     "output_type": "error",
     "traceback": [
      "\u001B[0;31m---------------------------------------------------------------------------\u001B[0m",
      "\u001B[0;31mNameError\u001B[0m                                 Traceback (most recent call last)",
      "Cell \u001B[0;32mIn[37], line 2\u001B[0m\n\u001B[1;32m      1\u001B[0m \u001B[38;5;66;03m# create a new df that drops the high multicollinearity features \u001B[39;00m\n\u001B[0;32m----> 2\u001B[0m merged_df_reduced_multicol \u001B[38;5;241m=\u001B[39m \u001B[43mmerged_df_scaled\u001B[49m\u001B[38;5;241m.\u001B[39mdrop(columns\u001B[38;5;241m=\u001B[39m\u001B[38;5;28mlist\u001B[39m(multicol_features))\u001B[38;5;241m.\u001B[39mcopy()\n\u001B[1;32m      4\u001B[0m \u001B[38;5;66;03m# re-plot correlation matrix\u001B[39;00m\n\u001B[1;32m      5\u001B[0m corr_df \u001B[38;5;241m=\u001B[39m plot_corr(merged_df_reduced_multicol)\n",
      "\u001B[0;31mNameError\u001B[0m: name 'merged_df_scaled' is not defined"
     ]
    }
   ],
   "execution_count": 37
  },
  {
   "cell_type": "code",
   "id": "821c56c7-83e6-47e2-b9c8-c43058dee6fa",
   "metadata": {
    "ExecuteTime": {
     "end_time": "2024-11-10T19:45:15.388951Z",
     "start_time": "2024-11-10T19:45:15.380655Z"
    }
   },
   "source": [
    "# repeat multicollinearity analysis with new reduced df\n",
    "multicol_features = drop_multicollinearity_feats(corr_matrix=corr_reduced, target='price', threshold=.50)\n",
    "multicol_features"
   ],
   "outputs": [
    {
     "ename": "NameError",
     "evalue": "name 'corr_reduced' is not defined",
     "output_type": "error",
     "traceback": [
      "\u001B[0;31m---------------------------------------------------------------------------\u001B[0m",
      "\u001B[0;31mNameError\u001B[0m                                 Traceback (most recent call last)",
      "Cell \u001B[0;32mIn[38], line 2\u001B[0m\n\u001B[1;32m      1\u001B[0m \u001B[38;5;66;03m# repeat multicollinearity analysis with new reduced df\u001B[39;00m\n\u001B[0;32m----> 2\u001B[0m multicol_features \u001B[38;5;241m=\u001B[39m drop_multicollinearity_feats(corr_matrix\u001B[38;5;241m=\u001B[39m\u001B[43mcorr_reduced\u001B[49m, target\u001B[38;5;241m=\u001B[39m\u001B[38;5;124m'\u001B[39m\u001B[38;5;124mprice\u001B[39m\u001B[38;5;124m'\u001B[39m, threshold\u001B[38;5;241m=\u001B[39m\u001B[38;5;241m.50\u001B[39m)\n\u001B[1;32m      3\u001B[0m multicol_features\n",
      "\u001B[0;31mNameError\u001B[0m: name 'corr_reduced' is not defined"
     ]
    }
   ],
   "execution_count": 38
  },
  {
   "cell_type": "code",
   "id": "7d4e608a-5901-4264-9fe2-fc3fea40bf9c",
   "metadata": {
    "scrolled": true,
    "ExecuteTime": {
     "end_time": "2024-11-10T19:45:15.448027Z",
     "start_time": "2024-11-10T19:45:15.439683Z"
    }
   },
   "source": [
    "# drop the columns returned by the function \n",
    "# create a new df that drops the high multicollinearity features \n",
    "merged_df_reduced_multicol = merged_df_reduced_multicol.drop(columns=list(multicol_features)).copy()\n",
    "merged_df_reduced_multicol.head()"
   ],
   "outputs": [
    {
     "ename": "NameError",
     "evalue": "name 'merged_df_reduced_multicol' is not defined",
     "output_type": "error",
     "traceback": [
      "\u001B[0;31m---------------------------------------------------------------------------\u001B[0m",
      "\u001B[0;31mNameError\u001B[0m                                 Traceback (most recent call last)",
      "Cell \u001B[0;32mIn[39], line 3\u001B[0m\n\u001B[1;32m      1\u001B[0m \u001B[38;5;66;03m# drop the columns returned by the function \u001B[39;00m\n\u001B[1;32m      2\u001B[0m \u001B[38;5;66;03m# create a new df that drops the high multicollinearity features \u001B[39;00m\n\u001B[0;32m----> 3\u001B[0m merged_df_reduced_multicol \u001B[38;5;241m=\u001B[39m \u001B[43mmerged_df_reduced_multicol\u001B[49m\u001B[38;5;241m.\u001B[39mdrop(columns\u001B[38;5;241m=\u001B[39m\u001B[38;5;28mlist\u001B[39m(multicol_features))\u001B[38;5;241m.\u001B[39mcopy()\n\u001B[1;32m      4\u001B[0m merged_df_reduced_multicol\u001B[38;5;241m.\u001B[39mhead()\n",
      "\u001B[0;31mNameError\u001B[0m: name 'merged_df_reduced_multicol' is not defined"
     ]
    }
   ],
   "execution_count": 39
  },
  {
   "cell_type": "markdown",
   "id": "53a7ca5a-0ee3-4a2f-9632-be9aaad88705",
   "metadata": {},
   "source": [
    "Now that we have addressed multicollinearity and removed non-target features with correlation values above .5, we will sort the absolute correlation values of each feature with price and see if any additional features should be removed before modeling."
   ]
  },
  {
   "cell_type": "code",
   "id": "68bfe021-5085-450e-be2a-8bcfbf2051f2",
   "metadata": {
    "ExecuteTime": {
     "end_time": "2024-11-10T19:45:15.500048Z",
     "start_time": "2024-11-10T19:45:15.491274Z"
    }
   },
   "source": [
    "# sort remaining features by absolute correlation with target-variable\n",
    "corr_reduced_multicol = merged_df_reduced_multicol.corr()\n",
    "corr_reduced_multicol_price = pd.DataFrame(corr_reduced_multicol['price'])\n",
    "corr_reduced_multicol_price['absolute_correlation'] = corr_reduced_multicol_price['price'].abs()\n",
    "corr_reduced_multicol_price = corr_reduced_multicol_price.sort_values(by='absolute_correlation', ascending=False)\n",
    "corr_reduced_multicol_price"
   ],
   "outputs": [
    {
     "ename": "NameError",
     "evalue": "name 'merged_df_reduced_multicol' is not defined",
     "output_type": "error",
     "traceback": [
      "\u001B[0;31m---------------------------------------------------------------------------\u001B[0m",
      "\u001B[0;31mNameError\u001B[0m                                 Traceback (most recent call last)",
      "Cell \u001B[0;32mIn[40], line 2\u001B[0m\n\u001B[1;32m      1\u001B[0m \u001B[38;5;66;03m# sort remaining features by absolute correlation with target-variable\u001B[39;00m\n\u001B[0;32m----> 2\u001B[0m corr_reduced_multicol \u001B[38;5;241m=\u001B[39m \u001B[43mmerged_df_reduced_multicol\u001B[49m\u001B[38;5;241m.\u001B[39mcorr()\n\u001B[1;32m      3\u001B[0m corr_reduced_multicol_price \u001B[38;5;241m=\u001B[39m pd\u001B[38;5;241m.\u001B[39mDataFrame(corr_reduced_multicol[\u001B[38;5;124m'\u001B[39m\u001B[38;5;124mprice\u001B[39m\u001B[38;5;124m'\u001B[39m])\n\u001B[1;32m      4\u001B[0m corr_reduced_multicol_price[\u001B[38;5;124m'\u001B[39m\u001B[38;5;124mabsolute_correlation\u001B[39m\u001B[38;5;124m'\u001B[39m] \u001B[38;5;241m=\u001B[39m corr_reduced_multicol_price[\u001B[38;5;124m'\u001B[39m\u001B[38;5;124mprice\u001B[39m\u001B[38;5;124m'\u001B[39m]\u001B[38;5;241m.\u001B[39mabs()\n",
      "\u001B[0;31mNameError\u001B[0m: name 'merged_df_reduced_multicol' is not defined"
     ]
    }
   ],
   "execution_count": 40
  },
  {
   "cell_type": "markdown",
   "id": "d094ec5c-f547-4d60-9164-c655f35cfdfd",
   "metadata": {},
   "source": [
    "Now we will remove all features with a correlation value with price less than .10. "
   ]
  },
  {
   "cell_type": "code",
   "id": "f0ae0973-4d3b-4f4a-af60-abbbf6342d71",
   "metadata": {
    "ExecuteTime": {
     "end_time": "2024-11-10T19:45:15.533168Z",
     "start_time": "2024-11-10T19:45:15.524584Z"
    }
   },
   "source": [
    "# get features with price-correlation < .10\n",
    "low_price_corr_features = corr_reduced_multicol_price[corr_reduced_multicol_price['absolute_correlation'] < .10].index.tolist()\n",
    "low_price_corr_features"
   ],
   "outputs": [
    {
     "ename": "NameError",
     "evalue": "name 'corr_reduced_multicol_price' is not defined",
     "output_type": "error",
     "traceback": [
      "\u001B[0;31m---------------------------------------------------------------------------\u001B[0m",
      "\u001B[0;31mNameError\u001B[0m                                 Traceback (most recent call last)",
      "Cell \u001B[0;32mIn[41], line 2\u001B[0m\n\u001B[1;32m      1\u001B[0m \u001B[38;5;66;03m# get features with price-correlation < .10\u001B[39;00m\n\u001B[0;32m----> 2\u001B[0m low_price_corr_features \u001B[38;5;241m=\u001B[39m \u001B[43mcorr_reduced_multicol_price\u001B[49m[corr_reduced_multicol_price[\u001B[38;5;124m'\u001B[39m\u001B[38;5;124mabsolute_correlation\u001B[39m\u001B[38;5;124m'\u001B[39m] \u001B[38;5;241m<\u001B[39m \u001B[38;5;241m.10\u001B[39m]\u001B[38;5;241m.\u001B[39mindex\u001B[38;5;241m.\u001B[39mtolist()\n\u001B[1;32m      3\u001B[0m low_price_corr_features\n",
      "\u001B[0;31mNameError\u001B[0m: name 'corr_reduced_multicol_price' is not defined"
     ]
    }
   ],
   "execution_count": 41
  },
  {
   "cell_type": "code",
   "id": "b3aa4c63-0582-4a7c-ab79-4407ac5d47d4",
   "metadata": {
    "scrolled": true,
    "ExecuteTime": {
     "end_time": "2024-11-10T19:45:15.610287Z",
     "start_time": "2024-11-10T19:45:15.599965Z"
    }
   },
   "source": [
    "# final scaled dataframe with the relevant features and target\n",
    "merged_df_final_scaled = merged_df_reduced_multicol.drop(columns=low_price_corr_features, axis=1).copy()\n",
    "\n",
    "# get the list of features and target\n",
    "final_features_and_target = merged_df_final_scaled.columns.tolist()\n",
    "\n",
    "# make a datafraame with the original, raw data with only the relevant features and target. We will be standardizing inside the pipeline\n",
    "ml_df = merged_df[final_features_and_target].copy()\n",
    "ml_df.info()\n",
    "ml_df.head()"
   ],
   "outputs": [
    {
     "ename": "NameError",
     "evalue": "name 'merged_df_reduced_multicol' is not defined",
     "output_type": "error",
     "traceback": [
      "\u001B[0;31m---------------------------------------------------------------------------\u001B[0m",
      "\u001B[0;31mNameError\u001B[0m                                 Traceback (most recent call last)",
      "Cell \u001B[0;32mIn[42], line 2\u001B[0m\n\u001B[1;32m      1\u001B[0m \u001B[38;5;66;03m# final scaled dataframe with the relevant features and target\u001B[39;00m\n\u001B[0;32m----> 2\u001B[0m merged_df_final_scaled \u001B[38;5;241m=\u001B[39m \u001B[43mmerged_df_reduced_multicol\u001B[49m\u001B[38;5;241m.\u001B[39mdrop(columns\u001B[38;5;241m=\u001B[39mlow_price_corr_features, axis\u001B[38;5;241m=\u001B[39m\u001B[38;5;241m1\u001B[39m)\u001B[38;5;241m.\u001B[39mcopy()\n\u001B[1;32m      4\u001B[0m \u001B[38;5;66;03m# get the list of features and target\u001B[39;00m\n\u001B[1;32m      5\u001B[0m final_features_and_target \u001B[38;5;241m=\u001B[39m merged_df_final_scaled\u001B[38;5;241m.\u001B[39mcolumns\u001B[38;5;241m.\u001B[39mtolist()\n",
      "\u001B[0;31mNameError\u001B[0m: name 'merged_df_reduced_multicol' is not defined"
     ]
    }
   ],
   "execution_count": 42
  },
  {
   "cell_type": "markdown",
   "id": "c715d87b-546a-41ac-8934-fa2acdcd779b",
   "metadata": {},
   "source": [
    "After removing features with low correlation values with price, we are left with 11 columns (10 remaining features). We will now begin building models that can best predict housing price based on the features of our data."
   ]
  },
  {
   "cell_type": "code",
   "id": "922714840ca6d02b",
   "metadata": {
    "scrolled": true,
    "ExecuteTime": {
     "end_time": "2024-11-10T19:45:15.642019Z",
     "start_time": "2024-11-10T19:45:15.632874Z"
    }
   },
   "source": [
    "plot_corr(data=ml_df, annot=True)"
   ],
   "outputs": [
    {
     "ename": "NameError",
     "evalue": "name 'plot_corr' is not defined",
     "output_type": "error",
     "traceback": [
      "\u001B[0;31m---------------------------------------------------------------------------\u001B[0m",
      "\u001B[0;31mNameError\u001B[0m                                 Traceback (most recent call last)",
      "Cell \u001B[0;32mIn[43], line 1\u001B[0m\n\u001B[0;32m----> 1\u001B[0m \u001B[43mplot_corr\u001B[49m(data\u001B[38;5;241m=\u001B[39mml_df, annot\u001B[38;5;241m=\u001B[39m\u001B[38;5;28;01mTrue\u001B[39;00m)\n",
      "\u001B[0;31mNameError\u001B[0m: name 'plot_corr' is not defined"
     ]
    }
   ],
   "execution_count": 43
  },
  {
   "cell_type": "markdown",
   "id": "ea347cbc-1ed1-4b89-bfd4-7fcdd7b9737d",
   "metadata": {},
   "source": [
    "## Modeling"
   ]
  },
  {
   "cell_type": "markdown",
   "id": "6f5a1009f9b4b783",
   "metadata": {},
   "source": [
    "### Splitting Data Into Train and Test"
   ]
  },
  {
   "cell_type": "code",
   "id": "b1a6cf22e04c0c",
   "metadata": {
    "ExecuteTime": {
     "end_time": "2024-11-10T19:45:15.726535Z",
     "start_time": "2024-11-10T19:45:15.715236Z"
    }
   },
   "source": [
    "X = ml_df.drop(columns=['price']).copy()\n",
    "y = ml_df['price'].copy()\n",
    "\n",
    "# set seed for reproducibility\n",
    "np.random.seed(42)\n",
    "random.seed(42)\n",
    "\n",
    "# split data\n",
    "x_train, x_test, y_train, y_test = train_test_split(X, y, test_size=0.3, random_state=42)\n",
    "\n",
    "# dataset names\n",
    "ds_names = ['X train', 'X test', 'y train', 'y test']\n",
    "\n",
    "# dataset list\n",
    "ds_list = [x_train, x_test, y_train, y_test]\n",
    "\n",
    "# print the shape of each dataset\n",
    "for i in range(len(ds_list)):\n",
    "    print(ds_names[i],'shape: ',ds_list[i].shape)\n",
    "    print()"
   ],
   "outputs": [
    {
     "ename": "NameError",
     "evalue": "name 'ml_df' is not defined",
     "output_type": "error",
     "traceback": [
      "\u001B[0;31m---------------------------------------------------------------------------\u001B[0m",
      "\u001B[0;31mNameError\u001B[0m                                 Traceback (most recent call last)",
      "Cell \u001B[0;32mIn[44], line 1\u001B[0m\n\u001B[0;32m----> 1\u001B[0m X \u001B[38;5;241m=\u001B[39m \u001B[43mml_df\u001B[49m\u001B[38;5;241m.\u001B[39mdrop(columns\u001B[38;5;241m=\u001B[39m[\u001B[38;5;124m'\u001B[39m\u001B[38;5;124mprice\u001B[39m\u001B[38;5;124m'\u001B[39m])\u001B[38;5;241m.\u001B[39mcopy()\n\u001B[1;32m      2\u001B[0m y \u001B[38;5;241m=\u001B[39m ml_df[\u001B[38;5;124m'\u001B[39m\u001B[38;5;124mprice\u001B[39m\u001B[38;5;124m'\u001B[39m]\u001B[38;5;241m.\u001B[39mcopy()\n\u001B[1;32m      4\u001B[0m \u001B[38;5;66;03m# set seed for reproducibility\u001B[39;00m\n",
      "\u001B[0;31mNameError\u001B[0m: name 'ml_df' is not defined"
     ]
    }
   ],
   "execution_count": 44
  },
  {
   "cell_type": "markdown",
   "id": "49243846006316c6",
   "metadata": {},
   "source": [
    "### Pipeline Setup"
   ]
  },
  {
   "cell_type": "code",
   "id": "f1e57642896be7f0",
   "metadata": {
    "ExecuteTime": {
     "end_time": "2024-11-10T19:45:15.762581Z",
     "start_time": "2024-11-10T19:45:15.747516Z"
    }
   },
   "source": [
    "# create dictionary of different models to test\n",
    "MODEL_DICT = {\n",
    "    'ols': {'model': LinearRegression()},\n",
    "    'tree': {'model': DecisionTreeRegressor(random_state=42)},\n",
    "    'rfr': {'model': RandomForestRegressor(random_state=42)},\n",
    "    'gbr': {'model': GradientBoostingRegressor(random_state=42)},\n",
    "}\n",
    "# get list of model names\n",
    "models = list(MODEL_DICT.keys())\n",
    "\n",
    "# for each model\n",
    "for model_name in models:\n",
    "    \n",
    "    # initiate the model pipeline\n",
    "    pipeline = Pipeline(\n",
    "        [('scaler', StandardScaler()),\n",
    "         ('knn_imputer', KNNImputer(n_neighbors=5)),\n",
    "         ('model', MODEL_DICT[model_name]['model'])\n",
    "         ],\n",
    "    )\n",
    "    \n",
    "    print(f'Fitting {model_name} on Train Data')\n",
    "    # fit on the train dataset\n",
    "    pipeline.fit(X=x_train, y=y_train)\n",
    "    \n",
    "    # predict on the train dataset\n",
    "    y_train_predictions = pipeline.predict(X=x_train)\n",
    "    \n",
    "    # predict on the test dataset\n",
    "    y_test_predictions = pipeline.predict(X=x_test)\n",
    "    \n",
    "    # make dataframe to store train results\n",
    "    train_results = pd.DataFrame(y_train.values, columns=['actual_price'])\n",
    "    \n",
    "    # add column to store predictions\n",
    "    train_results['predicted_price'] = y_train_predictions\n",
    "    \n",
    "    # make dataset to store test results\n",
    "    test_results = pd.DataFrame(y_test.values, columns=['actual_price'])\n",
    "    \n",
    "    # add column to store predictions\n",
    "    test_results['predicted_price'] = y_test_predictions\n",
    "    \n",
    "    # make list of datasets\n",
    "    dfs = [train_results, test_results]\n",
    "    \n",
    "    # make list of dataset names\n",
    "    df_names = ['train_results', 'test_results']\n",
    "    \n",
    "    # make list of RMSE metric names\n",
    "    rmse_names = ['rmse_train', 'rmse_test']\n",
    "    \n",
    "    # compute residuals, RMSE for each result\n",
    "    for i in range(len(df_names)):\n",
    "        df = dfs[i]\n",
    "        df_name = df_names[i]\n",
    "        df['residual'] = df['actual_price'] - df['predicted_price']\n",
    "        \n",
    "        MODEL_DICT[model_name][df_name] = df\n",
    "        rmse = root_mean_squared_error(df['actual_price'], df['predicted_price'])\n",
    "        MODEL_DICT[model_name][rmse_names[i]] = rmse\n",
    "        "
   ],
   "outputs": [
    {
     "name": "stdout",
     "output_type": "stream",
     "text": [
      "Fitting ols on Train Data\n"
     ]
    },
    {
     "ename": "NameError",
     "evalue": "name 'x_train' is not defined",
     "output_type": "error",
     "traceback": [
      "\u001B[0;31m---------------------------------------------------------------------------\u001B[0m",
      "\u001B[0;31mNameError\u001B[0m                                 Traceback (most recent call last)",
      "Cell \u001B[0;32mIn[45], line 24\u001B[0m\n\u001B[1;32m     22\u001B[0m \u001B[38;5;28mprint\u001B[39m(\u001B[38;5;124mf\u001B[39m\u001B[38;5;124m'\u001B[39m\u001B[38;5;124mFitting \u001B[39m\u001B[38;5;132;01m{\u001B[39;00mmodel_name\u001B[38;5;132;01m}\u001B[39;00m\u001B[38;5;124m on Train Data\u001B[39m\u001B[38;5;124m'\u001B[39m)\n\u001B[1;32m     23\u001B[0m \u001B[38;5;66;03m# fit on the train dataset\u001B[39;00m\n\u001B[0;32m---> 24\u001B[0m pipeline\u001B[38;5;241m.\u001B[39mfit(X\u001B[38;5;241m=\u001B[39m\u001B[43mx_train\u001B[49m, y\u001B[38;5;241m=\u001B[39my_train)\n\u001B[1;32m     26\u001B[0m \u001B[38;5;66;03m# predict on the train dataset\u001B[39;00m\n\u001B[1;32m     27\u001B[0m y_train_predictions \u001B[38;5;241m=\u001B[39m pipeline\u001B[38;5;241m.\u001B[39mpredict(X\u001B[38;5;241m=\u001B[39mx_train)\n",
      "\u001B[0;31mNameError\u001B[0m: name 'x_train' is not defined"
     ]
    }
   ],
   "execution_count": 45
  },
  {
   "cell_type": "code",
   "id": "af9a02d079a043f9",
   "metadata": {
    "ExecuteTime": {
     "end_time": "2024-11-10T19:45:15.844075Z",
     "start_time": "2024-11-10T19:45:15.823912Z"
    }
   },
   "source": [
    "def plot_residuals(model_name: str):\n",
    "    \"\"\"\n",
    "    Plot the distribution of residuals for a specified model.\n",
    "\n",
    "    This function retrieves residuals from training and test data for a given model, then creates a two-panel plot\n",
    "    to visualize the distribution of residuals for training and test sets.\n",
    "    \n",
    "    Params:\n",
    "        model_name: str. The name of the model to plot the residuals for.\n",
    "    \"\"\"\n",
    "    # get the train and test residuals in Pandas Series\n",
    "    train_residuals = MODEL_DICT[model_name]['train_results']['residual']\n",
    "    test_residuals = MODEL_DICT[model_name]['test_results']['residual']\n",
    "    \n",
    "    # get the standard deviation of the true price for train and test\n",
    "    true_y_std_train = round(MODEL_DICT[model_name]['train_results']['actual_price'].std() / 1000000, 2)\n",
    "    true_y_std_test = round(MODEL_DICT[model_name]['test_results']['actual_price'].std() / 1000000, 2)\n",
    "    \n",
    "    # initiate matplotlib figure\n",
    "    fig, ax = plt.subplots(figsize=(17, 12), ncols=1, nrows=2)\n",
    "    \n",
    "    # compute histogram of residuals for train and test results\n",
    "    sns.histplot(train_residuals, ax=ax[0])\n",
    "    sns.histplot(test_residuals, ax=ax[1])\n",
    "    \n",
    "    # compute the RMSE for train and test\n",
    "    rmse_train = round(MODEL_DICT[model_name]['rmse_train'] / 1000000, 2)\n",
    "    rmse_test = round(MODEL_DICT[model_name]['rmse_test'] / 1000000, 2)\n",
    "    \n",
    "    # compute the mean residuals for train and test\n",
    "    mean_residual_train = round(train_residuals.mean(), 3)\n",
    "    mean_residual_test = round(test_residuals.mean(), 3)\n",
    "    \n",
    "    # set the titles for each figure\n",
    "    ax[0].set_title(f'{model_name.upper()} | Residuals | RMSE Train: {rmse_train} million USD | True Price Std: {true_y_std_train} million USD | Mean Res.: {mean_residual_train}')\n",
    "    ax[1].set_title(f'{model_name.upper()} | Residuals | RMSE Test: {rmse_test} million USD | True Price Std: {true_y_std_test} million USD | Mean Res.: {mean_residual_test}')\n",
    "    \n",
    "    plt.show()\n",
    "    \n",
    "    \n",
    "plot_residuals(model_name='ols')"
   ],
   "outputs": [
    {
     "ename": "KeyError",
     "evalue": "'train_results'",
     "output_type": "error",
     "traceback": [
      "\u001B[0;31m---------------------------------------------------------------------------\u001B[0m",
      "\u001B[0;31mKeyError\u001B[0m                                  Traceback (most recent call last)",
      "Cell \u001B[0;32mIn[46], line 41\u001B[0m\n\u001B[1;32m     36\u001B[0m     ax[\u001B[38;5;241m1\u001B[39m]\u001B[38;5;241m.\u001B[39mset_title(\u001B[38;5;124mf\u001B[39m\u001B[38;5;124m'\u001B[39m\u001B[38;5;132;01m{\u001B[39;00mmodel_name\u001B[38;5;241m.\u001B[39mupper()\u001B[38;5;132;01m}\u001B[39;00m\u001B[38;5;124m | Residuals | RMSE Test: \u001B[39m\u001B[38;5;132;01m{\u001B[39;00mrmse_test\u001B[38;5;132;01m}\u001B[39;00m\u001B[38;5;124m million USD | True Price Std: \u001B[39m\u001B[38;5;132;01m{\u001B[39;00mtrue_y_std_test\u001B[38;5;132;01m}\u001B[39;00m\u001B[38;5;124m million USD | Mean Res.: \u001B[39m\u001B[38;5;132;01m{\u001B[39;00mmean_residual_test\u001B[38;5;132;01m}\u001B[39;00m\u001B[38;5;124m'\u001B[39m)\n\u001B[1;32m     38\u001B[0m     plt\u001B[38;5;241m.\u001B[39mshow()\n\u001B[0;32m---> 41\u001B[0m \u001B[43mplot_residuals\u001B[49m\u001B[43m(\u001B[49m\u001B[43mmodel_name\u001B[49m\u001B[38;5;241;43m=\u001B[39;49m\u001B[38;5;124;43m'\u001B[39;49m\u001B[38;5;124;43mols\u001B[39;49m\u001B[38;5;124;43m'\u001B[39;49m\u001B[43m)\u001B[49m\n",
      "Cell \u001B[0;32mIn[46], line 12\u001B[0m, in \u001B[0;36mplot_residuals\u001B[0;34m(model_name)\u001B[0m\n\u001B[1;32m      2\u001B[0m \u001B[38;5;250m\u001B[39m\u001B[38;5;124;03m\"\"\"\u001B[39;00m\n\u001B[1;32m      3\u001B[0m \u001B[38;5;124;03mPlot the distribution of residuals for a specified model.\u001B[39;00m\n\u001B[1;32m      4\u001B[0m \n\u001B[0;32m   (...)\u001B[0m\n\u001B[1;32m      9\u001B[0m \u001B[38;5;124;03m    model_name: str. The name of the model to plot the residuals for.\u001B[39;00m\n\u001B[1;32m     10\u001B[0m \u001B[38;5;124;03m\"\"\"\u001B[39;00m\n\u001B[1;32m     11\u001B[0m \u001B[38;5;66;03m# get the train and test residuals in Pandas Series\u001B[39;00m\n\u001B[0;32m---> 12\u001B[0m train_residuals \u001B[38;5;241m=\u001B[39m \u001B[43mMODEL_DICT\u001B[49m\u001B[43m[\u001B[49m\u001B[43mmodel_name\u001B[49m\u001B[43m]\u001B[49m\u001B[43m[\u001B[49m\u001B[38;5;124;43m'\u001B[39;49m\u001B[38;5;124;43mtrain_results\u001B[39;49m\u001B[38;5;124;43m'\u001B[39;49m\u001B[43m]\u001B[49m[\u001B[38;5;124m'\u001B[39m\u001B[38;5;124mresidual\u001B[39m\u001B[38;5;124m'\u001B[39m]\n\u001B[1;32m     13\u001B[0m test_residuals \u001B[38;5;241m=\u001B[39m MODEL_DICT[model_name][\u001B[38;5;124m'\u001B[39m\u001B[38;5;124mtest_results\u001B[39m\u001B[38;5;124m'\u001B[39m][\u001B[38;5;124m'\u001B[39m\u001B[38;5;124mresidual\u001B[39m\u001B[38;5;124m'\u001B[39m]\n\u001B[1;32m     15\u001B[0m \u001B[38;5;66;03m# get the standard deviation of the true price for train and test\u001B[39;00m\n",
      "\u001B[0;31mKeyError\u001B[0m: 'train_results'"
     ]
    }
   ],
   "execution_count": 46
  },
  {
   "cell_type": "code",
   "id": "e56d637bf28d0f38",
   "metadata": {
    "ExecuteTime": {
     "end_time": "2024-11-10T19:45:15.940377Z",
     "start_time": "2024-11-10T19:45:15.924467Z"
    }
   },
   "source": [
    "plot_residuals(model_name='tree')"
   ],
   "outputs": [
    {
     "ename": "KeyError",
     "evalue": "'train_results'",
     "output_type": "error",
     "traceback": [
      "\u001B[0;31m---------------------------------------------------------------------------\u001B[0m",
      "\u001B[0;31mKeyError\u001B[0m                                  Traceback (most recent call last)",
      "Cell \u001B[0;32mIn[47], line 1\u001B[0m\n\u001B[0;32m----> 1\u001B[0m \u001B[43mplot_residuals\u001B[49m\u001B[43m(\u001B[49m\u001B[43mmodel_name\u001B[49m\u001B[38;5;241;43m=\u001B[39;49m\u001B[38;5;124;43m'\u001B[39;49m\u001B[38;5;124;43mtree\u001B[39;49m\u001B[38;5;124;43m'\u001B[39;49m\u001B[43m)\u001B[49m\n",
      "Cell \u001B[0;32mIn[46], line 12\u001B[0m, in \u001B[0;36mplot_residuals\u001B[0;34m(model_name)\u001B[0m\n\u001B[1;32m      2\u001B[0m \u001B[38;5;250m\u001B[39m\u001B[38;5;124;03m\"\"\"\u001B[39;00m\n\u001B[1;32m      3\u001B[0m \u001B[38;5;124;03mPlot the distribution of residuals for a specified model.\u001B[39;00m\n\u001B[1;32m      4\u001B[0m \n\u001B[0;32m   (...)\u001B[0m\n\u001B[1;32m      9\u001B[0m \u001B[38;5;124;03m    model_name: str. The name of the model to plot the residuals for.\u001B[39;00m\n\u001B[1;32m     10\u001B[0m \u001B[38;5;124;03m\"\"\"\u001B[39;00m\n\u001B[1;32m     11\u001B[0m \u001B[38;5;66;03m# get the train and test residuals in Pandas Series\u001B[39;00m\n\u001B[0;32m---> 12\u001B[0m train_residuals \u001B[38;5;241m=\u001B[39m \u001B[43mMODEL_DICT\u001B[49m\u001B[43m[\u001B[49m\u001B[43mmodel_name\u001B[49m\u001B[43m]\u001B[49m\u001B[43m[\u001B[49m\u001B[38;5;124;43m'\u001B[39;49m\u001B[38;5;124;43mtrain_results\u001B[39;49m\u001B[38;5;124;43m'\u001B[39;49m\u001B[43m]\u001B[49m[\u001B[38;5;124m'\u001B[39m\u001B[38;5;124mresidual\u001B[39m\u001B[38;5;124m'\u001B[39m]\n\u001B[1;32m     13\u001B[0m test_residuals \u001B[38;5;241m=\u001B[39m MODEL_DICT[model_name][\u001B[38;5;124m'\u001B[39m\u001B[38;5;124mtest_results\u001B[39m\u001B[38;5;124m'\u001B[39m][\u001B[38;5;124m'\u001B[39m\u001B[38;5;124mresidual\u001B[39m\u001B[38;5;124m'\u001B[39m]\n\u001B[1;32m     15\u001B[0m \u001B[38;5;66;03m# get the standard deviation of the true price for train and test\u001B[39;00m\n",
      "\u001B[0;31mKeyError\u001B[0m: 'train_results'"
     ]
    }
   ],
   "execution_count": 47
  },
  {
   "cell_type": "code",
   "id": "4f4ab35770cf72a7",
   "metadata": {
    "ExecuteTime": {
     "end_time": "2024-11-10T19:45:16.017177Z",
     "start_time": "2024-11-10T19:45:16.000843Z"
    }
   },
   "source": [
    "plot_residuals(model_name='gbr')"
   ],
   "outputs": [
    {
     "ename": "KeyError",
     "evalue": "'train_results'",
     "output_type": "error",
     "traceback": [
      "\u001B[0;31m---------------------------------------------------------------------------\u001B[0m",
      "\u001B[0;31mKeyError\u001B[0m                                  Traceback (most recent call last)",
      "Cell \u001B[0;32mIn[48], line 1\u001B[0m\n\u001B[0;32m----> 1\u001B[0m \u001B[43mplot_residuals\u001B[49m\u001B[43m(\u001B[49m\u001B[43mmodel_name\u001B[49m\u001B[38;5;241;43m=\u001B[39;49m\u001B[38;5;124;43m'\u001B[39;49m\u001B[38;5;124;43mgbr\u001B[39;49m\u001B[38;5;124;43m'\u001B[39;49m\u001B[43m)\u001B[49m\n",
      "Cell \u001B[0;32mIn[46], line 12\u001B[0m, in \u001B[0;36mplot_residuals\u001B[0;34m(model_name)\u001B[0m\n\u001B[1;32m      2\u001B[0m \u001B[38;5;250m\u001B[39m\u001B[38;5;124;03m\"\"\"\u001B[39;00m\n\u001B[1;32m      3\u001B[0m \u001B[38;5;124;03mPlot the distribution of residuals for a specified model.\u001B[39;00m\n\u001B[1;32m      4\u001B[0m \n\u001B[0;32m   (...)\u001B[0m\n\u001B[1;32m      9\u001B[0m \u001B[38;5;124;03m    model_name: str. The name of the model to plot the residuals for.\u001B[39;00m\n\u001B[1;32m     10\u001B[0m \u001B[38;5;124;03m\"\"\"\u001B[39;00m\n\u001B[1;32m     11\u001B[0m \u001B[38;5;66;03m# get the train and test residuals in Pandas Series\u001B[39;00m\n\u001B[0;32m---> 12\u001B[0m train_residuals \u001B[38;5;241m=\u001B[39m \u001B[43mMODEL_DICT\u001B[49m\u001B[43m[\u001B[49m\u001B[43mmodel_name\u001B[49m\u001B[43m]\u001B[49m\u001B[43m[\u001B[49m\u001B[38;5;124;43m'\u001B[39;49m\u001B[38;5;124;43mtrain_results\u001B[39;49m\u001B[38;5;124;43m'\u001B[39;49m\u001B[43m]\u001B[49m[\u001B[38;5;124m'\u001B[39m\u001B[38;5;124mresidual\u001B[39m\u001B[38;5;124m'\u001B[39m]\n\u001B[1;32m     13\u001B[0m test_residuals \u001B[38;5;241m=\u001B[39m MODEL_DICT[model_name][\u001B[38;5;124m'\u001B[39m\u001B[38;5;124mtest_results\u001B[39m\u001B[38;5;124m'\u001B[39m][\u001B[38;5;124m'\u001B[39m\u001B[38;5;124mresidual\u001B[39m\u001B[38;5;124m'\u001B[39m]\n\u001B[1;32m     15\u001B[0m \u001B[38;5;66;03m# get the standard deviation of the true price for train and test\u001B[39;00m\n",
      "\u001B[0;31mKeyError\u001B[0m: 'train_results'"
     ]
    }
   ],
   "execution_count": 48
  },
  {
   "cell_type": "code",
   "id": "6e3191d20d9124ba",
   "metadata": {
    "ExecuteTime": {
     "end_time": "2024-11-10T19:45:16.043408Z",
     "start_time": "2024-11-10T19:45:16.029660Z"
    }
   },
   "source": [
    "plot_residuals(model_name='rfr')"
   ],
   "outputs": [
    {
     "ename": "KeyError",
     "evalue": "'train_results'",
     "output_type": "error",
     "traceback": [
      "\u001B[0;31m---------------------------------------------------------------------------\u001B[0m",
      "\u001B[0;31mKeyError\u001B[0m                                  Traceback (most recent call last)",
      "Cell \u001B[0;32mIn[49], line 1\u001B[0m\n\u001B[0;32m----> 1\u001B[0m \u001B[43mplot_residuals\u001B[49m\u001B[43m(\u001B[49m\u001B[43mmodel_name\u001B[49m\u001B[38;5;241;43m=\u001B[39;49m\u001B[38;5;124;43m'\u001B[39;49m\u001B[38;5;124;43mrfr\u001B[39;49m\u001B[38;5;124;43m'\u001B[39;49m\u001B[43m)\u001B[49m\n",
      "Cell \u001B[0;32mIn[46], line 12\u001B[0m, in \u001B[0;36mplot_residuals\u001B[0;34m(model_name)\u001B[0m\n\u001B[1;32m      2\u001B[0m \u001B[38;5;250m\u001B[39m\u001B[38;5;124;03m\"\"\"\u001B[39;00m\n\u001B[1;32m      3\u001B[0m \u001B[38;5;124;03mPlot the distribution of residuals for a specified model.\u001B[39;00m\n\u001B[1;32m      4\u001B[0m \n\u001B[0;32m   (...)\u001B[0m\n\u001B[1;32m      9\u001B[0m \u001B[38;5;124;03m    model_name: str. The name of the model to plot the residuals for.\u001B[39;00m\n\u001B[1;32m     10\u001B[0m \u001B[38;5;124;03m\"\"\"\u001B[39;00m\n\u001B[1;32m     11\u001B[0m \u001B[38;5;66;03m# get the train and test residuals in Pandas Series\u001B[39;00m\n\u001B[0;32m---> 12\u001B[0m train_residuals \u001B[38;5;241m=\u001B[39m \u001B[43mMODEL_DICT\u001B[49m\u001B[43m[\u001B[49m\u001B[43mmodel_name\u001B[49m\u001B[43m]\u001B[49m\u001B[43m[\u001B[49m\u001B[38;5;124;43m'\u001B[39;49m\u001B[38;5;124;43mtrain_results\u001B[39;49m\u001B[38;5;124;43m'\u001B[39;49m\u001B[43m]\u001B[49m[\u001B[38;5;124m'\u001B[39m\u001B[38;5;124mresidual\u001B[39m\u001B[38;5;124m'\u001B[39m]\n\u001B[1;32m     13\u001B[0m test_residuals \u001B[38;5;241m=\u001B[39m MODEL_DICT[model_name][\u001B[38;5;124m'\u001B[39m\u001B[38;5;124mtest_results\u001B[39m\u001B[38;5;124m'\u001B[39m][\u001B[38;5;124m'\u001B[39m\u001B[38;5;124mresidual\u001B[39m\u001B[38;5;124m'\u001B[39m]\n\u001B[1;32m     15\u001B[0m \u001B[38;5;66;03m# get the standard deviation of the true price for train and test\u001B[39;00m\n",
      "\u001B[0;31mKeyError\u001B[0m: 'train_results'"
     ]
    }
   ],
   "execution_count": 49
  },
  {
   "cell_type": "code",
   "id": "393d17ace43eb8bc",
   "metadata": {
    "ExecuteTime": {
     "end_time": "2024-11-10T19:45:16.163147Z",
     "start_time": "2024-11-10T19:45:16.102622Z"
    }
   },
   "source": [
    "def plot_feature_importances(model_name: str):\n",
    "    '''\n",
    "    Plots the feature importance of the selected model name.\n",
    "    :param model_name: str. name of the model\n",
    "    \n",
    "    '''\n",
    "    # if the model name is not tree, gbr, or rfr, then raise error\n",
    "    if model_name not in ['tree', 'gbr', 'rfr']:\n",
    "        raise ValueError(f\"Cannot plot feature importance from this model: {model_name}\")\n",
    "    \n",
    "    # get the feature importances\n",
    "    feature_importances = MODEL_DICT[model_name]['model'].feature_importances_\n",
    "    \n",
    "    # get the feature names\n",
    "    feature_names = ml_df.drop(columns=['price']).columns.tolist()\n",
    "    \n",
    "    # initiate the figure\n",
    "    fig, ax = plt.subplots(figsize=(17, 5), ncols=1, nrows=1)\n",
    "    \n",
    "    # make dataframe of feature importances\n",
    "    data = pd.DataFrame({'importance': feature_importances, 'feature': feature_names})\n",
    "    \n",
    "    # sort features by importance\n",
    "    data = data.sort_values(by='importance', ascending=False)\n",
    "    \n",
    "    # build barplot\n",
    "    sns.barplot(data=data, x='feature', y='importance', ax=ax)\n",
    "    \n",
    "    # set ticks for x axis\n",
    "    plt.xticks(rotation=45)\n",
    "    \n",
    "    # set title\n",
    "    plt.title(f'Feature Importances for {model_name.upper()} Model')\n",
    "   \n",
    "plot_feature_importances(model_name='tree') \n"
   ],
   "outputs": [
    {
     "ename": "NotFittedError",
     "evalue": "This DecisionTreeRegressor instance is not fitted yet. Call 'fit' with appropriate arguments before using this estimator.",
     "output_type": "error",
     "traceback": [
      "\u001B[0;31m---------------------------------------------------------------------------\u001B[0m",
      "\u001B[0;31mNotFittedError\u001B[0m                            Traceback (most recent call last)",
      "Cell \u001B[0;32mIn[50], line 35\u001B[0m\n\u001B[1;32m     32\u001B[0m     \u001B[38;5;66;03m# set title\u001B[39;00m\n\u001B[1;32m     33\u001B[0m     plt\u001B[38;5;241m.\u001B[39mtitle(\u001B[38;5;124mf\u001B[39m\u001B[38;5;124m'\u001B[39m\u001B[38;5;124mFeature Importances for \u001B[39m\u001B[38;5;132;01m{\u001B[39;00mmodel_name\u001B[38;5;241m.\u001B[39mupper()\u001B[38;5;132;01m}\u001B[39;00m\u001B[38;5;124m Model\u001B[39m\u001B[38;5;124m'\u001B[39m)\n\u001B[0;32m---> 35\u001B[0m \u001B[43mplot_feature_importances\u001B[49m\u001B[43m(\u001B[49m\u001B[43mmodel_name\u001B[49m\u001B[38;5;241;43m=\u001B[39;49m\u001B[38;5;124;43m'\u001B[39;49m\u001B[38;5;124;43mtree\u001B[39;49m\u001B[38;5;124;43m'\u001B[39;49m\u001B[43m)\u001B[49m \n",
      "Cell \u001B[0;32mIn[50], line 12\u001B[0m, in \u001B[0;36mplot_feature_importances\u001B[0;34m(model_name)\u001B[0m\n\u001B[1;32m      9\u001B[0m     \u001B[38;5;28;01mraise\u001B[39;00m \u001B[38;5;167;01mValueError\u001B[39;00m(\u001B[38;5;124mf\u001B[39m\u001B[38;5;124m\"\u001B[39m\u001B[38;5;124mCannot plot feature importance from this model: \u001B[39m\u001B[38;5;132;01m{\u001B[39;00mmodel_name\u001B[38;5;132;01m}\u001B[39;00m\u001B[38;5;124m\"\u001B[39m)\n\u001B[1;32m     11\u001B[0m \u001B[38;5;66;03m# get the feature importances\u001B[39;00m\n\u001B[0;32m---> 12\u001B[0m feature_importances \u001B[38;5;241m=\u001B[39m \u001B[43mMODEL_DICT\u001B[49m\u001B[43m[\u001B[49m\u001B[43mmodel_name\u001B[49m\u001B[43m]\u001B[49m\u001B[43m[\u001B[49m\u001B[38;5;124;43m'\u001B[39;49m\u001B[38;5;124;43mmodel\u001B[39;49m\u001B[38;5;124;43m'\u001B[39;49m\u001B[43m]\u001B[49m\u001B[38;5;241;43m.\u001B[39;49m\u001B[43mfeature_importances_\u001B[49m\n\u001B[1;32m     14\u001B[0m \u001B[38;5;66;03m# get the feature names\u001B[39;00m\n\u001B[1;32m     15\u001B[0m feature_names \u001B[38;5;241m=\u001B[39m ml_df\u001B[38;5;241m.\u001B[39mdrop(columns\u001B[38;5;241m=\u001B[39m[\u001B[38;5;124m'\u001B[39m\u001B[38;5;124mprice\u001B[39m\u001B[38;5;124m'\u001B[39m])\u001B[38;5;241m.\u001B[39mcolumns\u001B[38;5;241m.\u001B[39mtolist()\n",
      "File \u001B[0;32m~/Documents/github_personal/du/Final-Project-4447/venv/lib/python3.12/site-packages/sklearn/tree/_classes.py:688\u001B[0m, in \u001B[0;36mBaseDecisionTree.feature_importances_\u001B[0;34m(self)\u001B[0m\n\u001B[1;32m    670\u001B[0m \u001B[38;5;129m@property\u001B[39m\n\u001B[1;32m    671\u001B[0m \u001B[38;5;28;01mdef\u001B[39;00m \u001B[38;5;21mfeature_importances_\u001B[39m(\u001B[38;5;28mself\u001B[39m):\n\u001B[1;32m    672\u001B[0m \u001B[38;5;250m    \u001B[39m\u001B[38;5;124;03m\"\"\"Return the feature importances.\u001B[39;00m\n\u001B[1;32m    673\u001B[0m \n\u001B[1;32m    674\u001B[0m \u001B[38;5;124;03m    The importance of a feature is computed as the (normalized) total\u001B[39;00m\n\u001B[0;32m   (...)\u001B[0m\n\u001B[1;32m    686\u001B[0m \u001B[38;5;124;03m        (Gini importance).\u001B[39;00m\n\u001B[1;32m    687\u001B[0m \u001B[38;5;124;03m    \"\"\"\u001B[39;00m\n\u001B[0;32m--> 688\u001B[0m     \u001B[43mcheck_is_fitted\u001B[49m\u001B[43m(\u001B[49m\u001B[38;5;28;43mself\u001B[39;49m\u001B[43m)\u001B[49m\n\u001B[1;32m    690\u001B[0m     \u001B[38;5;28;01mreturn\u001B[39;00m \u001B[38;5;28mself\u001B[39m\u001B[38;5;241m.\u001B[39mtree_\u001B[38;5;241m.\u001B[39mcompute_feature_importances()\n",
      "File \u001B[0;32m~/Documents/github_personal/du/Final-Project-4447/venv/lib/python3.12/site-packages/sklearn/utils/validation.py:1661\u001B[0m, in \u001B[0;36mcheck_is_fitted\u001B[0;34m(estimator, attributes, msg, all_or_any)\u001B[0m\n\u001B[1;32m   1658\u001B[0m     \u001B[38;5;28;01mraise\u001B[39;00m \u001B[38;5;167;01mTypeError\u001B[39;00m(\u001B[38;5;124m\"\u001B[39m\u001B[38;5;132;01m%s\u001B[39;00m\u001B[38;5;124m is not an estimator instance.\u001B[39m\u001B[38;5;124m\"\u001B[39m \u001B[38;5;241m%\u001B[39m (estimator))\n\u001B[1;32m   1660\u001B[0m \u001B[38;5;28;01mif\u001B[39;00m \u001B[38;5;129;01mnot\u001B[39;00m _is_fitted(estimator, attributes, all_or_any):\n\u001B[0;32m-> 1661\u001B[0m     \u001B[38;5;28;01mraise\u001B[39;00m NotFittedError(msg \u001B[38;5;241m%\u001B[39m {\u001B[38;5;124m\"\u001B[39m\u001B[38;5;124mname\u001B[39m\u001B[38;5;124m\"\u001B[39m: \u001B[38;5;28mtype\u001B[39m(estimator)\u001B[38;5;241m.\u001B[39m\u001B[38;5;18m__name__\u001B[39m})\n",
      "\u001B[0;31mNotFittedError\u001B[0m: This DecisionTreeRegressor instance is not fitted yet. Call 'fit' with appropriate arguments before using this estimator."
     ]
    }
   ],
   "execution_count": 50
  },
  {
   "cell_type": "code",
   "id": "237810c83aa04b1b",
   "metadata": {
    "ExecuteTime": {
     "end_time": "2024-11-10T19:45:16.163967Z",
     "start_time": "2024-11-10T19:45:16.163916Z"
    }
   },
   "source": [
    "plot_feature_importances(model_name='rfr')"
   ],
   "outputs": [],
   "execution_count": null
  },
  {
   "cell_type": "code",
   "id": "cccb9762ed40abeb",
   "metadata": {
    "jupyter": {
     "source_hidden": true
    },
    "scrolled": true
   },
   "source": [
    "plot_feature_importances(model_name='gbr')"
   ],
   "outputs": [],
   "execution_count": null
  },
  {
   "cell_type": "code",
   "id": "3de9a1ff-a8f8-4bb2-9808-aa90a0c5a58d",
   "metadata": {
    "ExecuteTime": {
     "end_time": "2024-11-10T19:45:16.183942Z",
     "start_time": "2024-11-10T19:45:16.181405Z"
    }
   },
   "source": [
    "def plot_actual_vs_predicted(model_name: str, model_dict: dict):\n",
    "    \"\"\"\n",
    "    Plots Actual vs Predicted prices for the given model on the test data\n",
    "\n",
    "    Parameters:\n",
    "    - model_name: str, name of model to plot\n",
    "    - model_dict: dictionary containing model results including predictions\n",
    "\n",
    "    Returns:\n",
    "    - scatter plot of Actual vs Predicted values for model\n",
    "    \"\"\"\n",
    "    \n",
    "    # extract test data actuals vs preds from model_dict\n",
    "    test_results = model_dict[model_name]['test_results']\n",
    "    test_actual = test_results['actual_price']\n",
    "    test_predicted = test_results['predicted_price']\n",
    "    \n",
    "    # scatterplot\n",
    "    plt.figure(figsize=(8, 6))\n",
    "    plt.scatter(test_actual, test_predicted, color='green', alpha=0.6, label='Test Data')\n",
    "    plt.plot([min(test_actual), max(test_actual)], [min(test_actual), max(test_actual)], color='red', linestyle='--', label='Perfect Prediction')\n",
    "    plt.title(f'{model_name.upper()} - Actual vs Predicted (Test)')\n",
    "    plt.xlabel('Actual Price')\n",
    "    plt.ylabel('Predicted Price')\n",
    "    plt.legend()\n",
    "    plt.grid(True)\n",
    "    plt.show()\n"
   ],
   "outputs": [],
   "execution_count": 51
  },
  {
   "cell_type": "code",
   "id": "eef14730-aa42-4dda-93c2-60a7b02b912b",
   "metadata": {
    "ExecuteTime": {
     "end_time": "2024-11-10T19:45:16.215139Z",
     "start_time": "2024-11-10T19:45:16.203379Z"
    }
   },
   "source": [
    "plot_actual_vs_predicted('ols', MODEL_DICT)"
   ],
   "outputs": [
    {
     "ename": "KeyError",
     "evalue": "'test_results'",
     "output_type": "error",
     "traceback": [
      "\u001B[0;31m---------------------------------------------------------------------------\u001B[0m",
      "\u001B[0;31mKeyError\u001B[0m                                  Traceback (most recent call last)",
      "Cell \u001B[0;32mIn[52], line 1\u001B[0m\n\u001B[0;32m----> 1\u001B[0m \u001B[43mplot_actual_vs_predicted\u001B[49m\u001B[43m(\u001B[49m\u001B[38;5;124;43m'\u001B[39;49m\u001B[38;5;124;43mols\u001B[39;49m\u001B[38;5;124;43m'\u001B[39;49m\u001B[43m,\u001B[49m\u001B[43m \u001B[49m\u001B[43mMODEL_DICT\u001B[49m\u001B[43m)\u001B[49m\n",
      "Cell \u001B[0;32mIn[51], line 14\u001B[0m, in \u001B[0;36mplot_actual_vs_predicted\u001B[0;34m(model_name, model_dict)\u001B[0m\n\u001B[1;32m      2\u001B[0m \u001B[38;5;250m\u001B[39m\u001B[38;5;124;03m\"\"\"\u001B[39;00m\n\u001B[1;32m      3\u001B[0m \u001B[38;5;124;03mPlots Actual vs Predicted prices for the given model on the test data\u001B[39;00m\n\u001B[1;32m      4\u001B[0m \n\u001B[0;32m   (...)\u001B[0m\n\u001B[1;32m     10\u001B[0m \u001B[38;5;124;03m- scatter plot of Actual vs Predicted values for model\u001B[39;00m\n\u001B[1;32m     11\u001B[0m \u001B[38;5;124;03m\"\"\"\u001B[39;00m\n\u001B[1;32m     13\u001B[0m \u001B[38;5;66;03m# extract test data actuals vs preds from model_dict\u001B[39;00m\n\u001B[0;32m---> 14\u001B[0m test_results \u001B[38;5;241m=\u001B[39m \u001B[43mmodel_dict\u001B[49m\u001B[43m[\u001B[49m\u001B[43mmodel_name\u001B[49m\u001B[43m]\u001B[49m\u001B[43m[\u001B[49m\u001B[38;5;124;43m'\u001B[39;49m\u001B[38;5;124;43mtest_results\u001B[39;49m\u001B[38;5;124;43m'\u001B[39;49m\u001B[43m]\u001B[49m\n\u001B[1;32m     15\u001B[0m test_actual \u001B[38;5;241m=\u001B[39m test_results[\u001B[38;5;124m'\u001B[39m\u001B[38;5;124mactual_price\u001B[39m\u001B[38;5;124m'\u001B[39m]\n\u001B[1;32m     16\u001B[0m test_predicted \u001B[38;5;241m=\u001B[39m test_results[\u001B[38;5;124m'\u001B[39m\u001B[38;5;124mpredicted_price\u001B[39m\u001B[38;5;124m'\u001B[39m]\n",
      "\u001B[0;31mKeyError\u001B[0m: 'test_results'"
     ]
    }
   ],
   "execution_count": 52
  },
  {
   "cell_type": "code",
   "id": "c1cb98a7-a164-4c47-81a7-55eaa420e9c8",
   "metadata": {
    "ExecuteTime": {
     "end_time": "2024-11-10T19:45:16.281341Z",
     "start_time": "2024-11-10T19:45:16.269526Z"
    }
   },
   "source": [
    "plot_actual_vs_predicted('tree', MODEL_DICT)"
   ],
   "outputs": [
    {
     "ename": "KeyError",
     "evalue": "'test_results'",
     "output_type": "error",
     "traceback": [
      "\u001B[0;31m---------------------------------------------------------------------------\u001B[0m",
      "\u001B[0;31mKeyError\u001B[0m                                  Traceback (most recent call last)",
      "Cell \u001B[0;32mIn[53], line 1\u001B[0m\n\u001B[0;32m----> 1\u001B[0m \u001B[43mplot_actual_vs_predicted\u001B[49m\u001B[43m(\u001B[49m\u001B[38;5;124;43m'\u001B[39;49m\u001B[38;5;124;43mtree\u001B[39;49m\u001B[38;5;124;43m'\u001B[39;49m\u001B[43m,\u001B[49m\u001B[43m \u001B[49m\u001B[43mMODEL_DICT\u001B[49m\u001B[43m)\u001B[49m\n",
      "Cell \u001B[0;32mIn[51], line 14\u001B[0m, in \u001B[0;36mplot_actual_vs_predicted\u001B[0;34m(model_name, model_dict)\u001B[0m\n\u001B[1;32m      2\u001B[0m \u001B[38;5;250m\u001B[39m\u001B[38;5;124;03m\"\"\"\u001B[39;00m\n\u001B[1;32m      3\u001B[0m \u001B[38;5;124;03mPlots Actual vs Predicted prices for the given model on the test data\u001B[39;00m\n\u001B[1;32m      4\u001B[0m \n\u001B[0;32m   (...)\u001B[0m\n\u001B[1;32m     10\u001B[0m \u001B[38;5;124;03m- scatter plot of Actual vs Predicted values for model\u001B[39;00m\n\u001B[1;32m     11\u001B[0m \u001B[38;5;124;03m\"\"\"\u001B[39;00m\n\u001B[1;32m     13\u001B[0m \u001B[38;5;66;03m# extract test data actuals vs preds from model_dict\u001B[39;00m\n\u001B[0;32m---> 14\u001B[0m test_results \u001B[38;5;241m=\u001B[39m \u001B[43mmodel_dict\u001B[49m\u001B[43m[\u001B[49m\u001B[43mmodel_name\u001B[49m\u001B[43m]\u001B[49m\u001B[43m[\u001B[49m\u001B[38;5;124;43m'\u001B[39;49m\u001B[38;5;124;43mtest_results\u001B[39;49m\u001B[38;5;124;43m'\u001B[39;49m\u001B[43m]\u001B[49m\n\u001B[1;32m     15\u001B[0m test_actual \u001B[38;5;241m=\u001B[39m test_results[\u001B[38;5;124m'\u001B[39m\u001B[38;5;124mactual_price\u001B[39m\u001B[38;5;124m'\u001B[39m]\n\u001B[1;32m     16\u001B[0m test_predicted \u001B[38;5;241m=\u001B[39m test_results[\u001B[38;5;124m'\u001B[39m\u001B[38;5;124mpredicted_price\u001B[39m\u001B[38;5;124m'\u001B[39m]\n",
      "\u001B[0;31mKeyError\u001B[0m: 'test_results'"
     ]
    }
   ],
   "execution_count": 53
  },
  {
   "cell_type": "code",
   "id": "b0950d61-b6b1-48bd-ae7e-1039f8e1a1e8",
   "metadata": {
    "ExecuteTime": {
     "end_time": "2024-11-10T19:45:16.315428Z",
     "start_time": "2024-11-10T19:45:16.304246Z"
    }
   },
   "source": [
    "plot_actual_vs_predicted('rfr', MODEL_DICT)"
   ],
   "outputs": [
    {
     "ename": "KeyError",
     "evalue": "'test_results'",
     "output_type": "error",
     "traceback": [
      "\u001B[0;31m---------------------------------------------------------------------------\u001B[0m",
      "\u001B[0;31mKeyError\u001B[0m                                  Traceback (most recent call last)",
      "Cell \u001B[0;32mIn[54], line 1\u001B[0m\n\u001B[0;32m----> 1\u001B[0m \u001B[43mplot_actual_vs_predicted\u001B[49m\u001B[43m(\u001B[49m\u001B[38;5;124;43m'\u001B[39;49m\u001B[38;5;124;43mrfr\u001B[39;49m\u001B[38;5;124;43m'\u001B[39;49m\u001B[43m,\u001B[49m\u001B[43m \u001B[49m\u001B[43mMODEL_DICT\u001B[49m\u001B[43m)\u001B[49m\n",
      "Cell \u001B[0;32mIn[51], line 14\u001B[0m, in \u001B[0;36mplot_actual_vs_predicted\u001B[0;34m(model_name, model_dict)\u001B[0m\n\u001B[1;32m      2\u001B[0m \u001B[38;5;250m\u001B[39m\u001B[38;5;124;03m\"\"\"\u001B[39;00m\n\u001B[1;32m      3\u001B[0m \u001B[38;5;124;03mPlots Actual vs Predicted prices for the given model on the test data\u001B[39;00m\n\u001B[1;32m      4\u001B[0m \n\u001B[0;32m   (...)\u001B[0m\n\u001B[1;32m     10\u001B[0m \u001B[38;5;124;03m- scatter plot of Actual vs Predicted values for model\u001B[39;00m\n\u001B[1;32m     11\u001B[0m \u001B[38;5;124;03m\"\"\"\u001B[39;00m\n\u001B[1;32m     13\u001B[0m \u001B[38;5;66;03m# extract test data actuals vs preds from model_dict\u001B[39;00m\n\u001B[0;32m---> 14\u001B[0m test_results \u001B[38;5;241m=\u001B[39m \u001B[43mmodel_dict\u001B[49m\u001B[43m[\u001B[49m\u001B[43mmodel_name\u001B[49m\u001B[43m]\u001B[49m\u001B[43m[\u001B[49m\u001B[38;5;124;43m'\u001B[39;49m\u001B[38;5;124;43mtest_results\u001B[39;49m\u001B[38;5;124;43m'\u001B[39;49m\u001B[43m]\u001B[49m\n\u001B[1;32m     15\u001B[0m test_actual \u001B[38;5;241m=\u001B[39m test_results[\u001B[38;5;124m'\u001B[39m\u001B[38;5;124mactual_price\u001B[39m\u001B[38;5;124m'\u001B[39m]\n\u001B[1;32m     16\u001B[0m test_predicted \u001B[38;5;241m=\u001B[39m test_results[\u001B[38;5;124m'\u001B[39m\u001B[38;5;124mpredicted_price\u001B[39m\u001B[38;5;124m'\u001B[39m]\n",
      "\u001B[0;31mKeyError\u001B[0m: 'test_results'"
     ]
    }
   ],
   "execution_count": 54
  },
  {
   "cell_type": "code",
   "id": "cff9c342-8181-4606-9cba-733f2099d392",
   "metadata": {
    "ExecuteTime": {
     "end_time": "2024-11-10T19:45:16.403009Z",
     "start_time": "2024-11-10T19:45:16.391883Z"
    }
   },
   "source": [
    "plot_actual_vs_predicted('gbr', MODEL_DICT)"
   ],
   "outputs": [
    {
     "ename": "KeyError",
     "evalue": "'test_results'",
     "output_type": "error",
     "traceback": [
      "\u001B[0;31m---------------------------------------------------------------------------\u001B[0m",
      "\u001B[0;31mKeyError\u001B[0m                                  Traceback (most recent call last)",
      "Cell \u001B[0;32mIn[55], line 1\u001B[0m\n\u001B[0;32m----> 1\u001B[0m \u001B[43mplot_actual_vs_predicted\u001B[49m\u001B[43m(\u001B[49m\u001B[38;5;124;43m'\u001B[39;49m\u001B[38;5;124;43mgbr\u001B[39;49m\u001B[38;5;124;43m'\u001B[39;49m\u001B[43m,\u001B[49m\u001B[43m \u001B[49m\u001B[43mMODEL_DICT\u001B[49m\u001B[43m)\u001B[49m\n",
      "Cell \u001B[0;32mIn[51], line 14\u001B[0m, in \u001B[0;36mplot_actual_vs_predicted\u001B[0;34m(model_name, model_dict)\u001B[0m\n\u001B[1;32m      2\u001B[0m \u001B[38;5;250m\u001B[39m\u001B[38;5;124;03m\"\"\"\u001B[39;00m\n\u001B[1;32m      3\u001B[0m \u001B[38;5;124;03mPlots Actual vs Predicted prices for the given model on the test data\u001B[39;00m\n\u001B[1;32m      4\u001B[0m \n\u001B[0;32m   (...)\u001B[0m\n\u001B[1;32m     10\u001B[0m \u001B[38;5;124;03m- scatter plot of Actual vs Predicted values for model\u001B[39;00m\n\u001B[1;32m     11\u001B[0m \u001B[38;5;124;03m\"\"\"\u001B[39;00m\n\u001B[1;32m     13\u001B[0m \u001B[38;5;66;03m# extract test data actuals vs preds from model_dict\u001B[39;00m\n\u001B[0;32m---> 14\u001B[0m test_results \u001B[38;5;241m=\u001B[39m \u001B[43mmodel_dict\u001B[49m\u001B[43m[\u001B[49m\u001B[43mmodel_name\u001B[49m\u001B[43m]\u001B[49m\u001B[43m[\u001B[49m\u001B[38;5;124;43m'\u001B[39;49m\u001B[38;5;124;43mtest_results\u001B[39;49m\u001B[38;5;124;43m'\u001B[39;49m\u001B[43m]\u001B[49m\n\u001B[1;32m     15\u001B[0m test_actual \u001B[38;5;241m=\u001B[39m test_results[\u001B[38;5;124m'\u001B[39m\u001B[38;5;124mactual_price\u001B[39m\u001B[38;5;124m'\u001B[39m]\n\u001B[1;32m     16\u001B[0m test_predicted \u001B[38;5;241m=\u001B[39m test_results[\u001B[38;5;124m'\u001B[39m\u001B[38;5;124mpredicted_price\u001B[39m\u001B[38;5;124m'\u001B[39m]\n",
      "\u001B[0;31mKeyError\u001B[0m: 'test_results'"
     ]
    }
   ],
   "execution_count": 55
  },
  {
   "cell_type": "markdown",
   "id": "588bba61-7201-4550-85b5-631cb07c4b34",
   "metadata": {},
   "source": [
    "## Initial Modeling Results\n",
    "\n",
    "When taking it to account the mean residuals and RMSE, it appears the best performing models were the the Random Forest Regressor (RFR) and the Gradient Boost Regressor (GBR).\n",
    "\n",
    "Random Forest Regressor  \n",
    "Test RMSE: 1.7 million USD  \n",
    "Test Mean Residuals: 137,529.98 USD  \n",
    "\n",
    "Gradient Boost Regressor  \n",
    "RMSE: 1.68 million USD  \n",
    "Mean Residuals: 177,456.42 USD  \n",
    "\n",
    "The Random Forest Regressor achieves the lowest mean residuals and the second lowest RMSE. The Gradient Boost Regressor achieved the lowest RMSE and the second lowest mean residuals. The RMSE of the RFR model was 20,000 more than the GBR model, but the mean residuals was 40,000 less than the GBR model. Taking both of these into account, the RFR performed the best overall. \n",
    "\n",
    "The RMSE metric indicates that, on average, the model deviates from the true values by 1.7 million USD. RMSE can be interpreted as the standard deviation of the prediction errors. The RFR's RMSE is significantly lower than 1 standard deviation of the true house prices, suggesting that the model’s errors are less variable than the actual prices. This implies that the model performs much better than random selection. However, despite this, there is still considerable error in the predictions, with deviations in the magnitude of millions of USD. This could be attributed to the fact that housing prices can be very large, which can amplify the error.\n",
    "\n",
    "We also plotted the feature importances for the ensemble and tree models. The feature importances help us understand which features provided the most information about the variance of housing price. We can see that there is a general consensus of the following 3 most important features: square footage, latitude, and median monthly housing cost. \n",
    "\n",
    "Square Footage: High positive correlation to price.\n",
    "\n",
    "Latitude: Information on location tells us that it has predictive value.\n",
    "\n",
    "Median Monthly Housing Cost: Provides information the median monthly housing cost by Tract according to the US Census - providing useful information about housing prices in the area.\n",
    "\n",
    "Actuals vs Predicted plots:\n",
    "The actuals vs predicted plots for RFR and GBR are very similar, there are some significant outliers at the higher range of housing prices, which may need to be dealt with in order to minimize the RMSE and mean residuals of our models."
   ]
  },
  {
   "cell_type": "markdown",
   "id": "a6bd11eb-fd14-4a6c-977a-1e265d6d4a79",
   "metadata": {},
   "source": [
    "## Outlier Removal\n",
    "\n",
    "In an attempt to improve model performance, we will use the Interquartile range method to remove extreme values of price. Observations of price that are greater than Q3 + 4*(Q3 - Q1) or less than Q1 - 4*(Q3 - Q1) will be removed. This may improve our models' ability to predict price. Initially an upper threshold of Q3 + 1.5*(Q3 - Q1) and a lower threshold of Q1 - 1.5*(Q3 - Q1) was tested, but these thresholds removed 160 observations (>10% of the data). The thresholds were modified to a wider range in order to maintain some of the real world variability of housing price."
   ]
  },
  {
   "cell_type": "code",
   "id": "16bec3d7-2786-4749-8164-f208ef326091",
   "metadata": {
    "ExecuteTime": {
     "end_time": "2024-11-10T19:45:16.442258Z",
     "start_time": "2024-11-10T19:45:16.433090Z"
    }
   },
   "source": [
    "# copy df\n",
    "df_no_outliers = ml_df.copy()\n",
    "\n",
    "# calculate IQR for 'price' \n",
    "Q1 = df_no_outliers['price'].quantile(0.25)  # 25th percentile\n",
    "Q3 = df_no_outliers['price'].quantile(0.75)  # 75th percentile\n",
    "IQR = Q3 - Q1\n",
    "\n",
    "# define threshold for outliers\n",
    "lower_bound = Q1 - 4 * IQR\n",
    "upper_bound = Q3 + 4 * IQR\n",
    "\n",
    "# filter out the outlier observations\n",
    "df_no_outliers = df_no_outliers[(df_no_outliers['price'] >= lower_bound) & (df_no_outliers['price'] <= upper_bound)]\n",
    "\n",
    "# see how many observations were removed\n",
    "print(\"Original shape:\", merged_df_final_scaled.shape)\n",
    "print(\"New shape after removing outliers:\", df_no_outliers.shape)\n"
   ],
   "outputs": [
    {
     "ename": "NameError",
     "evalue": "name 'ml_df' is not defined",
     "output_type": "error",
     "traceback": [
      "\u001B[0;31m---------------------------------------------------------------------------\u001B[0m",
      "\u001B[0;31mNameError\u001B[0m                                 Traceback (most recent call last)",
      "Cell \u001B[0;32mIn[56], line 2\u001B[0m\n\u001B[1;32m      1\u001B[0m \u001B[38;5;66;03m# copy df\u001B[39;00m\n\u001B[0;32m----> 2\u001B[0m df_no_outliers \u001B[38;5;241m=\u001B[39m \u001B[43mml_df\u001B[49m\u001B[38;5;241m.\u001B[39mcopy()\n\u001B[1;32m      4\u001B[0m \u001B[38;5;66;03m# calculate IQR for 'price' \u001B[39;00m\n\u001B[1;32m      5\u001B[0m Q1 \u001B[38;5;241m=\u001B[39m df_no_outliers[\u001B[38;5;124m'\u001B[39m\u001B[38;5;124mprice\u001B[39m\u001B[38;5;124m'\u001B[39m]\u001B[38;5;241m.\u001B[39mquantile(\u001B[38;5;241m0.25\u001B[39m)  \u001B[38;5;66;03m# 25th percentile\u001B[39;00m\n",
      "\u001B[0;31mNameError\u001B[0m: name 'ml_df' is not defined"
     ]
    }
   ],
   "execution_count": 56
  },
  {
   "cell_type": "code",
   "id": "77d0f5831b9ea152",
   "metadata": {
    "ExecuteTime": {
     "end_time": "2024-11-10T19:45:16.530211Z",
     "start_time": "2024-11-10T19:45:16.520760Z"
    }
   },
   "source": [
    "plot_corr(data=df_no_outliers, annot=True)"
   ],
   "outputs": [
    {
     "ename": "NameError",
     "evalue": "name 'plot_corr' is not defined",
     "output_type": "error",
     "traceback": [
      "\u001B[0;31m---------------------------------------------------------------------------\u001B[0m",
      "\u001B[0;31mNameError\u001B[0m                                 Traceback (most recent call last)",
      "Cell \u001B[0;32mIn[57], line 1\u001B[0m\n\u001B[0;32m----> 1\u001B[0m \u001B[43mplot_corr\u001B[49m(data\u001B[38;5;241m=\u001B[39mdf_no_outliers, annot\u001B[38;5;241m=\u001B[39m\u001B[38;5;28;01mTrue\u001B[39;00m)\n",
      "\u001B[0;31mNameError\u001B[0m: name 'plot_corr' is not defined"
     ]
    }
   ],
   "execution_count": 57
  },
  {
   "cell_type": "markdown",
   "id": "a7d6a128-35f5-488d-b9ab-24d92a43de2b",
   "metadata": {},
   "source": [
    "80 outliers were removed from the data frame. Now we will re-split our data in to train and test sets."
   ]
  },
  {
   "cell_type": "code",
   "id": "546eb266-d579-424c-8b40-78fc5ad78588",
   "metadata": {
    "ExecuteTime": {
     "end_time": "2024-11-10T19:45:16.577192Z",
     "start_time": "2024-11-10T19:45:16.569155Z"
    }
   },
   "source": [
    "# re-assign features and target after removing outliers\n",
    "X_no_outliers = df_no_outliers.drop(columns='price') \n",
    "y_no_outliers = df_no_outliers['price'] \n",
    "\n",
    "# split data after outlier removal\n",
    "x_train_no_outliers, x_test_no_outliers, y_train_no_outliers, y_test_no_outliers = train_test_split(\n",
    "    X_no_outliers, y_no_outliers, test_size=0.2, random_state=42\n",
    ")"
   ],
   "outputs": [
    {
     "ename": "NameError",
     "evalue": "name 'df_no_outliers' is not defined",
     "output_type": "error",
     "traceback": [
      "\u001B[0;31m---------------------------------------------------------------------------\u001B[0m",
      "\u001B[0;31mNameError\u001B[0m                                 Traceback (most recent call last)",
      "Cell \u001B[0;32mIn[58], line 2\u001B[0m\n\u001B[1;32m      1\u001B[0m \u001B[38;5;66;03m# re-assign features and target after removing outliers\u001B[39;00m\n\u001B[0;32m----> 2\u001B[0m X_no_outliers \u001B[38;5;241m=\u001B[39m \u001B[43mdf_no_outliers\u001B[49m\u001B[38;5;241m.\u001B[39mdrop(columns\u001B[38;5;241m=\u001B[39m\u001B[38;5;124m'\u001B[39m\u001B[38;5;124mprice\u001B[39m\u001B[38;5;124m'\u001B[39m) \n\u001B[1;32m      3\u001B[0m y_no_outliers \u001B[38;5;241m=\u001B[39m df_no_outliers[\u001B[38;5;124m'\u001B[39m\u001B[38;5;124mprice\u001B[39m\u001B[38;5;124m'\u001B[39m] \n\u001B[1;32m      5\u001B[0m \u001B[38;5;66;03m# split data after outlier removal\u001B[39;00m\n",
      "\u001B[0;31mNameError\u001B[0m: name 'df_no_outliers' is not defined"
     ]
    }
   ],
   "execution_count": 58
  },
  {
   "cell_type": "markdown",
   "id": "71fddb04-b236-492e-b9ef-cb26386cc13b",
   "metadata": {},
   "source": [
    "## Hyperparameter Tuning\n",
    "\n",
    "GridSearchCV will be used to test multiple sets of hyperparameters and return the best performing set. It performs cross-validation to evaluate model performance, meaning the model is evaluated several times on different splits of the data. This can reduce the risk of over/under-fitting and increases our chances of reducing RMSE for each model."
   ]
  },
  {
   "cell_type": "code",
   "id": "3eee404e-bd7d-436a-8682-bdb55f551901",
   "metadata": {
    "ExecuteTime": {
     "end_time": "2024-11-10T19:45:16.665508Z",
     "start_time": "2024-11-10T19:45:16.663489Z"
    }
   },
   "source": [
    "# define parameter grids \n",
    "param_grids = {\n",
    "    'ols': {},  # no hyperparameters for LinearRegression\n",
    "    'tree': {\n",
    "        'model__max_depth': [None, 10, 20, 30],\n",
    "        'model__min_samples_split': [2, 10, 20],  \n",
    "        'model__min_samples_leaf': [1, 2], \n",
    "        'model__max_features': ['sqrt', 'log2', None], \n",
    "    },\n",
    "    'rfr': {\n",
    "        'model__n_estimators': [50, 100, 200],\n",
    "        'model__max_depth': [None, 10, 20],\n",
    "        'model__min_samples_split': [2, 5, 10],  \n",
    "        'model__min_samples_leaf': [1, 2], \n",
    "    },\n",
    "    'gbr': {\n",
    "        'model__n_estimators': [50, 100, 200],\n",
    "        'model__learning_rate': [0.01, 0.1, 0.2],\n",
    "        'model__max_depth': [3, 5, 10]\n",
    "    }\n",
    "}"
   ],
   "outputs": [],
   "execution_count": 59
  },
  {
   "cell_type": "code",
   "id": "5ea0cea9-53ec-4b67-bfda-fd74c505ebd9",
   "metadata": {
    "scrolled": true,
    "ExecuteTime": {
     "end_time": "2024-11-10T19:45:16.697781Z",
     "start_time": "2024-11-10T19:45:16.683277Z"
    }
   },
   "source": [
    "# use GridSearchCV as search method\n",
    "search_method = GridSearchCV \n",
    "\n",
    "for model_name in MODEL_DICT.keys():\n",
    "    print(f\"Tuning hyperparameters for {model_name.upper()}\")\n",
    "    \n",
    "    # define the pipeline\n",
    "    pipeline = Pipeline([\n",
    "        ('scaler', StandardScaler()),\n",
    "        ('knn_imputer', KNNImputer(n_neighbors=5)),\n",
    "        ('model', MODEL_DICT[model_name]['model'])\n",
    "    ])\n",
    "    \n",
    "    param_grid = param_grids.get(model_name, {})\n",
    "    \n",
    "    search = search_method(\n",
    "        estimator=pipeline,\n",
    "        param_grid=param_grid,\n",
    "        scoring='neg_root_mean_squared_error', \n",
    "        cv=5,\n",
    "        n_jobs=-1\n",
    "    )\n",
    "    \n",
    "    # fit to training data\n",
    "    search.fit(x_train_no_outliers, y_train_no_outliers)\n",
    "    \n",
    "    # store the best estimator/results\n",
    "    best_pipeline = search.best_estimator_\n",
    "    MODEL_DICT[model_name]['best_params'] = search.best_params_\n",
    "    MODEL_DICT[model_name]['best_score'] = -search.best_score_  \n",
    "\n",
    "    # predict\n",
    "    y_train_predictions = best_pipeline.predict(x_train_no_outliers)\n",
    "    y_test_predictions = best_pipeline.predict(x_test_no_outliers)\n",
    "    \n",
    "    # stores preds and residuals\n",
    "    train_results = pd.DataFrame({\n",
    "        'actual_price': y_train_no_outliers,\n",
    "        'predicted_price': y_train_predictions\n",
    "    })\n",
    "    test_results = pd.DataFrame({\n",
    "        'actual_price': y_test_no_outliers,\n",
    "        'predicted_price': y_test_predictions\n",
    "    })\n",
    "    train_results['residual'] = train_results['actual_price'] - train_results['predicted_price']\n",
    "    test_results['residual'] = test_results['actual_price'] - test_results['predicted_price']\n",
    "    \n",
    "    # RMSE calc\n",
    "    def root_mean_squared_error(actual, predicted):\n",
    "        return np.sqrt(((actual - predicted) ** 2).mean())\n",
    "\n",
    "    MODEL_DICT[model_name]['train_results'] = train_results\n",
    "    MODEL_DICT[model_name]['test_results'] = test_results\n",
    "    MODEL_DICT[model_name]['rmse_train'] = root_mean_squared_error(train_results['actual_price'], train_results['predicted_price'])\n",
    "    MODEL_DICT[model_name]['rmse_test'] = root_mean_squared_error(test_results['actual_price'], test_results['predicted_price'])\n",
    "    \n",
    "    print(f\"Best parameters for {model_name.upper()}: {MODEL_DICT[model_name]['best_params']}\")\n",
    "    print(f\"Train RMSE: {MODEL_DICT[model_name]['rmse_train']}, Test RMSE: {MODEL_DICT[model_name]['rmse_test']}\\n\")"
   ],
   "outputs": [
    {
     "name": "stdout",
     "output_type": "stream",
     "text": [
      "Tuning hyperparameters for OLS\n"
     ]
    },
    {
     "ename": "NameError",
     "evalue": "name 'x_train_no_outliers' is not defined",
     "output_type": "error",
     "traceback": [
      "\u001B[0;31m---------------------------------------------------------------------------\u001B[0m",
      "\u001B[0;31mNameError\u001B[0m                                 Traceback (most recent call last)",
      "Cell \u001B[0;32mIn[60], line 25\u001B[0m\n\u001B[1;32m     16\u001B[0m search \u001B[38;5;241m=\u001B[39m search_method(\n\u001B[1;32m     17\u001B[0m     estimator\u001B[38;5;241m=\u001B[39mpipeline,\n\u001B[1;32m     18\u001B[0m     param_grid\u001B[38;5;241m=\u001B[39mparam_grid,\n\u001B[0;32m   (...)\u001B[0m\n\u001B[1;32m     21\u001B[0m     n_jobs\u001B[38;5;241m=\u001B[39m\u001B[38;5;241m-\u001B[39m\u001B[38;5;241m1\u001B[39m\n\u001B[1;32m     22\u001B[0m )\n\u001B[1;32m     24\u001B[0m \u001B[38;5;66;03m# fit to training data\u001B[39;00m\n\u001B[0;32m---> 25\u001B[0m search\u001B[38;5;241m.\u001B[39mfit(\u001B[43mx_train_no_outliers\u001B[49m, y_train_no_outliers)\n\u001B[1;32m     27\u001B[0m \u001B[38;5;66;03m# store the best estimator/results\u001B[39;00m\n\u001B[1;32m     28\u001B[0m best_pipeline \u001B[38;5;241m=\u001B[39m search\u001B[38;5;241m.\u001B[39mbest_estimator_\n",
      "\u001B[0;31mNameError\u001B[0m: name 'x_train_no_outliers' is not defined"
     ]
    }
   ],
   "execution_count": 60
  },
  {
   "cell_type": "code",
   "id": "1e3bf227-67aa-45b7-83bf-a3b62518d758",
   "metadata": {
    "ExecuteTime": {
     "end_time": "2024-11-10T19:45:16.733718Z",
     "start_time": "2024-11-10T19:45:16.721928Z"
    }
   },
   "source": [
    "plot_residuals(model_name='ols')"
   ],
   "outputs": [
    {
     "ename": "KeyError",
     "evalue": "'train_results'",
     "output_type": "error",
     "traceback": [
      "\u001B[0;31m---------------------------------------------------------------------------\u001B[0m",
      "\u001B[0;31mKeyError\u001B[0m                                  Traceback (most recent call last)",
      "Cell \u001B[0;32mIn[61], line 1\u001B[0m\n\u001B[0;32m----> 1\u001B[0m \u001B[43mplot_residuals\u001B[49m\u001B[43m(\u001B[49m\u001B[43mmodel_name\u001B[49m\u001B[38;5;241;43m=\u001B[39;49m\u001B[38;5;124;43m'\u001B[39;49m\u001B[38;5;124;43mols\u001B[39;49m\u001B[38;5;124;43m'\u001B[39;49m\u001B[43m)\u001B[49m\n",
      "Cell \u001B[0;32mIn[46], line 12\u001B[0m, in \u001B[0;36mplot_residuals\u001B[0;34m(model_name)\u001B[0m\n\u001B[1;32m      2\u001B[0m \u001B[38;5;250m\u001B[39m\u001B[38;5;124;03m\"\"\"\u001B[39;00m\n\u001B[1;32m      3\u001B[0m \u001B[38;5;124;03mPlot the distribution of residuals for a specified model.\u001B[39;00m\n\u001B[1;32m      4\u001B[0m \n\u001B[0;32m   (...)\u001B[0m\n\u001B[1;32m      9\u001B[0m \u001B[38;5;124;03m    model_name: str. The name of the model to plot the residuals for.\u001B[39;00m\n\u001B[1;32m     10\u001B[0m \u001B[38;5;124;03m\"\"\"\u001B[39;00m\n\u001B[1;32m     11\u001B[0m \u001B[38;5;66;03m# get the train and test residuals in Pandas Series\u001B[39;00m\n\u001B[0;32m---> 12\u001B[0m train_residuals \u001B[38;5;241m=\u001B[39m \u001B[43mMODEL_DICT\u001B[49m\u001B[43m[\u001B[49m\u001B[43mmodel_name\u001B[49m\u001B[43m]\u001B[49m\u001B[43m[\u001B[49m\u001B[38;5;124;43m'\u001B[39;49m\u001B[38;5;124;43mtrain_results\u001B[39;49m\u001B[38;5;124;43m'\u001B[39;49m\u001B[43m]\u001B[49m[\u001B[38;5;124m'\u001B[39m\u001B[38;5;124mresidual\u001B[39m\u001B[38;5;124m'\u001B[39m]\n\u001B[1;32m     13\u001B[0m test_residuals \u001B[38;5;241m=\u001B[39m MODEL_DICT[model_name][\u001B[38;5;124m'\u001B[39m\u001B[38;5;124mtest_results\u001B[39m\u001B[38;5;124m'\u001B[39m][\u001B[38;5;124m'\u001B[39m\u001B[38;5;124mresidual\u001B[39m\u001B[38;5;124m'\u001B[39m]\n\u001B[1;32m     15\u001B[0m \u001B[38;5;66;03m# get the standard deviation of the true price for train and test\u001B[39;00m\n",
      "\u001B[0;31mKeyError\u001B[0m: 'train_results'"
     ]
    }
   ],
   "execution_count": 61
  },
  {
   "cell_type": "code",
   "id": "f88e3664-24fc-4288-a5bb-c6faa990f580",
   "metadata": {
    "ExecuteTime": {
     "end_time": "2024-11-10T19:45:16.801613Z",
     "start_time": "2024-11-10T19:45:16.789766Z"
    }
   },
   "source": [
    "plot_residuals(model_name='tree')"
   ],
   "outputs": [
    {
     "ename": "KeyError",
     "evalue": "'train_results'",
     "output_type": "error",
     "traceback": [
      "\u001B[0;31m---------------------------------------------------------------------------\u001B[0m",
      "\u001B[0;31mKeyError\u001B[0m                                  Traceback (most recent call last)",
      "Cell \u001B[0;32mIn[62], line 1\u001B[0m\n\u001B[0;32m----> 1\u001B[0m \u001B[43mplot_residuals\u001B[49m\u001B[43m(\u001B[49m\u001B[43mmodel_name\u001B[49m\u001B[38;5;241;43m=\u001B[39;49m\u001B[38;5;124;43m'\u001B[39;49m\u001B[38;5;124;43mtree\u001B[39;49m\u001B[38;5;124;43m'\u001B[39;49m\u001B[43m)\u001B[49m\n",
      "Cell \u001B[0;32mIn[46], line 12\u001B[0m, in \u001B[0;36mplot_residuals\u001B[0;34m(model_name)\u001B[0m\n\u001B[1;32m      2\u001B[0m \u001B[38;5;250m\u001B[39m\u001B[38;5;124;03m\"\"\"\u001B[39;00m\n\u001B[1;32m      3\u001B[0m \u001B[38;5;124;03mPlot the distribution of residuals for a specified model.\u001B[39;00m\n\u001B[1;32m      4\u001B[0m \n\u001B[0;32m   (...)\u001B[0m\n\u001B[1;32m      9\u001B[0m \u001B[38;5;124;03m    model_name: str. The name of the model to plot the residuals for.\u001B[39;00m\n\u001B[1;32m     10\u001B[0m \u001B[38;5;124;03m\"\"\"\u001B[39;00m\n\u001B[1;32m     11\u001B[0m \u001B[38;5;66;03m# get the train and test residuals in Pandas Series\u001B[39;00m\n\u001B[0;32m---> 12\u001B[0m train_residuals \u001B[38;5;241m=\u001B[39m \u001B[43mMODEL_DICT\u001B[49m\u001B[43m[\u001B[49m\u001B[43mmodel_name\u001B[49m\u001B[43m]\u001B[49m\u001B[43m[\u001B[49m\u001B[38;5;124;43m'\u001B[39;49m\u001B[38;5;124;43mtrain_results\u001B[39;49m\u001B[38;5;124;43m'\u001B[39;49m\u001B[43m]\u001B[49m[\u001B[38;5;124m'\u001B[39m\u001B[38;5;124mresidual\u001B[39m\u001B[38;5;124m'\u001B[39m]\n\u001B[1;32m     13\u001B[0m test_residuals \u001B[38;5;241m=\u001B[39m MODEL_DICT[model_name][\u001B[38;5;124m'\u001B[39m\u001B[38;5;124mtest_results\u001B[39m\u001B[38;5;124m'\u001B[39m][\u001B[38;5;124m'\u001B[39m\u001B[38;5;124mresidual\u001B[39m\u001B[38;5;124m'\u001B[39m]\n\u001B[1;32m     15\u001B[0m \u001B[38;5;66;03m# get the standard deviation of the true price for train and test\u001B[39;00m\n",
      "\u001B[0;31mKeyError\u001B[0m: 'train_results'"
     ]
    }
   ],
   "execution_count": 62
  },
  {
   "cell_type": "code",
   "id": "9bf0f2d4-5f80-459f-afc7-e4722b529a4c",
   "metadata": {
    "ExecuteTime": {
     "end_time": "2024-11-10T19:45:16.910881Z",
     "start_time": "2024-11-10T19:45:16.899137Z"
    }
   },
   "source": [
    "plot_residuals(model_name='rfr')"
   ],
   "outputs": [
    {
     "ename": "KeyError",
     "evalue": "'train_results'",
     "output_type": "error",
     "traceback": [
      "\u001B[0;31m---------------------------------------------------------------------------\u001B[0m",
      "\u001B[0;31mKeyError\u001B[0m                                  Traceback (most recent call last)",
      "Cell \u001B[0;32mIn[63], line 1\u001B[0m\n\u001B[0;32m----> 1\u001B[0m \u001B[43mplot_residuals\u001B[49m\u001B[43m(\u001B[49m\u001B[43mmodel_name\u001B[49m\u001B[38;5;241;43m=\u001B[39;49m\u001B[38;5;124;43m'\u001B[39;49m\u001B[38;5;124;43mrfr\u001B[39;49m\u001B[38;5;124;43m'\u001B[39;49m\u001B[43m)\u001B[49m\n",
      "Cell \u001B[0;32mIn[46], line 12\u001B[0m, in \u001B[0;36mplot_residuals\u001B[0;34m(model_name)\u001B[0m\n\u001B[1;32m      2\u001B[0m \u001B[38;5;250m\u001B[39m\u001B[38;5;124;03m\"\"\"\u001B[39;00m\n\u001B[1;32m      3\u001B[0m \u001B[38;5;124;03mPlot the distribution of residuals for a specified model.\u001B[39;00m\n\u001B[1;32m      4\u001B[0m \n\u001B[0;32m   (...)\u001B[0m\n\u001B[1;32m      9\u001B[0m \u001B[38;5;124;03m    model_name: str. The name of the model to plot the residuals for.\u001B[39;00m\n\u001B[1;32m     10\u001B[0m \u001B[38;5;124;03m\"\"\"\u001B[39;00m\n\u001B[1;32m     11\u001B[0m \u001B[38;5;66;03m# get the train and test residuals in Pandas Series\u001B[39;00m\n\u001B[0;32m---> 12\u001B[0m train_residuals \u001B[38;5;241m=\u001B[39m \u001B[43mMODEL_DICT\u001B[49m\u001B[43m[\u001B[49m\u001B[43mmodel_name\u001B[49m\u001B[43m]\u001B[49m\u001B[43m[\u001B[49m\u001B[38;5;124;43m'\u001B[39;49m\u001B[38;5;124;43mtrain_results\u001B[39;49m\u001B[38;5;124;43m'\u001B[39;49m\u001B[43m]\u001B[49m[\u001B[38;5;124m'\u001B[39m\u001B[38;5;124mresidual\u001B[39m\u001B[38;5;124m'\u001B[39m]\n\u001B[1;32m     13\u001B[0m test_residuals \u001B[38;5;241m=\u001B[39m MODEL_DICT[model_name][\u001B[38;5;124m'\u001B[39m\u001B[38;5;124mtest_results\u001B[39m\u001B[38;5;124m'\u001B[39m][\u001B[38;5;124m'\u001B[39m\u001B[38;5;124mresidual\u001B[39m\u001B[38;5;124m'\u001B[39m]\n\u001B[1;32m     15\u001B[0m \u001B[38;5;66;03m# get the standard deviation of the true price for train and test\u001B[39;00m\n",
      "\u001B[0;31mKeyError\u001B[0m: 'train_results'"
     ]
    }
   ],
   "execution_count": 63
  },
  {
   "cell_type": "code",
   "id": "00feb6c3-ce28-46fa-be0b-e98f479fd18a",
   "metadata": {
    "ExecuteTime": {
     "end_time": "2024-11-10T19:45:16.938683Z",
     "start_time": "2024-11-10T19:45:16.923650Z"
    }
   },
   "source": [
    "plot_residuals(model_name='gbr')"
   ],
   "outputs": [
    {
     "ename": "KeyError",
     "evalue": "'train_results'",
     "output_type": "error",
     "traceback": [
      "\u001B[0;31m---------------------------------------------------------------------------\u001B[0m",
      "\u001B[0;31mKeyError\u001B[0m                                  Traceback (most recent call last)",
      "Cell \u001B[0;32mIn[64], line 1\u001B[0m\n\u001B[0;32m----> 1\u001B[0m \u001B[43mplot_residuals\u001B[49m\u001B[43m(\u001B[49m\u001B[43mmodel_name\u001B[49m\u001B[38;5;241;43m=\u001B[39;49m\u001B[38;5;124;43m'\u001B[39;49m\u001B[38;5;124;43mgbr\u001B[39;49m\u001B[38;5;124;43m'\u001B[39;49m\u001B[43m)\u001B[49m\n",
      "Cell \u001B[0;32mIn[46], line 12\u001B[0m, in \u001B[0;36mplot_residuals\u001B[0;34m(model_name)\u001B[0m\n\u001B[1;32m      2\u001B[0m \u001B[38;5;250m\u001B[39m\u001B[38;5;124;03m\"\"\"\u001B[39;00m\n\u001B[1;32m      3\u001B[0m \u001B[38;5;124;03mPlot the distribution of residuals for a specified model.\u001B[39;00m\n\u001B[1;32m      4\u001B[0m \n\u001B[0;32m   (...)\u001B[0m\n\u001B[1;32m      9\u001B[0m \u001B[38;5;124;03m    model_name: str. The name of the model to plot the residuals for.\u001B[39;00m\n\u001B[1;32m     10\u001B[0m \u001B[38;5;124;03m\"\"\"\u001B[39;00m\n\u001B[1;32m     11\u001B[0m \u001B[38;5;66;03m# get the train and test residuals in Pandas Series\u001B[39;00m\n\u001B[0;32m---> 12\u001B[0m train_residuals \u001B[38;5;241m=\u001B[39m \u001B[43mMODEL_DICT\u001B[49m\u001B[43m[\u001B[49m\u001B[43mmodel_name\u001B[49m\u001B[43m]\u001B[49m\u001B[43m[\u001B[49m\u001B[38;5;124;43m'\u001B[39;49m\u001B[38;5;124;43mtrain_results\u001B[39;49m\u001B[38;5;124;43m'\u001B[39;49m\u001B[43m]\u001B[49m[\u001B[38;5;124m'\u001B[39m\u001B[38;5;124mresidual\u001B[39m\u001B[38;5;124m'\u001B[39m]\n\u001B[1;32m     13\u001B[0m test_residuals \u001B[38;5;241m=\u001B[39m MODEL_DICT[model_name][\u001B[38;5;124m'\u001B[39m\u001B[38;5;124mtest_results\u001B[39m\u001B[38;5;124m'\u001B[39m][\u001B[38;5;124m'\u001B[39m\u001B[38;5;124mresidual\u001B[39m\u001B[38;5;124m'\u001B[39m]\n\u001B[1;32m     15\u001B[0m \u001B[38;5;66;03m# get the standard deviation of the true price for train and test\u001B[39;00m\n",
      "\u001B[0;31mKeyError\u001B[0m: 'train_results'"
     ]
    }
   ],
   "execution_count": 64
  },
  {
   "cell_type": "code",
   "id": "8a9aca88-edb0-406e-be15-8020506ffe10",
   "metadata": {
    "ExecuteTime": {
     "end_time": "2024-11-10T19:45:16.976947Z",
     "start_time": "2024-11-10T19:45:16.958204Z"
    }
   },
   "source": [
    "plot_feature_importances(model_name='tree') "
   ],
   "outputs": [
    {
     "ename": "NotFittedError",
     "evalue": "This DecisionTreeRegressor instance is not fitted yet. Call 'fit' with appropriate arguments before using this estimator.",
     "output_type": "error",
     "traceback": [
      "\u001B[0;31m---------------------------------------------------------------------------\u001B[0m",
      "\u001B[0;31mNotFittedError\u001B[0m                            Traceback (most recent call last)",
      "Cell \u001B[0;32mIn[65], line 1\u001B[0m\n\u001B[0;32m----> 1\u001B[0m \u001B[43mplot_feature_importances\u001B[49m\u001B[43m(\u001B[49m\u001B[43mmodel_name\u001B[49m\u001B[38;5;241;43m=\u001B[39;49m\u001B[38;5;124;43m'\u001B[39;49m\u001B[38;5;124;43mtree\u001B[39;49m\u001B[38;5;124;43m'\u001B[39;49m\u001B[43m)\u001B[49m \n",
      "Cell \u001B[0;32mIn[50], line 12\u001B[0m, in \u001B[0;36mplot_feature_importances\u001B[0;34m(model_name)\u001B[0m\n\u001B[1;32m      9\u001B[0m     \u001B[38;5;28;01mraise\u001B[39;00m \u001B[38;5;167;01mValueError\u001B[39;00m(\u001B[38;5;124mf\u001B[39m\u001B[38;5;124m\"\u001B[39m\u001B[38;5;124mCannot plot feature importance from this model: \u001B[39m\u001B[38;5;132;01m{\u001B[39;00mmodel_name\u001B[38;5;132;01m}\u001B[39;00m\u001B[38;5;124m\"\u001B[39m)\n\u001B[1;32m     11\u001B[0m \u001B[38;5;66;03m# get the feature importances\u001B[39;00m\n\u001B[0;32m---> 12\u001B[0m feature_importances \u001B[38;5;241m=\u001B[39m \u001B[43mMODEL_DICT\u001B[49m\u001B[43m[\u001B[49m\u001B[43mmodel_name\u001B[49m\u001B[43m]\u001B[49m\u001B[43m[\u001B[49m\u001B[38;5;124;43m'\u001B[39;49m\u001B[38;5;124;43mmodel\u001B[39;49m\u001B[38;5;124;43m'\u001B[39;49m\u001B[43m]\u001B[49m\u001B[38;5;241;43m.\u001B[39;49m\u001B[43mfeature_importances_\u001B[49m\n\u001B[1;32m     14\u001B[0m \u001B[38;5;66;03m# get the feature names\u001B[39;00m\n\u001B[1;32m     15\u001B[0m feature_names \u001B[38;5;241m=\u001B[39m ml_df\u001B[38;5;241m.\u001B[39mdrop(columns\u001B[38;5;241m=\u001B[39m[\u001B[38;5;124m'\u001B[39m\u001B[38;5;124mprice\u001B[39m\u001B[38;5;124m'\u001B[39m])\u001B[38;5;241m.\u001B[39mcolumns\u001B[38;5;241m.\u001B[39mtolist()\n",
      "File \u001B[0;32m~/Documents/github_personal/du/Final-Project-4447/venv/lib/python3.12/site-packages/sklearn/tree/_classes.py:688\u001B[0m, in \u001B[0;36mBaseDecisionTree.feature_importances_\u001B[0;34m(self)\u001B[0m\n\u001B[1;32m    670\u001B[0m \u001B[38;5;129m@property\u001B[39m\n\u001B[1;32m    671\u001B[0m \u001B[38;5;28;01mdef\u001B[39;00m \u001B[38;5;21mfeature_importances_\u001B[39m(\u001B[38;5;28mself\u001B[39m):\n\u001B[1;32m    672\u001B[0m \u001B[38;5;250m    \u001B[39m\u001B[38;5;124;03m\"\"\"Return the feature importances.\u001B[39;00m\n\u001B[1;32m    673\u001B[0m \n\u001B[1;32m    674\u001B[0m \u001B[38;5;124;03m    The importance of a feature is computed as the (normalized) total\u001B[39;00m\n\u001B[0;32m   (...)\u001B[0m\n\u001B[1;32m    686\u001B[0m \u001B[38;5;124;03m        (Gini importance).\u001B[39;00m\n\u001B[1;32m    687\u001B[0m \u001B[38;5;124;03m    \"\"\"\u001B[39;00m\n\u001B[0;32m--> 688\u001B[0m     \u001B[43mcheck_is_fitted\u001B[49m\u001B[43m(\u001B[49m\u001B[38;5;28;43mself\u001B[39;49m\u001B[43m)\u001B[49m\n\u001B[1;32m    690\u001B[0m     \u001B[38;5;28;01mreturn\u001B[39;00m \u001B[38;5;28mself\u001B[39m\u001B[38;5;241m.\u001B[39mtree_\u001B[38;5;241m.\u001B[39mcompute_feature_importances()\n",
      "File \u001B[0;32m~/Documents/github_personal/du/Final-Project-4447/venv/lib/python3.12/site-packages/sklearn/utils/validation.py:1661\u001B[0m, in \u001B[0;36mcheck_is_fitted\u001B[0;34m(estimator, attributes, msg, all_or_any)\u001B[0m\n\u001B[1;32m   1658\u001B[0m     \u001B[38;5;28;01mraise\u001B[39;00m \u001B[38;5;167;01mTypeError\u001B[39;00m(\u001B[38;5;124m\"\u001B[39m\u001B[38;5;132;01m%s\u001B[39;00m\u001B[38;5;124m is not an estimator instance.\u001B[39m\u001B[38;5;124m\"\u001B[39m \u001B[38;5;241m%\u001B[39m (estimator))\n\u001B[1;32m   1660\u001B[0m \u001B[38;5;28;01mif\u001B[39;00m \u001B[38;5;129;01mnot\u001B[39;00m _is_fitted(estimator, attributes, all_or_any):\n\u001B[0;32m-> 1661\u001B[0m     \u001B[38;5;28;01mraise\u001B[39;00m NotFittedError(msg \u001B[38;5;241m%\u001B[39m {\u001B[38;5;124m\"\u001B[39m\u001B[38;5;124mname\u001B[39m\u001B[38;5;124m\"\u001B[39m: \u001B[38;5;28mtype\u001B[39m(estimator)\u001B[38;5;241m.\u001B[39m\u001B[38;5;18m__name__\u001B[39m})\n",
      "\u001B[0;31mNotFittedError\u001B[0m: This DecisionTreeRegressor instance is not fitted yet. Call 'fit' with appropriate arguments before using this estimator."
     ]
    }
   ],
   "execution_count": 65
  },
  {
   "cell_type": "code",
   "id": "e16ae41b-1d74-4635-ab63-840276a28187",
   "metadata": {
    "ExecuteTime": {
     "end_time": "2024-11-10T19:45:17.080717Z",
     "start_time": "2024-11-10T19:45:17.038926Z"
    }
   },
   "source": [
    "plot_feature_importances(model_name='gbr') "
   ],
   "outputs": [
    {
     "ename": "NotFittedError",
     "evalue": "This GradientBoostingRegressor instance is not fitted yet. Call 'fit' with appropriate arguments before using this estimator.",
     "output_type": "error",
     "traceback": [
      "\u001B[0;31m---------------------------------------------------------------------------\u001B[0m",
      "\u001B[0;31mNotFittedError\u001B[0m                            Traceback (most recent call last)",
      "Cell \u001B[0;32mIn[66], line 1\u001B[0m\n\u001B[0;32m----> 1\u001B[0m \u001B[43mplot_feature_importances\u001B[49m\u001B[43m(\u001B[49m\u001B[43mmodel_name\u001B[49m\u001B[38;5;241;43m=\u001B[39;49m\u001B[38;5;124;43m'\u001B[39;49m\u001B[38;5;124;43mgbr\u001B[39;49m\u001B[38;5;124;43m'\u001B[39;49m\u001B[43m)\u001B[49m \n",
      "Cell \u001B[0;32mIn[50], line 12\u001B[0m, in \u001B[0;36mplot_feature_importances\u001B[0;34m(model_name)\u001B[0m\n\u001B[1;32m      9\u001B[0m     \u001B[38;5;28;01mraise\u001B[39;00m \u001B[38;5;167;01mValueError\u001B[39;00m(\u001B[38;5;124mf\u001B[39m\u001B[38;5;124m\"\u001B[39m\u001B[38;5;124mCannot plot feature importance from this model: \u001B[39m\u001B[38;5;132;01m{\u001B[39;00mmodel_name\u001B[38;5;132;01m}\u001B[39;00m\u001B[38;5;124m\"\u001B[39m)\n\u001B[1;32m     11\u001B[0m \u001B[38;5;66;03m# get the feature importances\u001B[39;00m\n\u001B[0;32m---> 12\u001B[0m feature_importances \u001B[38;5;241m=\u001B[39m \u001B[43mMODEL_DICT\u001B[49m\u001B[43m[\u001B[49m\u001B[43mmodel_name\u001B[49m\u001B[43m]\u001B[49m\u001B[43m[\u001B[49m\u001B[38;5;124;43m'\u001B[39;49m\u001B[38;5;124;43mmodel\u001B[39;49m\u001B[38;5;124;43m'\u001B[39;49m\u001B[43m]\u001B[49m\u001B[38;5;241;43m.\u001B[39;49m\u001B[43mfeature_importances_\u001B[49m\n\u001B[1;32m     14\u001B[0m \u001B[38;5;66;03m# get the feature names\u001B[39;00m\n\u001B[1;32m     15\u001B[0m feature_names \u001B[38;5;241m=\u001B[39m ml_df\u001B[38;5;241m.\u001B[39mdrop(columns\u001B[38;5;241m=\u001B[39m[\u001B[38;5;124m'\u001B[39m\u001B[38;5;124mprice\u001B[39m\u001B[38;5;124m'\u001B[39m])\u001B[38;5;241m.\u001B[39mcolumns\u001B[38;5;241m.\u001B[39mtolist()\n",
      "File \u001B[0;32m~/Documents/github_personal/du/Final-Project-4447/venv/lib/python3.12/site-packages/sklearn/ensemble/_gb.py:1018\u001B[0m, in \u001B[0;36mBaseGradientBoosting.feature_importances_\u001B[0;34m(self)\u001B[0m\n\u001B[1;32m    998\u001B[0m \u001B[38;5;129m@property\u001B[39m\n\u001B[1;32m    999\u001B[0m \u001B[38;5;28;01mdef\u001B[39;00m \u001B[38;5;21mfeature_importances_\u001B[39m(\u001B[38;5;28mself\u001B[39m):\n\u001B[1;32m   1000\u001B[0m \u001B[38;5;250m    \u001B[39m\u001B[38;5;124;03m\"\"\"The impurity-based feature importances.\u001B[39;00m\n\u001B[1;32m   1001\u001B[0m \n\u001B[1;32m   1002\u001B[0m \u001B[38;5;124;03m    The higher, the more important the feature.\u001B[39;00m\n\u001B[0;32m   (...)\u001B[0m\n\u001B[1;32m   1016\u001B[0m \u001B[38;5;124;03m        array of zeros.\u001B[39;00m\n\u001B[1;32m   1017\u001B[0m \u001B[38;5;124;03m    \"\"\"\u001B[39;00m\n\u001B[0;32m-> 1018\u001B[0m     \u001B[38;5;28;43mself\u001B[39;49m\u001B[38;5;241;43m.\u001B[39;49m\u001B[43m_check_initialized\u001B[49m\u001B[43m(\u001B[49m\u001B[43m)\u001B[49m\n\u001B[1;32m   1020\u001B[0m     relevant_trees \u001B[38;5;241m=\u001B[39m [\n\u001B[1;32m   1021\u001B[0m         tree\n\u001B[1;32m   1022\u001B[0m         \u001B[38;5;28;01mfor\u001B[39;00m stage \u001B[38;5;129;01min\u001B[39;00m \u001B[38;5;28mself\u001B[39m\u001B[38;5;241m.\u001B[39mestimators_\n\u001B[1;32m   1023\u001B[0m         \u001B[38;5;28;01mfor\u001B[39;00m tree \u001B[38;5;129;01min\u001B[39;00m stage\n\u001B[1;32m   1024\u001B[0m         \u001B[38;5;28;01mif\u001B[39;00m tree\u001B[38;5;241m.\u001B[39mtree_\u001B[38;5;241m.\u001B[39mnode_count \u001B[38;5;241m>\u001B[39m \u001B[38;5;241m1\u001B[39m\n\u001B[1;32m   1025\u001B[0m     ]\n\u001B[1;32m   1026\u001B[0m     \u001B[38;5;28;01mif\u001B[39;00m \u001B[38;5;129;01mnot\u001B[39;00m relevant_trees:\n\u001B[1;32m   1027\u001B[0m         \u001B[38;5;66;03m# degenerate case where all trees have only one node\u001B[39;00m\n",
      "File \u001B[0;32m~/Documents/github_personal/du/Final-Project-4447/venv/lib/python3.12/site-packages/sklearn/ensemble/_gb.py:610\u001B[0m, in \u001B[0;36mBaseGradientBoosting._check_initialized\u001B[0;34m(self)\u001B[0m\n\u001B[1;32m    608\u001B[0m \u001B[38;5;28;01mdef\u001B[39;00m \u001B[38;5;21m_check_initialized\u001B[39m(\u001B[38;5;28mself\u001B[39m):\n\u001B[1;32m    609\u001B[0m \u001B[38;5;250m    \u001B[39m\u001B[38;5;124;03m\"\"\"Check that the estimator is initialized, raising an error if not.\"\"\"\u001B[39;00m\n\u001B[0;32m--> 610\u001B[0m     \u001B[43mcheck_is_fitted\u001B[49m\u001B[43m(\u001B[49m\u001B[38;5;28;43mself\u001B[39;49m\u001B[43m)\u001B[49m\n",
      "File \u001B[0;32m~/Documents/github_personal/du/Final-Project-4447/venv/lib/python3.12/site-packages/sklearn/utils/validation.py:1661\u001B[0m, in \u001B[0;36mcheck_is_fitted\u001B[0;34m(estimator, attributes, msg, all_or_any)\u001B[0m\n\u001B[1;32m   1658\u001B[0m     \u001B[38;5;28;01mraise\u001B[39;00m \u001B[38;5;167;01mTypeError\u001B[39;00m(\u001B[38;5;124m\"\u001B[39m\u001B[38;5;132;01m%s\u001B[39;00m\u001B[38;5;124m is not an estimator instance.\u001B[39m\u001B[38;5;124m\"\u001B[39m \u001B[38;5;241m%\u001B[39m (estimator))\n\u001B[1;32m   1660\u001B[0m \u001B[38;5;28;01mif\u001B[39;00m \u001B[38;5;129;01mnot\u001B[39;00m _is_fitted(estimator, attributes, all_or_any):\n\u001B[0;32m-> 1661\u001B[0m     \u001B[38;5;28;01mraise\u001B[39;00m NotFittedError(msg \u001B[38;5;241m%\u001B[39m {\u001B[38;5;124m\"\u001B[39m\u001B[38;5;124mname\u001B[39m\u001B[38;5;124m\"\u001B[39m: \u001B[38;5;28mtype\u001B[39m(estimator)\u001B[38;5;241m.\u001B[39m\u001B[38;5;18m__name__\u001B[39m})\n",
      "\u001B[0;31mNotFittedError\u001B[0m: This GradientBoostingRegressor instance is not fitted yet. Call 'fit' with appropriate arguments before using this estimator."
     ]
    }
   ],
   "execution_count": 66
  },
  {
   "cell_type": "code",
   "id": "aa9401ce-2c32-474a-a597-55825ae279ee",
   "metadata": {
    "scrolled": true,
    "ExecuteTime": {
     "end_time": "2024-11-10T19:45:17.243400Z",
     "start_time": "2024-11-10T19:45:17.118634Z"
    }
   },
   "source": [
    "plot_feature_importances(model_name='rfr') "
   ],
   "outputs": [
    {
     "ename": "NotFittedError",
     "evalue": "This RandomForestRegressor instance is not fitted yet. Call 'fit' with appropriate arguments before using this estimator.",
     "output_type": "error",
     "traceback": [
      "\u001B[0;31m---------------------------------------------------------------------------\u001B[0m",
      "\u001B[0;31mNotFittedError\u001B[0m                            Traceback (most recent call last)",
      "Cell \u001B[0;32mIn[67], line 1\u001B[0m\n\u001B[0;32m----> 1\u001B[0m \u001B[43mplot_feature_importances\u001B[49m\u001B[43m(\u001B[49m\u001B[43mmodel_name\u001B[49m\u001B[38;5;241;43m=\u001B[39;49m\u001B[38;5;124;43m'\u001B[39;49m\u001B[38;5;124;43mrfr\u001B[39;49m\u001B[38;5;124;43m'\u001B[39;49m\u001B[43m)\u001B[49m \n",
      "Cell \u001B[0;32mIn[50], line 12\u001B[0m, in \u001B[0;36mplot_feature_importances\u001B[0;34m(model_name)\u001B[0m\n\u001B[1;32m      9\u001B[0m     \u001B[38;5;28;01mraise\u001B[39;00m \u001B[38;5;167;01mValueError\u001B[39;00m(\u001B[38;5;124mf\u001B[39m\u001B[38;5;124m\"\u001B[39m\u001B[38;5;124mCannot plot feature importance from this model: \u001B[39m\u001B[38;5;132;01m{\u001B[39;00mmodel_name\u001B[38;5;132;01m}\u001B[39;00m\u001B[38;5;124m\"\u001B[39m)\n\u001B[1;32m     11\u001B[0m \u001B[38;5;66;03m# get the feature importances\u001B[39;00m\n\u001B[0;32m---> 12\u001B[0m feature_importances \u001B[38;5;241m=\u001B[39m \u001B[43mMODEL_DICT\u001B[49m\u001B[43m[\u001B[49m\u001B[43mmodel_name\u001B[49m\u001B[43m]\u001B[49m\u001B[43m[\u001B[49m\u001B[38;5;124;43m'\u001B[39;49m\u001B[38;5;124;43mmodel\u001B[39;49m\u001B[38;5;124;43m'\u001B[39;49m\u001B[43m]\u001B[49m\u001B[38;5;241;43m.\u001B[39;49m\u001B[43mfeature_importances_\u001B[49m\n\u001B[1;32m     14\u001B[0m \u001B[38;5;66;03m# get the feature names\u001B[39;00m\n\u001B[1;32m     15\u001B[0m feature_names \u001B[38;5;241m=\u001B[39m ml_df\u001B[38;5;241m.\u001B[39mdrop(columns\u001B[38;5;241m=\u001B[39m[\u001B[38;5;124m'\u001B[39m\u001B[38;5;124mprice\u001B[39m\u001B[38;5;124m'\u001B[39m])\u001B[38;5;241m.\u001B[39mcolumns\u001B[38;5;241m.\u001B[39mtolist()\n",
      "File \u001B[0;32m~/Documents/github_personal/du/Final-Project-4447/venv/lib/python3.12/site-packages/sklearn/ensemble/_forest.py:673\u001B[0m, in \u001B[0;36mBaseForest.feature_importances_\u001B[0;34m(self)\u001B[0m\n\u001B[1;32m    652\u001B[0m \u001B[38;5;129m@property\u001B[39m\n\u001B[1;32m    653\u001B[0m \u001B[38;5;28;01mdef\u001B[39;00m \u001B[38;5;21mfeature_importances_\u001B[39m(\u001B[38;5;28mself\u001B[39m):\n\u001B[1;32m    654\u001B[0m \u001B[38;5;250m    \u001B[39m\u001B[38;5;124;03m\"\"\"\u001B[39;00m\n\u001B[1;32m    655\u001B[0m \u001B[38;5;124;03m    The impurity-based feature importances.\u001B[39;00m\n\u001B[1;32m    656\u001B[0m \n\u001B[0;32m   (...)\u001B[0m\n\u001B[1;32m    671\u001B[0m \u001B[38;5;124;03m        array of zeros.\u001B[39;00m\n\u001B[1;32m    672\u001B[0m \u001B[38;5;124;03m    \"\"\"\u001B[39;00m\n\u001B[0;32m--> 673\u001B[0m     \u001B[43mcheck_is_fitted\u001B[49m\u001B[43m(\u001B[49m\u001B[38;5;28;43mself\u001B[39;49m\u001B[43m)\u001B[49m\n\u001B[1;32m    675\u001B[0m     all_importances \u001B[38;5;241m=\u001B[39m Parallel(n_jobs\u001B[38;5;241m=\u001B[39m\u001B[38;5;28mself\u001B[39m\u001B[38;5;241m.\u001B[39mn_jobs, prefer\u001B[38;5;241m=\u001B[39m\u001B[38;5;124m\"\u001B[39m\u001B[38;5;124mthreads\u001B[39m\u001B[38;5;124m\"\u001B[39m)(\n\u001B[1;32m    676\u001B[0m         delayed(\u001B[38;5;28mgetattr\u001B[39m)(tree, \u001B[38;5;124m\"\u001B[39m\u001B[38;5;124mfeature_importances_\u001B[39m\u001B[38;5;124m\"\u001B[39m)\n\u001B[1;32m    677\u001B[0m         \u001B[38;5;28;01mfor\u001B[39;00m tree \u001B[38;5;129;01min\u001B[39;00m \u001B[38;5;28mself\u001B[39m\u001B[38;5;241m.\u001B[39mestimators_\n\u001B[1;32m    678\u001B[0m         \u001B[38;5;28;01mif\u001B[39;00m tree\u001B[38;5;241m.\u001B[39mtree_\u001B[38;5;241m.\u001B[39mnode_count \u001B[38;5;241m>\u001B[39m \u001B[38;5;241m1\u001B[39m\n\u001B[1;32m    679\u001B[0m     )\n\u001B[1;32m    681\u001B[0m     \u001B[38;5;28;01mif\u001B[39;00m \u001B[38;5;129;01mnot\u001B[39;00m all_importances:\n",
      "File \u001B[0;32m~/Documents/github_personal/du/Final-Project-4447/venv/lib/python3.12/site-packages/sklearn/utils/validation.py:1661\u001B[0m, in \u001B[0;36mcheck_is_fitted\u001B[0;34m(estimator, attributes, msg, all_or_any)\u001B[0m\n\u001B[1;32m   1658\u001B[0m     \u001B[38;5;28;01mraise\u001B[39;00m \u001B[38;5;167;01mTypeError\u001B[39;00m(\u001B[38;5;124m\"\u001B[39m\u001B[38;5;132;01m%s\u001B[39;00m\u001B[38;5;124m is not an estimator instance.\u001B[39m\u001B[38;5;124m\"\u001B[39m \u001B[38;5;241m%\u001B[39m (estimator))\n\u001B[1;32m   1660\u001B[0m \u001B[38;5;28;01mif\u001B[39;00m \u001B[38;5;129;01mnot\u001B[39;00m _is_fitted(estimator, attributes, all_or_any):\n\u001B[0;32m-> 1661\u001B[0m     \u001B[38;5;28;01mraise\u001B[39;00m NotFittedError(msg \u001B[38;5;241m%\u001B[39m {\u001B[38;5;124m\"\u001B[39m\u001B[38;5;124mname\u001B[39m\u001B[38;5;124m\"\u001B[39m: \u001B[38;5;28mtype\u001B[39m(estimator)\u001B[38;5;241m.\u001B[39m\u001B[38;5;18m__name__\u001B[39m})\n",
      "\u001B[0;31mNotFittedError\u001B[0m: This RandomForestRegressor instance is not fitted yet. Call 'fit' with appropriate arguments before using this estimator."
     ]
    }
   ],
   "execution_count": 67
  },
  {
   "cell_type": "markdown",
   "id": "f57fa5b5-13ec-42c7-8931-51c145105fc8",
   "metadata": {},
   "source": [
    "Although the top 3 features for each model are all the same, the rankings of median_monthly_housing_cost and latitude are swapped in the RFR model which has latitude as the second most important feature, and median monthly housing cost as the third. The feature importance rankings after the top 3 features were more mixed among the different models. Days on Market, Density, and zip code 02115 appeared to have some effect on price but were not as significant as square footage, median monthly housing cost, and latitude."
   ]
  },
  {
   "cell_type": "code",
   "id": "1d667891-0901-46c8-882d-5a7861271cff",
   "metadata": {
    "ExecuteTime": {
     "end_time": "2024-11-10T19:45:17.244322Z",
     "start_time": "2024-11-10T19:45:17.244271Z"
    }
   },
   "source": [
    "plot_actual_vs_predicted('ols', MODEL_DICT)"
   ],
   "outputs": [],
   "execution_count": null
  },
  {
   "cell_type": "code",
   "id": "e592ca23-7dfe-4766-b14f-340fc9ec8cc6",
   "metadata": {},
   "source": [
    "plot_actual_vs_predicted('tree', MODEL_DICT)"
   ],
   "outputs": [],
   "execution_count": null
  },
  {
   "cell_type": "code",
   "id": "bdabd385-0ff2-4142-87a9-e456b0b8fc4c",
   "metadata": {},
   "source": [
    "plot_actual_vs_predicted('rfr', MODEL_DICT)"
   ],
   "outputs": [],
   "execution_count": null
  },
  {
   "cell_type": "code",
   "id": "92f592e9-9231-4764-968d-0176772bcd51",
   "metadata": {
    "ExecuteTime": {
     "end_time": "2024-11-10T19:45:17.257445Z",
     "start_time": "2024-11-10T19:45:17.246103Z"
    }
   },
   "source": [
    "plot_actual_vs_predicted('gbr', MODEL_DICT)"
   ],
   "outputs": [
    {
     "ename": "KeyError",
     "evalue": "'test_results'",
     "output_type": "error",
     "traceback": [
      "\u001B[0;31m---------------------------------------------------------------------------\u001B[0m",
      "\u001B[0;31mKeyError\u001B[0m                                  Traceback (most recent call last)",
      "Cell \u001B[0;32mIn[68], line 1\u001B[0m\n\u001B[0;32m----> 1\u001B[0m \u001B[43mplot_actual_vs_predicted\u001B[49m\u001B[43m(\u001B[49m\u001B[38;5;124;43m'\u001B[39;49m\u001B[38;5;124;43mgbr\u001B[39;49m\u001B[38;5;124;43m'\u001B[39;49m\u001B[43m,\u001B[49m\u001B[43m \u001B[49m\u001B[43mMODEL_DICT\u001B[49m\u001B[43m)\u001B[49m\n",
      "Cell \u001B[0;32mIn[51], line 14\u001B[0m, in \u001B[0;36mplot_actual_vs_predicted\u001B[0;34m(model_name, model_dict)\u001B[0m\n\u001B[1;32m      2\u001B[0m \u001B[38;5;250m\u001B[39m\u001B[38;5;124;03m\"\"\"\u001B[39;00m\n\u001B[1;32m      3\u001B[0m \u001B[38;5;124;03mPlots Actual vs Predicted prices for the given model on the test data\u001B[39;00m\n\u001B[1;32m      4\u001B[0m \n\u001B[0;32m   (...)\u001B[0m\n\u001B[1;32m     10\u001B[0m \u001B[38;5;124;03m- scatter plot of Actual vs Predicted values for model\u001B[39;00m\n\u001B[1;32m     11\u001B[0m \u001B[38;5;124;03m\"\"\"\u001B[39;00m\n\u001B[1;32m     13\u001B[0m \u001B[38;5;66;03m# extract test data actuals vs preds from model_dict\u001B[39;00m\n\u001B[0;32m---> 14\u001B[0m test_results \u001B[38;5;241m=\u001B[39m \u001B[43mmodel_dict\u001B[49m\u001B[43m[\u001B[49m\u001B[43mmodel_name\u001B[49m\u001B[43m]\u001B[49m\u001B[43m[\u001B[49m\u001B[38;5;124;43m'\u001B[39;49m\u001B[38;5;124;43mtest_results\u001B[39;49m\u001B[38;5;124;43m'\u001B[39;49m\u001B[43m]\u001B[49m\n\u001B[1;32m     15\u001B[0m test_actual \u001B[38;5;241m=\u001B[39m test_results[\u001B[38;5;124m'\u001B[39m\u001B[38;5;124mactual_price\u001B[39m\u001B[38;5;124m'\u001B[39m]\n\u001B[1;32m     16\u001B[0m test_predicted \u001B[38;5;241m=\u001B[39m test_results[\u001B[38;5;124m'\u001B[39m\u001B[38;5;124mpredicted_price\u001B[39m\u001B[38;5;124m'\u001B[39m]\n",
      "\u001B[0;31mKeyError\u001B[0m: 'test_results'"
     ]
    }
   ],
   "execution_count": 68
  },
  {
   "cell_type": "markdown",
   "id": "067d6d8d-5426-458b-bd97-2f0d49663b33",
   "metadata": {},
   "source": [
    "## Model Results after Outlier Removal / Hyperparameter Tuning\n",
    "\n",
    "Test RMSE  \n",
    "OLS: 868,696.38 USD  \n",
    "Tree: 733,867.41 USD  \n",
    "Random Forest: 641,707.12 USD  \n",
    "Gradient Boosting: 616,504.17 USD  \n",
    "\n",
    "Test Mean Residuals  \n",
    "OLS: -4,852.56 USD  \n",
    "Tree: -6,424.10 USD  \n",
    "Random Forest: 564.67 USD  \n",
    "Gradient Boosting: -9,522.15 USD  \n",
    "\n",
    "When taking it to account the mean resdiuals and RMSE, it appears the best performing models were once again the Random Forest Regressor (RFR) and the Gradient Boost Regressor (GBR). The Random Forest Regressor once again achieved the lowest mean residuals and the second lowest RMSE. The Gradient Boost Regressor achieved the lowest RMSE and the second lowest mean residuals. The RMSE of the RFR model was 25,000 more than the GBR model, but the mean residuals was much closer to 0 at 564.67 USD, while the GBR model had the highest absolute mean residuals at -9,522.15 USD. \n",
    "\n",
    "If we were primarily concerned with model bias, we would select the Random Forest Regressor once again. A model with mean residuals close to zero indicates that the model is not consistently overestimating or underestimating the target value, making it more reliable in terms of bias. However, when compared to the mean housing price of the data used to train the model of 1,477,669 USD - a mean residuals of -9,522 USD is not very significant. Therefore, for our final model we will choose the Gradient Boosting Regressor with the lowest test RMSE of 616,504.17 USD as our final model.\n",
    "\n",
    "Gradient Boost Regressor  \n",
    "Test RMSE: 616,504.17 USD  \n",
    "Test Mean Residuals: -9,522.15 USD  \n",
    "\n",
    "Tuning hyperparameters for GBR\n",
    "Best parameters for GBR: {'model__learning_rate': 0.1, 'model__max_depth': 5, 'model__n_estimators': 200}\n",
    "Train RMSE: 112593.2674, Test RMSE: 616504.1662"
   ]
  },
  {
   "cell_type": "code",
   "id": "1eecfca2-4907-4a01-9fad-9352facc91f9",
   "metadata": {
    "ExecuteTime": {
     "end_time": "2024-11-10T19:45:17.291778Z",
     "start_time": "2024-11-10T19:45:17.284148Z"
    }
   },
   "source": [
    "# median price of df with removed outliers\n",
    "df_no_outliers['price'].median()"
   ],
   "outputs": [
    {
     "ename": "NameError",
     "evalue": "name 'df_no_outliers' is not defined",
     "output_type": "error",
     "traceback": [
      "\u001B[0;31m---------------------------------------------------------------------------\u001B[0m",
      "\u001B[0;31mNameError\u001B[0m                                 Traceback (most recent call last)",
      "Cell \u001B[0;32mIn[69], line 2\u001B[0m\n\u001B[1;32m      1\u001B[0m \u001B[38;5;66;03m# median price of df with removed outliers\u001B[39;00m\n\u001B[0;32m----> 2\u001B[0m \u001B[43mdf_no_outliers\u001B[49m[\u001B[38;5;124m'\u001B[39m\u001B[38;5;124mprice\u001B[39m\u001B[38;5;124m'\u001B[39m]\u001B[38;5;241m.\u001B[39mmedian()\n",
      "\u001B[0;31mNameError\u001B[0m: name 'df_no_outliers' is not defined"
     ]
    }
   ],
   "execution_count": 69
  },
  {
   "cell_type": "code",
   "id": "146748be-4377-408e-8bd0-5e602d5bdcb7",
   "metadata": {
    "ExecuteTime": {
     "end_time": "2024-11-10T19:45:17.386477Z",
     "start_time": "2024-11-10T19:45:17.379304Z"
    }
   },
   "source": [
    "# mean price of df with removed outliers\n",
    "df_no_outliers['price'].mean()"
   ],
   "outputs": [
    {
     "ename": "NameError",
     "evalue": "name 'df_no_outliers' is not defined",
     "output_type": "error",
     "traceback": [
      "\u001B[0;31m---------------------------------------------------------------------------\u001B[0m",
      "\u001B[0;31mNameError\u001B[0m                                 Traceback (most recent call last)",
      "Cell \u001B[0;32mIn[70], line 2\u001B[0m\n\u001B[1;32m      1\u001B[0m \u001B[38;5;66;03m# mean price of df with removed outliers\u001B[39;00m\n\u001B[0;32m----> 2\u001B[0m \u001B[43mdf_no_outliers\u001B[49m[\u001B[38;5;124m'\u001B[39m\u001B[38;5;124mprice\u001B[39m\u001B[38;5;124m'\u001B[39m]\u001B[38;5;241m.\u001B[39mmean()\n",
      "\u001B[0;31mNameError\u001B[0m: name 'df_no_outliers' is not defined"
     ]
    }
   ],
   "execution_count": 70
  },
  {
   "cell_type": "markdown",
   "id": "25ab768a-2c11-43de-becb-b2f512fe987c",
   "metadata": {},
   "source": [
    "Test RMSE and Test Mean Residuals comparison plot."
   ]
  },
  {
   "cell_type": "code",
   "id": "41b310c4-17a7-4a70-a518-73b3060b085c",
   "metadata": {
    "ExecuteTime": {
     "end_time": "2024-11-10T19:45:17.625851Z",
     "start_time": "2024-11-10T19:45:17.436595Z"
    }
   },
   "source": [
    "data = {\n",
    "    'Model': ['OLS', 'Tree', 'Random Forest', 'Gradient Boosting'],\n",
    "    'Test RMSE': [868696.38, 733867.41, 641707.12, 616504.17],\n",
    "    'Test Mean Residuals': [-4852.56, -6424.10, 564.67, -9522.15]\n",
    "}\n",
    "\n",
    "df = pd.DataFrame(data)\n",
    "fig, (ax1, ax2) = plt.subplots(1, 2, figsize=(14, 6))\n",
    "sns.set(style=\"whitegrid\")\n",
    "\n",
    "# plot bars for Test RMSE on ax1\n",
    "sns.barplot(x=df['Model'], y=df['Test RMSE'], ax=ax1, palette='Blues_d', edgecolor='black')\n",
    "ax1.set_title('Test RMSE by Model', fontsize=16, fontweight='bold', color='darkblue')\n",
    "ax1.set_ylabel('Test RMSE (USD)', fontsize=12)\n",
    "ax1.set_xlabel('Model', fontsize=12)\n",
    "ax1.tick_params(axis='both', which='major', labelsize=10)\n",
    "\n",
    "# plot bars for Test Mean Residuals on ax2\n",
    "sns.barplot(x=df['Model'], y=df['Test Mean Residuals'], ax=ax2, palette='Reds_d', edgecolor='black')\n",
    "ax2.set_title('Test Mean Residuals by Model', fontsize=16, fontweight='bold', color='darkred')\n",
    "ax2.set_ylabel('Test Mean Residuals (USD)', fontsize=12)\n",
    "ax2.set_xlabel('Model', fontsize=12)\n",
    "ax2.tick_params(axis='both', which='major', labelsize=10)\n",
    "\n",
    "# add gridlines\n",
    "ax1.grid(True, linestyle='--', alpha=0.7)\n",
    "ax2.grid(True, linestyle='--', alpha=0.7)\n",
    "plt.tight_layout()\n",
    "plt.show()"
   ],
   "outputs": [
    {
     "name": "stderr",
     "output_type": "stream",
     "text": [
      "/var/folders/0p/2j4j5g2150b9zthf4j3gkgkr0000gn/T/ipykernel_17748/2319287407.py:12: FutureWarning: \n",
      "\n",
      "Passing `palette` without assigning `hue` is deprecated and will be removed in v0.14.0. Assign the `x` variable to `hue` and set `legend=False` for the same effect.\n",
      "\n",
      "  sns.barplot(x=df['Model'], y=df['Test RMSE'], ax=ax1, palette='Blues_d', edgecolor='black')\n",
      "/var/folders/0p/2j4j5g2150b9zthf4j3gkgkr0000gn/T/ipykernel_17748/2319287407.py:19: FutureWarning: \n",
      "\n",
      "Passing `palette` without assigning `hue` is deprecated and will be removed in v0.14.0. Assign the `x` variable to `hue` and set `legend=False` for the same effect.\n",
      "\n",
      "  sns.barplot(x=df['Model'], y=df['Test Mean Residuals'], ax=ax2, palette='Reds_d', edgecolor='black')\n"
     ]
    },
    {
     "data": {
      "text/plain": [
       "<Figure size 1400x600 with 2 Axes>"
      ],
      "image/png": "[encoded data removed]"
     },
     "metadata": {},
     "output_type": "display_data"
    }
   ],
   "execution_count": 71
  },
  {
   "cell_type": "markdown",
   "id": "25315c6a-8454-44f2-b9dd-34eaafed7fc5",
   "metadata": {},
   "source": [
    "## Reflection on Effect of Outlier Removal\n",
    "\n",
    "After removing outliers and tuning our hyperparameters, there is a significant improvement in the test RMSE and mean residuals of our models. However, it is important to note that after removing the 80 most extreme outliers that fell outside of our defined threshold, the variance of the target-variable was drastically reduced. In the original DF, the true price std dev was 3.52 Million. In the modified DF, true price std dev was 1.27 million. This reduction in price variance likely played a large role in the reduction of the RMSE of our tuned models.\n",
    "\n",
    "Ratio of previous vs. new true price std. dev = 3.52 Million/1.27 Million = 2.77\n",
    "\n",
    "The RMSE metric indicates that, on average, the GBR model deviates from the true values by 616,504.17 USD. RMSE can be interpreted as the standard deviation of the prediction errors. The GBR's RMSE is significantly lower than 1 standard deviation of the true house prices, which was 1.27 Million in our data. This suggests that the model’s errors are less variable than the actual prices.\n",
    "\n",
    "The feature importances for the second round of trained models were approximate to the original models. When comparing the original GBR features importance, there are no standout differences from the second GBR model that was trained. The Top 3 important features in order are still as follows: square footage, latitude, and median monthly housing cost.\n",
    "\n",
    "Square Footage: High positive correlation to price.\n",
    "\n",
    "Latitude: Information on location tells us that it has predictive value.\n",
    "\n",
    "Median Monthly Housing Cost: Provides information the median monthly housing cost by Tract according to the US Census - providing useful information about housing prices in the area.\n",
    "\n",
    "Actuals vs Predicted plots: \n",
    "The actuals vs predicted plots are on a different scale now that the extreme outliers have been removed. It may appear there are less outliers in the original actual vs predicted plots, but the range in the original plots is from 0 to 40 million, while the range on the second round of plots are from 0 to 7 Million. This means the second round of plots are zoomed in significantly when compared to the first, and the predicted prices are actually far closer to the actuals housing prices than when compared to the original. "
   ]
  },
  {
   "cell_type": "markdown",
   "id": "a23d6aae6a5ed66a",
   "metadata": {},
   "source": [
    "# Conclusion\n",
    "Large Variations in housing price, even among homes located in the same county, present unique challenges when attempting to predict housing prices. \n",
    "\n",
    "## Impact and Initial Goal\n",
    "Our planned goal was to analyze and understand the key factors that influence the home prices in Suffolk County, MA (Boston, MA). Additionally, we wanted to see if we could find insights that could help homebuyers to improve their chances of achieving homeownership in the future. \n",
    "\n",
    "### Goal #1 - Analysis and Understanding of Key Driving Factors of Price\n",
    "The key features that were identified from the models that were exposed to the complete data, as well as the tuned models that were exposed to data without the outliers, were the following: \n",
    "- square footage: higher squared footage leads to higher prices.\n",
    "- latitude: higher latitude in Suffolk County somewhat leads to higher prices.\n",
    "- median housing price: US Census data on median housing price is a quick predictor of expected housing prices today.\n",
    "- days on market: slight positive correlation with housing price. This is intuitive, as higher prices homes may take longer to sell. If a house is priced competitively (lower), it will likely not be on the market as long.\n",
    "- density: positive correlation with price. The more amount of residents per area, the higher the housing prices in a particular tract. This is intuitive as it likely indicates a higher amount of housing demand for a given supply - a phenomenon which generally increases prices.\n",
    "- zip codes: some zip codes have a slight positive correlation with price, and others have a are slightly negatively correlated with price. This is likely due to characteristics of the area that are not necessarily captures in our models, like proximity to businesses, quality of public schools, and crime rates.\n",
    "\n",
    "### Goal #2 - Provide Homebuyers with Insights to Achieve Homeownership\n",
    "Homeowners that want to minimize their cost of buying a house should look at houses with small square footage, located in the southern part of Suffolk County, and find tracts where median monthly housing cost are lower per the US Census. They can also look for housing in areas that are less densely populated and seek out houses that have been on the market for a while. Zip Code 02128 was the only zip code in our final model that was negatively associated with price, homebuyers in Suffolk County can search for listings in this Zip Code and avoid looking for houses in Zip Codes 02115 and 02116, both of which were positively correlated with price. \n",
    "\n",
    "## Initial Project Hypothesis\n",
    "At the beginning of the poject we expected that the factors \"income\", \"average levels of education\", and \"population density\" were positively correlated with price. The most important US Census feature used by our models is \"median housing price\". Density had a weak correlation with price, but not as strong as we intitially hypothesized. This is likely because population density, does not directly correspond to the ratio of houses on the market and people looking to buy a house in the area. We looked at unemployment rates of those with bachelor's degrees, but did not find a strong correlation with housing price. This is likely because those that are unemployed are unable to afford a home to begin with, and therefore do not have a large impact on the cost of housing in the area.\n",
    "\n",
    "## Will this Information Benefit Prospective Home-Buyers? \n",
    "We believe that some of this information will be useful to prospective home-buyers, however, much of the results revealed by our models revealed commonly known information. It is self-evident that larger houses with more square footage are more expensive, and that areas with higher median monthly housing cost, have more expensive housing. Some of the more interesting results were based on location, days on market, and particular zip codes. These are characteristics that are may be less known to the public, and could actually provide some valuable information, although these features do not have as strong an impact on price as square footage.\n",
    "\n",
    "Nevertheless, there are important factors that we did not consider in the scope of our project. These factors include: images of house interiors and backyard/frontyard, the size of housing plots, proximity to businesses and quality schools, crime rate, etc. In this project we focused on data that could be quickly quantified, such as bedroom count, bathroom count, year of construction, median housing price, education level, unemployment rate etc. The features that were analyzed should not be considered as the only factors that impact housing price.\n",
    "\n",
    "## Final Thoughts / Reflection on Project Success\n",
    "Although our results were not as transformative as we had hoped, any insights that give homebuyers a slight advantage in the market are valuable. To truly understand the nuances of housing prices and find more affordable options, homebuyers should take a holistic view of the housing market. Prospective buyers should create a thorough list of the housing characteristics that are less important to them. By identifying these areas where they are willing to compromise, they can make smaller sacrifices that collectively lead to substantial cost savings, potentially making their first home purchase possible."
   ]
  },
  {
   "metadata": {
    "ExecuteTime": {
     "end_time": "2024-11-10T19:45:17.628534Z",
     "start_time": "2024-11-10T19:45:17.627110Z"
    }
   },
   "cell_type": "code",
   "source": "",
   "id": "ca74b41e351f8f83",
   "outputs": [],
   "execution_count": 71
  }
 ],
 "metadata": {
  "kernelspec": {
   "display_name": "Python 3 (ipykernel)",
   "language": "python",
   "name": "python3"
  },
  "language_info": {
   "codemirror_mode": {
    "name": "ipython",
    "version": 3
   },
   "file_extension": ".py",
   "mimetype": "text/x-python",
   "name": "python",
   "nbconvert_exporter": "python",
   "pygments_lexer": "ipython3",
   "version": "3.12.7"
  }
 },
 "nbformat": 4,
 "nbformat_minor": 5
}
